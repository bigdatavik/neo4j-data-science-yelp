{
 "cells": [
  {
   "cell_type": "markdown",
   "metadata": {},
   "source": [
    "This notebook loads Yelp data related to Toronto restaurants only.  This will eventually replace the data model in the original data load module."
   ]
  },
  {
   "cell_type": "code",
   "execution_count": 3,
   "metadata": {
    "collapsed": true
   },
   "outputs": [],
   "source": [
    "from neo4j.v1 import GraphDatabase, basic_auth\n",
    "import csv\n",
    "import json\n",
    "import os\n",
    "\n",
    "data_dir = '/Users/gtenorio/neo4j_yelp_toronto/import/'"
   ]
  },
  {
   "cell_type": "code",
   "execution_count": 4,
   "metadata": {
    "collapsed": true
   },
   "outputs": [],
   "source": [
    "# Helper functions\n",
    "\n",
    "# Specify CSV parameters through custom dialect\n",
    "csv.register_dialect('custom', escapechar='\\\\', quotechar='\"', quoting=csv.QUOTE_ALL)\n",
    "\n",
    "\n",
    "def identity(x): \n",
    "    return x\n",
    "\n",
    "\n",
    "def select(keys, d):\n",
    "    return {key: value for (key, value) in d.items() if key in set(keys)}\n",
    "\n",
    "\n",
    "# Converts the given value to a CSV formatted string\n",
    "def toCSV(value):\n",
    "    # Represent a list of items as a semicolon delimited string\n",
    "    if type(value) == list:\n",
    "        return ';'.join(value)\n",
    "\n",
    "    # Surround fields with double quotes and handle escape characters\n",
    "    if type(value) == str:\n",
    "        return value.replace('\"', '').replace('\\\\', '')\n",
    "\n",
    "    return value\n",
    "\n",
    "\n",
    "# Converts a dict to a list of CSV formatted strings, optionally restricting\n",
    "# converted fields by passing in an ordered list of fields\n",
    "def dictToCSV(obj, fields=None):\n",
    "    fields = fields if fields is not None else obj.keys()\n",
    "    return [toCSV(obj[k]) for k in fields]\n",
    "\n",
    "\n",
    "# Takes a JSON file and writes it as a CSV file\n",
    "def jsonToCSVFile(json_file, csv_file=None, transform=identity):\n",
    "\n",
    "    root, ext = os.path.splitext(json_file)\n",
    "    csv_file = csv_file if csv_file else root + '.csv'\n",
    "\n",
    "    with open(json_file, 'r') as jsonFile, \\\n",
    "         open(csv_file, 'w') as csvFile:\n",
    "\n",
    "        objs = transform(map(json.loads, jsonFile))\n",
    "        first = next(objs)\n",
    "        fields = first.keys()\n",
    "\n",
    "        writer = csv.writer(csvFile, dialect='custom')\n",
    "        writer.writerow(fields)         # write header\n",
    "\n",
    "        writer.writerow(dictToCSV(first, fields))\n",
    "        for obj in objs:\n",
    "            writer.writerow(dictToCSV(obj, fields))"
   ]
  },
  {
   "cell_type": "markdown",
   "metadata": {},
   "source": [
    "### Part 1: Convert Yelp JSON files to CSV format"
   ]
  },
  {
   "cell_type": "markdown",
   "metadata": {},
   "source": [
    "#### A. Convert Business streaming JSON file to CSV"
   ]
  },
  {
   "cell_type": "code",
   "execution_count": 5,
   "metadata": {},
   "outputs": [
    {
     "name": "stdout",
     "output_type": "stream",
     "text": [
      "CPU times: user 4.4 s, sys: 157 ms, total: 4.56 s\n",
      "Wall time: 4.63 s\n"
     ]
    }
   ],
   "source": [
    "%%time\n",
    "business_fields = ['business_id', 'name', 'categories', 'neighborhood', 'stars']\n",
    "jsonToCSVFile(data_dir + \"business.json\",\n",
    "              transform=lambda business: (select(business_fields, b) for b in business if b[\"city\"] == 'Toronto' and 'Restaurants' in b['categories']))\n"
   ]
  },
  {
   "cell_type": "markdown",
   "metadata": {},
   "source": [
    "#### b. Convert User streaming JSON file to CSV"
   ]
  },
  {
   "cell_type": "code",
   "execution_count": 6,
   "metadata": {},
   "outputs": [
    {
     "name": "stdout",
     "output_type": "stream",
     "text": [
      "CPU times: user 56.5 s, sys: 2.11 s, total: 58.6 s\n",
      "Wall time: 59.6 s\n"
     ]
    }
   ],
   "source": [
    "%%time\n",
    "user_fields = ['user_id','name','average_stars']\n",
    "jsonToCSVFile(data_dir + \"user.json\", transform=lambda user: (select(user_fields, u) for u in user))"
   ]
  },
  {
   "cell_type": "markdown",
   "metadata": {},
   "source": [
    "#### c. Convert Review streaming JSON file to CSV"
   ]
  },
  {
   "cell_type": "code",
   "execution_count": 7,
   "metadata": {},
   "outputs": [
    {
     "name": "stdout",
     "output_type": "stream",
     "text": [
      "CPU times: user 2min 10s, sys: 5.07 s, total: 2min 15s\n",
      "Wall time: 2min 21s\n"
     ]
    }
   ],
   "source": [
    "%%time\n",
    "review_fields = ['user_id', 'business_id', 'stars']\n",
    "jsonToCSVFile(data_dir + \"review.json\", transform=lambda review: (select(review_fields, r) for r in review))"
   ]
  },
  {
   "cell_type": "markdown",
   "metadata": {},
   "source": [
    "### Part 2: Load CSV files into Neo4j"
   ]
  },
  {
   "cell_type": "code",
   "execution_count": 8,
   "metadata": {
    "collapsed": true
   },
   "outputs": [],
   "source": [
    "driver = GraphDatabase.driver(\"bolt://localhost:7687\", auth=basic_auth(\"neo4j\", \"neo4jneo4j\"))"
   ]
  },
  {
   "cell_type": "code",
   "execution_count": null,
   "metadata": {
    "collapsed": true
   },
   "outputs": [],
   "source": [
    "%%time\n",
    "\n",
    "# Each time this notebook is run, we start with an empty graph database\n",
    "with driver.session() as session:\n",
    "    session.run(\"MATCH (n) DETACH DELETE n\")"
   ]
  },
  {
   "cell_type": "code",
   "execution_count": 27,
   "metadata": {},
   "outputs": [
    {
     "name": "stdout",
     "output_type": "stream",
     "text": [
      "CPU times: user 4.27 ms, sys: 2.24 ms, total: 6.51 ms\n",
      "Wall time: 108 ms\n"
     ]
    }
   ],
   "source": [
    "%%time\n",
    "\n",
    "# Drop constraints from our database\n",
    "with driver.session() as session:\n",
    "    session.run(\"DROP CONSTRAINT ON (business:Business)   ASSERT business.id   IS UNIQUE\")\n",
    "    session.run(\"DROP CONSTRAINT ON (category:Category)   ASSERT category.name IS UNIQUE\")\n",
    "    session.run(\"DROP CONSTRAINT ON (user:User)           ASSERT user.id       IS UNIQUE\")\n",
    "    session.run(\"DROP CONSTRAINT ON (review:Review)       ASSERT review.id     IS UNIQUE\")"
   ]
  },
  {
   "cell_type": "code",
   "execution_count": 9,
   "metadata": {},
   "outputs": [
    {
     "name": "stdout",
     "output_type": "stream",
     "text": [
      "CPU times: user 4.06 ms, sys: 2.27 ms, total: 6.33 ms\n",
      "Wall time: 266 ms\n"
     ]
    }
   ],
   "source": [
    "%%time\n",
    "\n",
    "# Create constraints in our database\n",
    "with driver.session() as session:\n",
    "    session.run(\"CREATE CONSTRAINT ON (business:Business)   ASSERT business.id   IS UNIQUE\")\n",
    "    session.run(\"CREATE CONSTRAINT ON (category:Category)   ASSERT category.name IS UNIQUE\")\n",
    "    session.run(\"CREATE CONSTRAINT ON (user:User)           ASSERT user.id       IS UNIQUE\")\n",
    "    session.run(\"CREATE CONSTRAINT ON (review:Review)       ASSERT review.id     IS UNIQUE\")"
   ]
  },
  {
   "cell_type": "markdown",
   "metadata": {},
   "source": [
    "#### A. Load Business data into Neo4j"
   ]
  },
  {
   "cell_type": "code",
   "execution_count": 10,
   "metadata": {},
   "outputs": [
    {
     "name": "stdout",
     "output_type": "stream",
     "text": [
      "CPU times: user 2.74 ms, sys: 2.56 ms, total: 5.29 ms\n",
      "Wall time: 4.73 s\n"
     ]
    }
   ],
   "source": [
    "%%time\n",
    "\n",
    "load_business = \"\"\"\n",
    "    LOAD CSV WITH HEADERS FROM {input_dir} AS line                      \n",
    "    WITH line \n",
    "\n",
    "    // Create Business nodes\n",
    "    CREATE (business:Business {id: line.business_id})\n",
    "    SET business.name         = line.name,\n",
    "        business.neighborhood = line.neighborhood,\n",
    "        business.avg_rating   = toFloat(line.stars)\n",
    "\n",
    "    // Create Category nodes\n",
    "    WITH line, business, split(line.categories, \";\") as cat_list\n",
    "    UNWIND cat_list as cat\n",
    "    MERGE (category:Category {name: cat})\n",
    "    CREATE (business)-[:IN_CATEGORY]->(category)\n",
    "    \"\"\"\n",
    "\n",
    "with driver.session() as session:\n",
    "    session.run(load_business, input_dir='file:///business.csv')"
   ]
  },
  {
   "cell_type": "code",
   "execution_count": 11,
   "metadata": {},
   "outputs": [
    {
     "name": "stdout",
     "output_type": "stream",
     "text": [
      "CPU times: user 2.05 ms, sys: 2.9 ms, total: 4.95 ms\n",
      "Wall time: 681 ms\n"
     ]
    }
   ],
   "source": [
    "%%time\n",
    "\n",
    "# Delete category node with name \"Restaurants\" as we only care about restaurant sub-categories.\n",
    "# This is important for when we do Label Propagation.\n",
    "# We must first delete all relationships associated with \"Restaurants\" node.\n",
    "\n",
    "delete_rels = \"\"\"\n",
    "              MATCH (b:Business)-[r:IN_CATEGORY]->(c:Category {name: 'Restaurants' })\n",
    "              DELETE r\n",
    "              \"\"\"\n",
    "\n",
    "with driver.session() as session:\n",
    "    session.run(delete_rels)"
   ]
  },
  {
   "cell_type": "code",
   "execution_count": 12,
   "metadata": {},
   "outputs": [
    {
     "name": "stdout",
     "output_type": "stream",
     "text": [
      "CPU times: user 1.61 ms, sys: 1.66 ms, total: 3.27 ms\n",
      "Wall time: 50.4 ms\n"
     ]
    }
   ],
   "source": [
    "%%time\n",
    "\n",
    "# Now we can delete category node \"Restaurants\".\n",
    "\n",
    "delete_node = \"\"\"\n",
    "              MATCH (c:Category {name: 'Restaurants' })\n",
    "              DELETE c\n",
    "              \"\"\"\n",
    "\n",
    "with driver.session() as session:\n",
    "    session.run(delete_node)"
   ]
  },
  {
   "cell_type": "markdown",
   "metadata": {},
   "source": [
    "#### b. Load Review data into Neo4j"
   ]
  },
  {
   "cell_type": "code",
   "execution_count": 13,
   "metadata": {},
   "outputs": [
    {
     "name": "stdout",
     "output_type": "stream",
     "text": [
      "CPU times: user 8.01 ms, sys: 5.79 ms, total: 13.8 ms\n",
      "Wall time: 3min 3s\n"
     ]
    }
   ],
   "source": [
    "%%time\n",
    "\n",
    "# Note: We only want to load reviews associated with the businesses already in the graph (ie: restaurants in Toronto)\n",
    "\n",
    "load_review = \"\"\"\n",
    "    // Load and commit every 50000 records\n",
    "    USING PERIODIC COMMIT 50000 \n",
    "    LOAD CSV WITH HEADERS FROM {input_dir} AS line                      \n",
    "    WITH line \n",
    "\n",
    "    // Only care about businesses that are already in the graph (ie: Toronto restaurants)\n",
    "    MATCH (business:Business {id:line.business_id})\n",
    "    MERGE (user:User         {id:line.user_id})\n",
    "    \n",
    "    CREATE (user)-[:REVIEWED  {stars:toInteger(line.stars)}]->(business)\n",
    "    \"\"\"\n",
    "\n",
    "with driver.session() as session:\n",
    "    session.run(load_review, input_dir='file:///review.csv')"
   ]
  },
  {
   "cell_type": "markdown",
   "metadata": {},
   "source": [
    "#### c. Load User data into Neo4j"
   ]
  },
  {
   "cell_type": "code",
   "execution_count": 14,
   "metadata": {},
   "outputs": [
    {
     "name": "stdout",
     "output_type": "stream",
     "text": [
      "CPU times: user 4.9 ms, sys: 4.87 ms, total: 9.78 ms\n",
      "Wall time: 1min 28s\n"
     ]
    }
   ],
   "source": [
    "%%time\n",
    "\n",
    "# Note: We only care about setting properties for users who are already in the graph.\n",
    "\n",
    "load_user = \"\"\"\n",
    "    USING PERIODIC COMMIT 50000 \n",
    "    LOAD CSV WITH HEADERS FROM {input_dir} AS line                      \n",
    "    WITH line \n",
    "\n",
    "    // Set properties on User nodes already in the graph\n",
    "    MATCH (user:User {id: line.user_id})\n",
    "    SET user.name              = line.name,\n",
    "        user.avg_review_rating = toFloat(line.average_stars)\n",
    "    \"\"\"\n",
    "\n",
    "with driver.session() as session:\n",
    "    session.run(load_user, input_dir='file:///user.csv')"
   ]
  },
  {
   "cell_type": "code",
   "execution_count": null,
   "metadata": {
    "collapsed": true
   },
   "outputs": [],
   "source": []
  }
 ],
 "metadata": {
  "kernelspec": {
   "display_name": "Python 3",
   "language": "python",
   "name": "python3"
  },
  "language_info": {
   "codemirror_mode": {
    "name": "ipython",
    "version": 3
   },
   "file_extension": ".py",
   "mimetype": "text/x-python",
   "name": "python",
   "nbconvert_exporter": "python",
   "pygments_lexer": "ipython3",
   "version": "3.6.1"
  }
 },
 "nbformat": 4,
 "nbformat_minor": 2
}
