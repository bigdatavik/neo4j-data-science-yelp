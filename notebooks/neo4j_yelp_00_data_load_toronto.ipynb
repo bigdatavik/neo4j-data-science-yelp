{
 "cells": [
  {
   "cell_type": "markdown",
   "metadata": {},
   "source": [
    "This notebook loads Yelp data related to Toronto restaurants only.  This will eventually replace the data model in the original data load module."
   ]
  },
  {
   "cell_type": "code",
   "execution_count": 273,
   "metadata": {
    "collapsed": true
   },
   "outputs": [],
   "source": [
    "from neo4j.v1 import GraphDatabase, basic_auth\n",
    "import csv\n",
    "import json\n",
    "import os\n",
    "import pandas as pd\n",
    "import matplotlib.pyplot as plt"
   ]
  },
  {
   "cell_type": "code",
   "execution_count": 274,
   "metadata": {},
   "outputs": [],
   "source": [
    "uri  = os.getenv('NEO4J_URI',  'bolt://localhost:7687')\n",
    "user = os.getenv('NEO4J_USER', 'neo4j')\n",
    "pwd  = os.getenv('NEO4J_PWD',  'neo4j')\n",
    "\n",
    "driver = GraphDatabase.driver(uri, auth=basic_auth(user, pwd))"
   ]
  },
  {
   "cell_type": "code",
   "execution_count": 281,
   "metadata": {
    "collapsed": true
   },
   "outputs": [],
   "source": [
    "# contains raw JSON files\n",
    "data_dir   = '/Users/gtenorio/neo4j/neo4j/yelp_data'\n",
    "\n",
    "# contains subsetted CSV files to be loaded into Neo4j\n",
    "import_dir = '/var/lib/neo4j/import/'"
   ]
  },
  {
   "cell_type": "code",
   "execution_count": 276,
   "metadata": {
    "collapsed": true
   },
   "outputs": [],
   "source": [
    "# Helper functions\n",
    "\n",
    "# Specify CSV parameters through custom dialect\n",
    "csv.register_dialect('custom', escapechar='\\\\', quotechar='\"', quoting=csv.QUOTE_ALL)\n",
    "\n",
    "\n",
    "def identity(x): \n",
    "    return x\n",
    "\n",
    "\n",
    "def select(keys, d):\n",
    "    return {key: value for (key, value) in d.items() if key in set(keys)}\n",
    "\n",
    "\n",
    "# Converts the given value to a CSV formatted string\n",
    "def toCSV(value):\n",
    "    # Represent a list of items as a semicolon delimited string\n",
    "    if type(value) == list:\n",
    "        return ';'.join(value)\n",
    "\n",
    "    # Surround fields with double quotes and handle escape characters\n",
    "    if type(value) == str:\n",
    "        return value.replace('\"', '').replace('\\\\', '')\n",
    "\n",
    "    return value\n",
    "\n",
    "\n",
    "# Converts a dict to a list of CSV formatted strings, optionally restricting\n",
    "# converted fields by passing in an ordered list of fields\n",
    "def dictToCSV(obj, fields=None):\n",
    "    fields = fields if fields is not None else obj.keys()\n",
    "    return [toCSV(obj[k]) for k in fields]\n",
    "\n",
    "\n",
    "# Takes a JSON file and writes it as a CSV file\n",
    "def jsonToCSVFile(json_file, csv_file=None, transform=identity):\n",
    "\n",
    "    root, ext = os.path.splitext(json_file)\n",
    "    csv_file = csv_file if csv_file else root + '.csv'\n",
    "\n",
    "    with open(json_file, 'r') as jsonFile, \\\n",
    "         open(csv_file, 'w') as csvFile:\n",
    "\n",
    "        objs = transform(map(json.loads, jsonFile))\n",
    "        first = next(objs)\n",
    "        fields = first.keys()\n",
    "\n",
    "        writer = csv.writer(csvFile, dialect='custom')\n",
    "        writer.writerow(fields)         # write header\n",
    "\n",
    "        writer.writerow(dictToCSV(first, fields))\n",
    "        for obj in objs:\n",
    "            writer.writerow(dictToCSV(obj, fields))"
   ]
  },
  {
   "cell_type": "markdown",
   "metadata": {},
   "source": [
    "### Part 1: Convert streaming JSON files to CSV, selecting only relevant fields."
   ]
  },
  {
   "cell_type": "code",
   "execution_count": 253,
   "metadata": {},
   "outputs": [
    {
     "name": "stdout",
     "output_type": "stream",
     "text": [
      "CPU times: user 5.04 s, sys: 176 ms, total: 5.22 s\n",
      "Wall time: 5.34 s\n"
     ]
    }
   ],
   "source": [
    "%%time\n",
    "\n",
    "business_fields = ['business_id', 'name', 'categories', 'neighborhood', 'stars', 'review_count']\n",
    "jsonToCSVFile(data_dir + \"business.json\",\n",
    "              transform=lambda business: (select(business_fields, b) for b in business if b[\"city\"] == 'Toronto' and 'Restaurants' in b['categories']))\n"
   ]
  },
  {
   "cell_type": "code",
   "execution_count": 254,
   "metadata": {},
   "outputs": [
    {
     "name": "stdout",
     "output_type": "stream",
     "text": [
      "CPU times: user 58.5 s, sys: 2.24 s, total: 1min\n",
      "Wall time: 1min 1s\n"
     ]
    }
   ],
   "source": [
    "%%time\n",
    "\n",
    "user_fields = ['user_id','name','average_stars']\n",
    "jsonToCSVFile(data_dir + \"user.json\", transform=lambda user: (select(user_fields, u) for u in user))"
   ]
  },
  {
   "cell_type": "code",
   "execution_count": 255,
   "metadata": {},
   "outputs": [
    {
     "name": "stdout",
     "output_type": "stream",
     "text": [
      "CPU times: user 2min 10s, sys: 4.87 s, total: 2min 15s\n",
      "Wall time: 2min 17s\n"
     ]
    }
   ],
   "source": [
    "%%time\n",
    "review_fields = ['user_id', 'business_id', 'stars']\n",
    "jsonToCSVFile(data_dir + \"review.json\", transform=lambda review: (select(review_fields, r) for r in review))"
   ]
  },
  {
   "cell_type": "markdown",
   "metadata": {},
   "source": [
    "### Part 2: Compress business.csv, user.csv and review.csv.  Upload to Neo4j cloud server."
   ]
  },
  {
   "cell_type": "code",
   "execution_count": 280,
   "metadata": {
    "collapsed": true
   },
   "outputs": [],
   "source": [
    "#!tar -czvf data_dir/business.tar.gz data_dir/business.csv\n",
    "#!tar -czvf data_dir/user.tar.gz data_dir/user.csv\n",
    "#!tar -czvf data_dir/review.tar.gz data_dir/review.csv\n",
    "\n",
    "#!scp -i ~/neo4j/devrel-datascience.pem business.tar.gz ubuntu@35.182.28.9:/home/ubuntu/grace\n",
    "#!scp -i ~/neo4j/devrel-datascience.pem user.tar.gz ubuntu@35.182.28.9:/home/ubuntu/grace\n",
    "#!scp -i ~/neo4j/devrel-datascience.pem review.tar.gz ubuntu@35.182.28.9:/home/ubuntu/grace\n",
    "\n",
    "# sudo mv /home/ubuntu/grace import_dir"
   ]
  },
  {
   "cell_type": "markdown",
   "metadata": {},
   "source": [
    "### Part 3:  Create empty database and relevant constraints."
   ]
  },
  {
   "cell_type": "code",
   "execution_count": 277,
   "metadata": {},
   "outputs": [
    {
     "name": "stdout",
     "output_type": "stream",
     "text": [
      "CPU times: user 4.37 ms, sys: 2.16 ms, total: 6.53 ms\n",
      "Wall time: 105 ms\n"
     ]
    }
   ],
   "source": [
    "%%time\n",
    "\n",
    "# Each time this notebook is run, we start with an empty graph database\n",
    "with driver.session() as session:\n",
    "    session.run(\"MATCH (n) DETACH DELETE n\")"
   ]
  },
  {
   "cell_type": "code",
   "execution_count": 278,
   "metadata": {},
   "outputs": [
    {
     "name": "stdout",
     "output_type": "stream",
     "text": [
      "CPU times: user 4.18 ms, sys: 2.37 ms, total: 6.56 ms\n",
      "Wall time: 158 ms\n"
     ]
    }
   ],
   "source": [
    "%%time\n",
    "\n",
    "# Drop constraints from our database\n",
    "with driver.session() as session:\n",
    "    session.run(\"DROP CONSTRAINT ON (business:Business)   ASSERT business.id   IS UNIQUE\")\n",
    "    session.run(\"DROP CONSTRAINT ON (category:Category)   ASSERT category.name IS UNIQUE\")\n",
    "    session.run(\"DROP CONSTRAINT ON (user:User)           ASSERT user.id       IS UNIQUE\")\n",
    "    session.run(\"DROP CONSTRAINT ON (review:Review)       ASSERT review.id     IS UNIQUE\")"
   ]
  },
  {
   "cell_type": "code",
   "execution_count": 279,
   "metadata": {},
   "outputs": [
    {
     "name": "stdout",
     "output_type": "stream",
     "text": [
      "CPU times: user 3.66 ms, sys: 2.29 ms, total: 5.95 ms\n",
      "Wall time: 329 ms\n"
     ]
    }
   ],
   "source": [
    "%%time\n",
    "\n",
    "# Create constraints in our database\n",
    "with driver.session() as session:\n",
    "    session.run(\"CREATE CONSTRAINT ON (business:Business)   ASSERT business.id   IS UNIQUE\")\n",
    "    session.run(\"CREATE CONSTRAINT ON (category:Category)   ASSERT category.name IS UNIQUE\")\n",
    "    session.run(\"CREATE CONSTRAINT ON (user:User)           ASSERT user.id       IS UNIQUE\")\n",
    "    session.run(\"CREATE CONSTRAINT ON (review:Review)       ASSERT review.id     IS UNIQUE\")"
   ]
  },
  {
   "cell_type": "markdown",
   "metadata": {},
   "source": [
    "### Part 4: Load business.csv into Neo4j."
   ]
  },
  {
   "cell_type": "code",
   "execution_count": 282,
   "metadata": {},
   "outputs": [
    {
     "name": "stdout",
     "output_type": "stream",
     "text": [
      "CPU times: user 1.76 ms, sys: 3.23 ms, total: 4.99 ms\n",
      "Wall time: 1.28 s\n"
     ]
    }
   ],
   "source": [
    "%%time\n",
    "\n",
    "load_business = \"\"\"\n",
    "    LOAD CSV WITH HEADERS FROM {input_dir} AS line                      \n",
    "    WITH line \n",
    "\n",
    "    // Create Business nodes\n",
    "    CREATE (business:Business {id: line.business_id})\n",
    "    SET business.name         = line.name,\n",
    "        business.neighborhood = line.neighborhood,\n",
    "        business.avg_rating   = toFloat(line.stars),\n",
    "        business.num_reviews  = toInteger(line.review_count)\n",
    "    \"\"\"\n",
    "\n",
    "with driver.session() as session:\n",
    "    session.run(load_business, input_dir='file:///business.csv')\n",
    "    "
   ]
  },
  {
   "cell_type": "code",
   "execution_count": 293,
   "metadata": {},
   "outputs": [
    {
     "data": {
      "text/html": [
       "<div>\n",
       "<style>\n",
       "    .dataframe thead tr:only-child th {\n",
       "        text-align: right;\n",
       "    }\n",
       "\n",
       "    .dataframe thead th {\n",
       "        text-align: left;\n",
       "    }\n",
       "\n",
       "    .dataframe tbody tr th {\n",
       "        vertical-align: top;\n",
       "    }\n",
       "</style>\n",
       "<table border=\"1\" class=\"dataframe\">\n",
       "  <thead>\n",
       "    <tr style=\"text-align: right;\">\n",
       "      <th></th>\n",
       "      <th>num_business_nodes</th>\n",
       "    </tr>\n",
       "  </thead>\n",
       "  <tbody>\n",
       "    <tr>\n",
       "      <th>0</th>\n",
       "      <td>7148</td>\n",
       "    </tr>\n",
       "  </tbody>\n",
       "</table>\n",
       "</div>"
      ],
      "text/plain": [
       "   num_business_nodes\n",
       "0                7148"
      ]
     },
     "metadata": {},
     "output_type": "display_data"
    },
    {
     "name": "stdout",
     "output_type": "stream",
     "text": [
      "CPU times: user 5.82 ms, sys: 2.16 ms, total: 7.98 ms\n",
      "Wall time: 26.2 ms\n"
     ]
    }
   ],
   "source": [
    "%%time\n",
    "\n",
    "# get number of business nodes in the graph\n",
    "query = \"\"\"\n",
    "    MATCH (b:Business)\n",
    "    RETURN COUNT(b) as num_business_nodes\n",
    "    \"\"\"\n",
    "\n",
    "with driver.session() as session:\n",
    "    business_nodes = session.run(query)\n",
    "    \n",
    "business_nodes_df = pd.DataFrame([dict(record) for record in business_nodes])\n",
    "display(business_nodes_df)"
   ]
  },
  {
   "cell_type": "code",
   "execution_count": 299,
   "metadata": {},
   "outputs": [
    {
     "data": {
      "text/html": [
       "<div>\n",
       "<style>\n",
       "    .dataframe thead tr:only-child th {\n",
       "        text-align: right;\n",
       "    }\n",
       "\n",
       "    .dataframe thead th {\n",
       "        text-align: left;\n",
       "    }\n",
       "\n",
       "    .dataframe tbody tr th {\n",
       "        vertical-align: top;\n",
       "    }\n",
       "</style>\n",
       "<table border=\"1\" class=\"dataframe\">\n",
       "  <thead>\n",
       "    <tr style=\"text-align: right;\">\n",
       "      <th></th>\n",
       "      <th>name</th>\n",
       "      <th>num_reviews</th>\n",
       "    </tr>\n",
       "  </thead>\n",
       "  <tbody>\n",
       "    <tr>\n",
       "      <th>0</th>\n",
       "      <td>Pai Northern Thai Kitchen</td>\n",
       "      <td>1494</td>\n",
       "    </tr>\n",
       "    <tr>\n",
       "      <th>1</th>\n",
       "      <td>Khao San Road</td>\n",
       "      <td>1270</td>\n",
       "    </tr>\n",
       "    <tr>\n",
       "      <th>2</th>\n",
       "      <td>KINKA IZAKAYA ORIGINAL</td>\n",
       "      <td>1184</td>\n",
       "    </tr>\n",
       "    <tr>\n",
       "      <th>3</th>\n",
       "      <td>Banh Mi Boys</td>\n",
       "      <td>973</td>\n",
       "    </tr>\n",
       "    <tr>\n",
       "      <th>4</th>\n",
       "      <td>Seven Lives Tacos Y Mariscos</td>\n",
       "      <td>945</td>\n",
       "    </tr>\n",
       "    <tr>\n",
       "      <th>5</th>\n",
       "      <td>Uncle Tetsu's Japanese Cheesecake</td>\n",
       "      <td>848</td>\n",
       "    </tr>\n",
       "    <tr>\n",
       "      <th>6</th>\n",
       "      <td>Salad King Restaurant</td>\n",
       "      <td>808</td>\n",
       "    </tr>\n",
       "    <tr>\n",
       "      <th>7</th>\n",
       "      <td>Momofuku Noodle Bar</td>\n",
       "      <td>759</td>\n",
       "    </tr>\n",
       "    <tr>\n",
       "      <th>8</th>\n",
       "      <td>Sansotei Ramen</td>\n",
       "      <td>701</td>\n",
       "    </tr>\n",
       "    <tr>\n",
       "      <th>9</th>\n",
       "      <td>Insomnia Restaurant &amp; Lounge</td>\n",
       "      <td>690</td>\n",
       "    </tr>\n",
       "  </tbody>\n",
       "</table>\n",
       "</div>"
      ],
      "text/plain": [
       "                                name  num_reviews\n",
       "0          Pai Northern Thai Kitchen         1494\n",
       "1                      Khao San Road         1270\n",
       "2             KINKA IZAKAYA ORIGINAL         1184\n",
       "3                       Banh Mi Boys          973\n",
       "4       Seven Lives Tacos Y Mariscos          945\n",
       "5  Uncle Tetsu's Japanese Cheesecake          848\n",
       "6              Salad King Restaurant          808\n",
       "7                Momofuku Noodle Bar          759\n",
       "8                     Sansotei Ramen          701\n",
       "9       Insomnia Restaurant & Lounge          690"
      ]
     },
     "metadata": {},
     "output_type": "display_data"
    },
    {
     "data": {
      "image/png": "[encoded data removed]",
      "text/plain": [
       "<matplotlib.figure.Figure at 0x105bfb898>"
      ]
     },
     "metadata": {},
     "output_type": "display_data"
    },
    {
     "data": {
      "text/html": [
       "<div>\n",
       "<style>\n",
       "    .dataframe thead tr:only-child th {\n",
       "        text-align: right;\n",
       "    }\n",
       "\n",
       "    .dataframe thead th {\n",
       "        text-align: left;\n",
       "    }\n",
       "\n",
       "    .dataframe tbody tr th {\n",
       "        vertical-align: top;\n",
       "    }\n",
       "</style>\n",
       "<table border=\"1\" class=\"dataframe\">\n",
       "  <thead>\n",
       "    <tr style=\"text-align: right;\">\n",
       "      <th></th>\n",
       "      <th>num_reviews</th>\n",
       "    </tr>\n",
       "  </thead>\n",
       "  <tbody>\n",
       "    <tr>\n",
       "      <th>count</th>\n",
       "      <td>7148.000000</td>\n",
       "    </tr>\n",
       "    <tr>\n",
       "      <th>mean</th>\n",
       "      <td>42.495383</td>\n",
       "    </tr>\n",
       "    <tr>\n",
       "      <th>std</th>\n",
       "      <td>73.356545</td>\n",
       "    </tr>\n",
       "    <tr>\n",
       "      <th>min</th>\n",
       "      <td>3.000000</td>\n",
       "    </tr>\n",
       "    <tr>\n",
       "      <th>10%</th>\n",
       "      <td>4.000000</td>\n",
       "    </tr>\n",
       "    <tr>\n",
       "      <th>15%</th>\n",
       "      <td>5.000000</td>\n",
       "    </tr>\n",
       "    <tr>\n",
       "      <th>20%</th>\n",
       "      <td>6.000000</td>\n",
       "    </tr>\n",
       "    <tr>\n",
       "      <th>25%</th>\n",
       "      <td>7.000000</td>\n",
       "    </tr>\n",
       "    <tr>\n",
       "      <th>50%</th>\n",
       "      <td>18.000000</td>\n",
       "    </tr>\n",
       "    <tr>\n",
       "      <th>60%</th>\n",
       "      <td>26.000000</td>\n",
       "    </tr>\n",
       "    <tr>\n",
       "      <th>75%</th>\n",
       "      <td>48.000000</td>\n",
       "    </tr>\n",
       "    <tr>\n",
       "      <th>80%</th>\n",
       "      <td>58.000000</td>\n",
       "    </tr>\n",
       "    <tr>\n",
       "      <th>90%</th>\n",
       "      <td>104.000000</td>\n",
       "    </tr>\n",
       "    <tr>\n",
       "      <th>max</th>\n",
       "      <td>1494.000000</td>\n",
       "    </tr>\n",
       "  </tbody>\n",
       "</table>\n",
       "</div>"
      ],
      "text/plain": [
       "       num_reviews\n",
       "count  7148.000000\n",
       "mean     42.495383\n",
       "std      73.356545\n",
       "min       3.000000\n",
       "10%       4.000000\n",
       "15%       5.000000\n",
       "20%       6.000000\n",
       "25%       7.000000\n",
       "50%      18.000000\n",
       "60%      26.000000\n",
       "75%      48.000000\n",
       "80%      58.000000\n",
       "90%     104.000000\n",
       "max    1494.000000"
      ]
     },
     "metadata": {},
     "output_type": "display_data"
    },
    {
     "name": "stdout",
     "output_type": "stream",
     "text": [
      "CPU times: user 571 ms, sys: 16.8 ms, total: 587 ms\n",
      "Wall time: 667 ms\n"
     ]
    }
   ],
   "source": [
    "%%time\n",
    "\n",
    "# get distribution of num_reviews for businesses\n",
    "query = \"\"\"\n",
    "        MATCH (b:Business)\n",
    "        RETURN b.name as name, b.num_reviews as num_reviews\n",
    "        ORDER BY num_reviews DESCENDING\n",
    "        \"\"\"\n",
    "\n",
    "with driver.session() as session:\n",
    "    business_reviews = session.run(query)\n",
    "\n",
    "business_reviews_df = pd.DataFrame([dict(record) for record in business_reviews])\n",
    "display(business_reviews_df.head(10))\n",
    "\n",
    "plt.hist(business_reviews_df['num_reviews'])\n",
    "plt.show()     \n",
    "display(business_reviews_df.describe(percentiles=[0.1,0.15,0.2,0.25,0.5,0.6,0.75,0.8,0.9]))"
   ]
  },
  {
   "cell_type": "code",
   "execution_count": 301,
   "metadata": {},
   "outputs": [
    {
     "data": {
      "text/plain": [
       "(2976, 2)"
      ]
     },
     "execution_count": 301,
     "metadata": {},
     "output_type": "execute_result"
    }
   ],
   "source": [
    "# set cut off for businesses to be 25 reviews.  check number of business nodes we will have left\n",
    "business_reviews_df[business_reviews_df.num_reviews >= 25].shape"
   ]
  },
  {
   "cell_type": "code",
   "execution_count": 302,
   "metadata": {},
   "outputs": [
    {
     "name": "stdout",
     "output_type": "stream",
     "text": [
      "CPU times: user 1.71 ms, sys: 2.06 ms, total: 3.77 ms\n",
      "Wall time: 278 ms\n"
     ]
    }
   ],
   "source": [
    "%%time\n",
    "\n",
    "# delete businesses with less than 25 reviews\n",
    "query = \"\"\"\n",
    "        MATCH (b:Business)\n",
    "        WHERE b.num_reviews < 25\n",
    "        DELETE b\n",
    "        \"\"\"\n",
    "\n",
    "with driver.session() as session:\n",
    "    result = session.run(query)"
   ]
  },
  {
   "cell_type": "code",
   "execution_count": 305,
   "metadata": {},
   "outputs": [
    {
     "data": {
      "text/html": [
       "<div>\n",
       "<style>\n",
       "    .dataframe thead tr:only-child th {\n",
       "        text-align: right;\n",
       "    }\n",
       "\n",
       "    .dataframe thead th {\n",
       "        text-align: left;\n",
       "    }\n",
       "\n",
       "    .dataframe tbody tr th {\n",
       "        vertical-align: top;\n",
       "    }\n",
       "</style>\n",
       "<table border=\"1\" class=\"dataframe\">\n",
       "  <thead>\n",
       "    <tr style=\"text-align: right;\">\n",
       "      <th></th>\n",
       "      <th>num_business</th>\n",
       "    </tr>\n",
       "  </thead>\n",
       "  <tbody>\n",
       "    <tr>\n",
       "      <th>0</th>\n",
       "      <td>2976</td>\n",
       "    </tr>\n",
       "  </tbody>\n",
       "</table>\n",
       "</div>"
      ],
      "text/plain": [
       "   num_business\n",
       "0          2976"
      ]
     },
     "metadata": {},
     "output_type": "display_data"
    },
    {
     "name": "stdout",
     "output_type": "stream",
     "text": [
      "CPU times: user 5.43 ms, sys: 1.25 ms, total: 6.68 ms\n",
      "Wall time: 41.9 ms\n"
     ]
    }
   ],
   "source": [
    "%%time\n",
    "\n",
    "# confirm that we have 2976 business nodes left\n",
    "query = \"\"\"\n",
    "        MATCH (b:Business)\n",
    "        RETURN COUNT(b) as num_business\n",
    "        \"\"\"\n",
    "\n",
    "with driver.session() as session:\n",
    "    business_nodes_remaining = session.run(query)\n",
    "    \n",
    "business_nodes_remaining_df = pd.DataFrame([dict(record) for record in business_nodes_remaining])\n",
    "display(business_nodes_remaining_df)"
   ]
  },
  {
   "cell_type": "markdown",
   "metadata": {},
   "source": [
    "### Part 5: Load category data, only for businesses already in the graph. "
   ]
  },
  {
   "cell_type": "code",
   "execution_count": 306,
   "metadata": {},
   "outputs": [
    {
     "name": "stdout",
     "output_type": "stream",
     "text": [
      "CPU times: user 1.65 ms, sys: 2.6 ms, total: 4.24 ms\n",
      "Wall time: 968 ms\n"
     ]
    }
   ],
   "source": [
    "%%time\n",
    "\n",
    "load_category = \"\"\"\n",
    "    LOAD CSV WITH HEADERS FROM {input_dir} AS line                      \n",
    "    WITH line \n",
    "\n",
    "    // Only load categories associated with businesses that are already in the graph.\n",
    "    MATCH (business:Business {id: line.business_id})\n",
    "   \n",
    "    // Create Category nodes\n",
    "    WITH line, business, split(line.categories, \";\") as cat_list\n",
    "    UNWIND cat_list as cat\n",
    "    MERGE (category:Category {name: cat})\n",
    "    CREATE (business)-[:IN_CATEGORY]->(category)\n",
    "    \"\"\"\n",
    "\n",
    "with driver.session() as session:\n",
    "    session.run(load_category, input_dir='file:///business.csv')\n",
    "    "
   ]
  },
  {
   "cell_type": "code",
   "execution_count": 307,
   "metadata": {},
   "outputs": [
    {
     "data": {
      "text/html": [
       "<div>\n",
       "<style>\n",
       "    .dataframe thead tr:only-child th {\n",
       "        text-align: right;\n",
       "    }\n",
       "\n",
       "    .dataframe thead th {\n",
       "        text-align: left;\n",
       "    }\n",
       "\n",
       "    .dataframe tbody tr th {\n",
       "        vertical-align: top;\n",
       "    }\n",
       "</style>\n",
       "<table border=\"1\" class=\"dataframe\">\n",
       "  <thead>\n",
       "    <tr style=\"text-align: right;\">\n",
       "      <th></th>\n",
       "      <th>num_category</th>\n",
       "    </tr>\n",
       "  </thead>\n",
       "  <tbody>\n",
       "    <tr>\n",
       "      <th>0</th>\n",
       "      <td>252</td>\n",
       "    </tr>\n",
       "  </tbody>\n",
       "</table>\n",
       "</div>"
      ],
      "text/plain": [
       "   num_category\n",
       "0           252"
      ]
     },
     "metadata": {},
     "output_type": "display_data"
    },
    {
     "name": "stdout",
     "output_type": "stream",
     "text": [
      "CPU times: user 6.18 ms, sys: 2.22 ms, total: 8.4 ms\n",
      "Wall time: 90 ms\n"
     ]
    }
   ],
   "source": [
    "%%time\n",
    "# count number of categories in the graph\n",
    "\n",
    "query = \"\"\"\n",
    "        MATCH (c:Category)\n",
    "        RETURN COUNT(c) as num_category\n",
    "        \"\"\"\n",
    "\n",
    "with driver.session() as session:\n",
    "    category_count = session.run(query)\n",
    "    \n",
    "category_count_df = pd.DataFrame([dict(record) for record in category_count])\n",
    "display(category_count_df)"
   ]
  },
  {
   "cell_type": "code",
   "execution_count": 316,
   "metadata": {},
   "outputs": [
    {
     "data": {
      "text/html": [
       "<div>\n",
       "<style>\n",
       "    .dataframe thead tr:only-child th {\n",
       "        text-align: right;\n",
       "    }\n",
       "\n",
       "    .dataframe thead th {\n",
       "        text-align: left;\n",
       "    }\n",
       "\n",
       "    .dataframe tbody tr th {\n",
       "        vertical-align: top;\n",
       "    }\n",
       "</style>\n",
       "<table border=\"1\" class=\"dataframe\">\n",
       "  <thead>\n",
       "    <tr style=\"text-align: right;\">\n",
       "      <th></th>\n",
       "      <th>name</th>\n",
       "      <th>num_business_in_cat</th>\n",
       "    </tr>\n",
       "  </thead>\n",
       "  <tbody>\n",
       "    <tr>\n",
       "      <th>3</th>\n",
       "      <td>Restaurants</td>\n",
       "      <td>2976</td>\n",
       "    </tr>\n",
       "    <tr>\n",
       "      <th>6</th>\n",
       "      <td>Food</td>\n",
       "      <td>594</td>\n",
       "    </tr>\n",
       "    <tr>\n",
       "      <th>1</th>\n",
       "      <td>Nightlife</td>\n",
       "      <td>549</td>\n",
       "    </tr>\n",
       "    <tr>\n",
       "      <th>4</th>\n",
       "      <td>Bars</td>\n",
       "      <td>538</td>\n",
       "    </tr>\n",
       "    <tr>\n",
       "      <th>44</th>\n",
       "      <td>Canadian (New)</td>\n",
       "      <td>353</td>\n",
       "    </tr>\n",
       "    <tr>\n",
       "      <th>33</th>\n",
       "      <td>Breakfast &amp; Brunch</td>\n",
       "      <td>308</td>\n",
       "    </tr>\n",
       "    <tr>\n",
       "      <th>15</th>\n",
       "      <td>Japanese</td>\n",
       "      <td>298</td>\n",
       "    </tr>\n",
       "    <tr>\n",
       "      <th>48</th>\n",
       "      <td>Italian</td>\n",
       "      <td>265</td>\n",
       "    </tr>\n",
       "    <tr>\n",
       "      <th>22</th>\n",
       "      <td>Sandwiches</td>\n",
       "      <td>208</td>\n",
       "    </tr>\n",
       "    <tr>\n",
       "      <th>12</th>\n",
       "      <td>Chinese</td>\n",
       "      <td>196</td>\n",
       "    </tr>\n",
       "  </tbody>\n",
       "</table>\n",
       "</div>"
      ],
      "text/plain": [
       "                  name  num_business_in_cat\n",
       "3          Restaurants                 2976\n",
       "6                 Food                  594\n",
       "1            Nightlife                  549\n",
       "4                 Bars                  538\n",
       "44      Canadian (New)                  353\n",
       "33  Breakfast & Brunch                  308\n",
       "15            Japanese                  298\n",
       "48             Italian                  265\n",
       "22          Sandwiches                  208\n",
       "12             Chinese                  196"
      ]
     },
     "metadata": {},
     "output_type": "display_data"
    },
    {
     "data": {
      "image/png": "[encoded data removed]",
      "text/plain": [
       "<matplotlib.figure.Figure at 0x10a7b1320>"
      ]
     },
     "metadata": {},
     "output_type": "display_data"
    },
    {
     "data": {
      "text/html": [
       "<div>\n",
       "<style>\n",
       "    .dataframe thead tr:only-child th {\n",
       "        text-align: right;\n",
       "    }\n",
       "\n",
       "    .dataframe thead th {\n",
       "        text-align: left;\n",
       "    }\n",
       "\n",
       "    .dataframe tbody tr th {\n",
       "        vertical-align: top;\n",
       "    }\n",
       "</style>\n",
       "<table border=\"1\" class=\"dataframe\">\n",
       "  <thead>\n",
       "    <tr style=\"text-align: right;\">\n",
       "      <th></th>\n",
       "      <th>num_business_in_cat</th>\n",
       "    </tr>\n",
       "  </thead>\n",
       "  <tbody>\n",
       "    <tr>\n",
       "      <th>count</th>\n",
       "      <td>252.000000</td>\n",
       "    </tr>\n",
       "    <tr>\n",
       "      <th>mean</th>\n",
       "      <td>47.742063</td>\n",
       "    </tr>\n",
       "    <tr>\n",
       "      <th>std</th>\n",
       "      <td>201.653249</td>\n",
       "    </tr>\n",
       "    <tr>\n",
       "      <th>min</th>\n",
       "      <td>1.000000</td>\n",
       "    </tr>\n",
       "    <tr>\n",
       "      <th>10%</th>\n",
       "      <td>1.000000</td>\n",
       "    </tr>\n",
       "    <tr>\n",
       "      <th>15%</th>\n",
       "      <td>1.000000</td>\n",
       "    </tr>\n",
       "    <tr>\n",
       "      <th>20%</th>\n",
       "      <td>1.000000</td>\n",
       "    </tr>\n",
       "    <tr>\n",
       "      <th>25%</th>\n",
       "      <td>1.000000</td>\n",
       "    </tr>\n",
       "    <tr>\n",
       "      <th>50%</th>\n",
       "      <td>6.000000</td>\n",
       "    </tr>\n",
       "    <tr>\n",
       "      <th>60%</th>\n",
       "      <td>10.000000</td>\n",
       "    </tr>\n",
       "    <tr>\n",
       "      <th>75%</th>\n",
       "      <td>29.750000</td>\n",
       "    </tr>\n",
       "    <tr>\n",
       "      <th>80%</th>\n",
       "      <td>49.000000</td>\n",
       "    </tr>\n",
       "    <tr>\n",
       "      <th>90%</th>\n",
       "      <td>99.900000</td>\n",
       "    </tr>\n",
       "    <tr>\n",
       "      <th>max</th>\n",
       "      <td>2976.000000</td>\n",
       "    </tr>\n",
       "  </tbody>\n",
       "</table>\n",
       "</div>"
      ],
      "text/plain": [
       "       num_business_in_cat\n",
       "count           252.000000\n",
       "mean             47.742063\n",
       "std             201.653249\n",
       "min               1.000000\n",
       "10%               1.000000\n",
       "15%               1.000000\n",
       "20%               1.000000\n",
       "25%               1.000000\n",
       "50%               6.000000\n",
       "60%              10.000000\n",
       "75%              29.750000\n",
       "80%              49.000000\n",
       "90%              99.900000\n",
       "max            2976.000000"
      ]
     },
     "metadata": {},
     "output_type": "display_data"
    },
    {
     "name": "stdout",
     "output_type": "stream",
     "text": [
      "CPU times: user 286 ms, sys: 12.7 ms, total: 298 ms\n",
      "Wall time: 327 ms\n"
     ]
    }
   ],
   "source": [
    "%%time\n",
    "\n",
    "# count number of businesses in a category\n",
    "query = \"\"\"\n",
    "        MATCH (c:Category)\n",
    "        RETURN c.name as name, size(()-[:IN_CATEGORY]->(c)) AS num_business_in_cat   \n",
    "        ORDER BY c, num_business_in_cat DESC\n",
    "        \"\"\"\n",
    "\n",
    "with driver.session() as session:\n",
    "    business_in_category_count = session.run(query)\n",
    "\n",
    "business_in_category_count_df = pd.DataFrame([dict(record) for record in business_in_category_count])\n",
    "display(business_in_category_count_df.sort_values('num_business_in_cat', ascending=False).head(10))\n",
    "\n",
    "plt.hist(business_in_category_count_df['num_business_in_cat'])\n",
    "plt.show()     \n",
    "display(business_in_category_count_df.describe(percentiles=[0.1,0.15,0.2,0.25,0.5,0.6,0.75,0.8,0.9]))\n"
   ]
  },
  {
   "cell_type": "code",
   "execution_count": 317,
   "metadata": {},
   "outputs": [
    {
     "data": {
      "text/plain": [
       "(105, 2)"
      ]
     },
     "execution_count": 317,
     "metadata": {},
     "output_type": "execute_result"
    }
   ],
   "source": [
    "# set cut off for categories to be 10 businesses.  check number of category nodes we will have left\n",
    "business_in_category_count_df[business_in_category_count_df.num_business_in_cat >= 10].shape"
   ]
  },
  {
   "cell_type": "code",
   "execution_count": 335,
   "metadata": {},
   "outputs": [
    {
     "data": {
      "text/plain": [
       "147"
      ]
     },
     "execution_count": 335,
     "metadata": {},
     "output_type": "execute_result"
    }
   ],
   "source": [
    "# get a list of categories with less than 10 businesses\n",
    "categories_to_delete = business_in_category_count_df[business_in_category_count_df.num_business_in_cat <  10]['name'].tolist()\n",
    "len(categories_to_delete)"
   ]
  },
  {
   "cell_type": "code",
   "execution_count": 336,
   "metadata": {},
   "outputs": [
    {
     "data": {
      "text/plain": [
       "12"
      ]
     },
     "execution_count": 336,
     "metadata": {},
     "output_type": "execute_result"
    }
   ],
   "source": [
    "# other categories to delete\n",
    "other_categories_to_delete = ['Restaurants','Food','Grocery','Event Planning & Services','Venues & Event Spaces','Caterers','Food Delivery Services','Shopping','Arts & Entertainment','Music Venues','Lounges','Food Service Delivery']\n",
    "len(other_categories_to_delete)"
   ]
  },
  {
   "cell_type": "code",
   "execution_count": 337,
   "metadata": {},
   "outputs": [
    {
     "data": {
      "text/plain": [
       "159"
      ]
     },
     "execution_count": 337,
     "metadata": {},
     "output_type": "execute_result"
    }
   ],
   "source": [
    "# combine categories to delete\n",
    "all_categories_to_delete = categories_to_delete + other_categories_to_delete\n",
    "len(all_categories_to_delete)"
   ]
  },
  {
   "cell_type": "code",
   "execution_count": 340,
   "metadata": {},
   "outputs": [
    {
     "data": {
      "text/html": [
       "<div>\n",
       "<style>\n",
       "    .dataframe thead tr:only-child th {\n",
       "        text-align: right;\n",
       "    }\n",
       "\n",
       "    .dataframe thead th {\n",
       "        text-align: left;\n",
       "    }\n",
       "\n",
       "    .dataframe tbody tr th {\n",
       "        vertical-align: top;\n",
       "    }\n",
       "</style>\n",
       "<table border=\"1\" class=\"dataframe\">\n",
       "  <thead>\n",
       "    <tr style=\"text-align: right;\">\n",
       "      <th></th>\n",
       "      <th>COUNT(r)</th>\n",
       "    </tr>\n",
       "  </thead>\n",
       "  <tbody>\n",
       "    <tr>\n",
       "      <th>0</th>\n",
       "      <td>4308</td>\n",
       "    </tr>\n",
       "  </tbody>\n",
       "</table>\n",
       "</div>"
      ],
      "text/plain": [
       "   COUNT(r)\n",
       "0      4308"
      ]
     },
     "metadata": {},
     "output_type": "display_data"
    },
    {
     "name": "stdout",
     "output_type": "stream",
     "text": [
      "CPU times: user 7.84 ms, sys: 2.54 ms, total: 10.4 ms\n",
      "Wall time: 94.8 ms\n"
     ]
    }
   ],
   "source": [
    "%%time\n",
    "\n",
    "# look at number of relationships that must be first removed, before removing the categories above\n",
    "query = \"\"\"\n",
    "        MATCH (c:Category)<-[r:IN_CATEGORY]-()\n",
    "        WHERE c.name in {category_list}\n",
    "        RETURN COUNT(r)\n",
    "        \"\"\"\n",
    "\n",
    "with driver.session() as session:\n",
    "    cat_to_delete = session.run(query, category_list = all_categories_to_delete)\n",
    "\n",
    "\n",
    "cat_to_delete_df = pd.DataFrame([dict(record) for record in cat_to_delete])\n",
    "    \n",
    "display(cat_to_delete_df)"
   ]
  },
  {
   "cell_type": "code",
   "execution_count": 341,
   "metadata": {},
   "outputs": [
    {
     "name": "stdout",
     "output_type": "stream",
     "text": [
      "CPU times: user 3.09 ms, sys: 1.59 ms, total: 4.69 ms\n",
      "Wall time: 142 ms\n"
     ]
    }
   ],
   "source": [
    "%%time\n",
    "\n",
    "# delete relationships\n",
    "query = \"\"\"\n",
    "        MATCH (c:Category)<-[r:IN_CATEGORY]-()\n",
    "        WHERE c.name in {category_list}\n",
    "        DELETE r\n",
    "        \"\"\"\n",
    "\n",
    "with driver.session() as session:\n",
    "    result = session.run(query, category_list = all_categories_to_delete)"
   ]
  },
  {
   "cell_type": "code",
   "execution_count": 342,
   "metadata": {},
   "outputs": [
    {
     "name": "stdout",
     "output_type": "stream",
     "text": [
      "CPU times: user 2.85 ms, sys: 2.7 ms, total: 5.55 ms\n",
      "Wall time: 77.5 ms\n"
     ]
    }
   ],
   "source": [
    "%%time\n",
    "\n",
    "# now remove nodes corresponding to categories to be deleted\n",
    "query = \"\"\"\n",
    "        MATCH (c:Category)\n",
    "        WHERE c.name in {category_list}\n",
    "        DELETE c\n",
    "        \"\"\"\n",
    "\n",
    "with driver.session() as session:\n",
    "    result = session.run(query, category_list = all_categories_to_delete)"
   ]
  },
  {
   "cell_type": "code",
   "execution_count": 343,
   "metadata": {},
   "outputs": [
    {
     "data": {
      "text/html": [
       "<div>\n",
       "<style>\n",
       "    .dataframe thead tr:only-child th {\n",
       "        text-align: right;\n",
       "    }\n",
       "\n",
       "    .dataframe thead th {\n",
       "        text-align: left;\n",
       "    }\n",
       "\n",
       "    .dataframe tbody tr th {\n",
       "        vertical-align: top;\n",
       "    }\n",
       "</style>\n",
       "<table border=\"1\" class=\"dataframe\">\n",
       "  <thead>\n",
       "    <tr style=\"text-align: right;\">\n",
       "      <th></th>\n",
       "      <th>num_categories</th>\n",
       "    </tr>\n",
       "  </thead>\n",
       "  <tbody>\n",
       "    <tr>\n",
       "      <th>0</th>\n",
       "      <td>94</td>\n",
       "    </tr>\n",
       "  </tbody>\n",
       "</table>\n",
       "</div>"
      ],
      "text/plain": [
       "   num_categories\n",
       "0              94"
      ]
     },
     "metadata": {},
     "output_type": "display_data"
    },
    {
     "name": "stdout",
     "output_type": "stream",
     "text": [
      "CPU times: user 8.89 ms, sys: 2.71 ms, total: 11.6 ms\n",
      "Wall time: 223 ms\n"
     ]
    }
   ],
   "source": [
    "%%time\n",
    "\n",
    "# check number of categories we have remaining\n",
    "query = \"\"\"\n",
    "        MATCH (c:Category)\n",
    "        RETURN COUNT(c) as num_categories\n",
    "        \"\"\"\n",
    "\n",
    "with driver.session() as session:\n",
    "    category_nodes_remaining = session.run(query)\n",
    "    \n",
    "category_nodes_remaining_df = pd.DataFrame([dict(record) for record in category_nodes_remaining])\n",
    "display(category_nodes_remaining_df)"
   ]
  },
  {
   "cell_type": "code",
   "execution_count": 352,
   "metadata": {},
   "outputs": [
    {
     "data": {
      "text/html": [
       "<div>\n",
       "<style>\n",
       "    .dataframe thead tr:only-child th {\n",
       "        text-align: right;\n",
       "    }\n",
       "\n",
       "    .dataframe thead th {\n",
       "        text-align: left;\n",
       "    }\n",
       "\n",
       "    .dataframe tbody tr th {\n",
       "        vertical-align: top;\n",
       "    }\n",
       "</style>\n",
       "<table border=\"1\" class=\"dataframe\">\n",
       "  <thead>\n",
       "    <tr style=\"text-align: right;\">\n",
       "      <th></th>\n",
       "      <th>business</th>\n",
       "    </tr>\n",
       "  </thead>\n",
       "  <tbody>\n",
       "    <tr>\n",
       "      <th>0</th>\n",
       "      <td>Olly Fresco's</td>\n",
       "    </tr>\n",
       "    <tr>\n",
       "      <th>1</th>\n",
       "      <td>Das Gasthaus</td>\n",
       "    </tr>\n",
       "    <tr>\n",
       "      <th>2</th>\n",
       "      <td>Budapest Restaurant</td>\n",
       "    </tr>\n",
       "    <tr>\n",
       "      <th>3</th>\n",
       "      <td>CASA manila</td>\n",
       "    </tr>\n",
       "    <tr>\n",
       "      <th>4</th>\n",
       "      <td>Platito Filipino Soul Food</td>\n",
       "    </tr>\n",
       "    <tr>\n",
       "      <th>5</th>\n",
       "      <td>Satay Sate</td>\n",
       "    </tr>\n",
       "    <tr>\n",
       "      <th>6</th>\n",
       "      <td>Lamesa Filipino Kitchen</td>\n",
       "    </tr>\n",
       "    <tr>\n",
       "      <th>7</th>\n",
       "      <td>Julie's Cuban Restaurant</td>\n",
       "    </tr>\n",
       "    <tr>\n",
       "      <th>8</th>\n",
       "      <td>Bamiyan Kabob</td>\n",
       "    </tr>\n",
       "    <tr>\n",
       "      <th>9</th>\n",
       "      <td>Otto's Bierhalle</td>\n",
       "    </tr>\n",
       "    <tr>\n",
       "      <th>10</th>\n",
       "      <td>Pamier Kabob</td>\n",
       "    </tr>\n",
       "    <tr>\n",
       "      <th>11</th>\n",
       "      <td>Goodlake</td>\n",
       "    </tr>\n",
       "    <tr>\n",
       "      <th>12</th>\n",
       "      <td>Tinuno</td>\n",
       "    </tr>\n",
       "  </tbody>\n",
       "</table>\n",
       "</div>"
      ],
      "text/plain": [
       "                      business\n",
       "0                Olly Fresco's\n",
       "1                 Das Gasthaus\n",
       "2          Budapest Restaurant\n",
       "3                  CASA manila\n",
       "4   Platito Filipino Soul Food\n",
       "5                   Satay Sate\n",
       "6      Lamesa Filipino Kitchen\n",
       "7     Julie's Cuban Restaurant\n",
       "8                Bamiyan Kabob\n",
       "9             Otto's Bierhalle\n",
       "10                Pamier Kabob\n",
       "11                    Goodlake\n",
       "12                      Tinuno"
      ]
     },
     "metadata": {},
     "output_type": "display_data"
    },
    {
     "name": "stdout",
     "output_type": "stream",
     "text": [
      "CPU times: user 8.04 ms, sys: 2.4 ms, total: 10.4 ms\n",
      "Wall time: 40.2 ms\n"
     ]
    }
   ],
   "source": [
    "%%time\n",
    "\n",
    "# with the removal of category nodes, there may be some businesses not belonging to a category\n",
    "query = \"\"\"\n",
    "        MATCH (b:Business)\n",
    "        WHERE NOT (b)-[:IN_CATEGORY]->()\n",
    "        RETURN b.name as business\n",
    "        \"\"\"\n",
    "\n",
    "with driver.session() as session:\n",
    "    orphan_business = session.run(query)\n",
    "    \n",
    "orphan_business_df = pd.DataFrame([dict(record) for record in orphan_business])\n",
    "display(orphan_business_df)"
   ]
  },
  {
   "cell_type": "code",
   "execution_count": 358,
   "metadata": {},
   "outputs": [
    {
     "data": {
      "text/plain": [
       "13"
      ]
     },
     "execution_count": 358,
     "metadata": {},
     "output_type": "execute_result"
    }
   ],
   "source": [
    "# get a list of categories with less than 10 businesses\n",
    "orphan_businesses_to_delete = orphan_business_df['business'].tolist()\n",
    "len(orphan_businesses_to_delete)"
   ]
  },
  {
   "cell_type": "code",
   "execution_count": 361,
   "metadata": {},
   "outputs": [
    {
     "name": "stdout",
     "output_type": "stream",
     "text": [
      "CPU times: user 1.92 ms, sys: 2.31 ms, total: 4.23 ms\n",
      "Wall time: 66.7 ms\n"
     ]
    }
   ],
   "source": [
    "%%time\n",
    "\n",
    "# remove these orphan business nodes\n",
    "\n",
    "query = \"\"\"\n",
    "        MATCH (b:Business)\n",
    "        WHERE b.name in {business_list}\n",
    "        DELETE b\n",
    "        \"\"\"\n",
    "\n",
    "with driver.session() as session:\n",
    "    delete_orphan_businesses = session.run(query, business_list = orphan_businesses_to_delete)"
   ]
  },
  {
   "cell_type": "code",
   "execution_count": 362,
   "metadata": {},
   "outputs": [
    {
     "data": {
      "text/html": [
       "<div>\n",
       "<style>\n",
       "    .dataframe thead tr:only-child th {\n",
       "        text-align: right;\n",
       "    }\n",
       "\n",
       "    .dataframe thead th {\n",
       "        text-align: left;\n",
       "    }\n",
       "\n",
       "    .dataframe tbody tr th {\n",
       "        vertical-align: top;\n",
       "    }\n",
       "</style>\n",
       "<table border=\"1\" class=\"dataframe\">\n",
       "  <thead>\n",
       "    <tr style=\"text-align: right;\">\n",
       "      <th></th>\n",
       "      <th>COUNT(b)</th>\n",
       "    </tr>\n",
       "  </thead>\n",
       "  <tbody>\n",
       "    <tr>\n",
       "      <th>0</th>\n",
       "      <td>2963</td>\n",
       "    </tr>\n",
       "  </tbody>\n",
       "</table>\n",
       "</div>"
      ],
      "text/plain": [
       "   COUNT(b)\n",
       "0      2963"
      ]
     },
     "metadata": {},
     "output_type": "display_data"
    },
    {
     "name": "stdout",
     "output_type": "stream",
     "text": [
      "CPU times: user 6.26 ms, sys: 2.37 ms, total: 8.63 ms\n",
      "Wall time: 33.2 ms\n"
     ]
    }
   ],
   "source": [
    "%%time\n",
    "\n",
    "# check number of business nodes we have remaining\n",
    "query = \"\"\"\n",
    "        MATCH (b:Business)\n",
    "        RETURN COUNT(b)\n",
    "        \"\"\"\n",
    "\n",
    "with driver.session() as session:\n",
    "    business_nodes_remaining = session.run(query)\n",
    "    \n",
    "business_nodes_remaining_df = pd.DataFrame([dict(record) for record in business_nodes_remaining])\n",
    "display(business_nodes_remaining_df.head())\n"
   ]
  },
  {
   "cell_type": "markdown",
   "metadata": {},
   "source": [
    "### Part 6.  Load review.csv, but only reviews for businesses already in the graph."
   ]
  },
  {
   "cell_type": "code",
   "execution_count": 379,
   "metadata": {},
   "outputs": [
    {
     "name": "stdout",
     "output_type": "stream",
     "text": [
      "CPU times: user 3.87 ms, sys: 3.43 ms, total: 7.3 ms\n",
      "Wall time: 1min\n"
     ]
    }
   ],
   "source": [
    "%%time\n",
    "\n",
    "load_review = \"\"\"\n",
    "    // Load and commit every 50000 records\n",
    "    USING PERIODIC COMMIT 50000 \n",
    "    LOAD CSV WITH HEADERS FROM {input_dir} AS line                      \n",
    "    WITH line \n",
    "\n",
    "    // Only care about businesses that are already in the graph\n",
    "    MATCH (business:Business {id:line.business_id})\n",
    "    MERGE (user:User         {id:line.user_id})\n",
    "    \n",
    "    CREATE (user)-[:REVIEWED  {stars:toInteger(line.stars)}]->(business)\n",
    "    \"\"\"\n",
    "\n",
    "with driver.session() as session:\n",
    "    session.run(load_review, input_dir='file:///review.csv')"
   ]
  },
  {
   "cell_type": "code",
   "execution_count": 383,
   "metadata": {},
   "outputs": [
    {
     "data": {
      "text/html": [
       "<div>\n",
       "<style>\n",
       "    .dataframe thead tr:only-child th {\n",
       "        text-align: right;\n",
       "    }\n",
       "\n",
       "    .dataframe thead th {\n",
       "        text-align: left;\n",
       "    }\n",
       "\n",
       "    .dataframe tbody tr th {\n",
       "        vertical-align: top;\n",
       "    }\n",
       "</style>\n",
       "<table border=\"1\" class=\"dataframe\">\n",
       "  <thead>\n",
       "    <tr style=\"text-align: right;\">\n",
       "      <th></th>\n",
       "      <th>id</th>\n",
       "      <th>num_business_reviewed</th>\n",
       "    </tr>\n",
       "  </thead>\n",
       "  <tbody>\n",
       "    <tr>\n",
       "      <th>0</th>\n",
       "      <td>--7gjElmOrthETJ8XqzMBw</td>\n",
       "      <td>1</td>\n",
       "    </tr>\n",
       "    <tr>\n",
       "      <th>1</th>\n",
       "      <td>--Br-QsbO9ad5GbZxVGxaw</td>\n",
       "      <td>1</td>\n",
       "    </tr>\n",
       "    <tr>\n",
       "      <th>2</th>\n",
       "      <td>--BumyUHiO_7YsHurb9Hkw</td>\n",
       "      <td>29</td>\n",
       "    </tr>\n",
       "    <tr>\n",
       "      <th>3</th>\n",
       "      <td>--DKDJlRHfsvufdGSk_Sdw</td>\n",
       "      <td>1</td>\n",
       "    </tr>\n",
       "    <tr>\n",
       "      <th>4</th>\n",
       "      <td>--EVSb3jbKVL3WJ5NUCuCA</td>\n",
       "      <td>1</td>\n",
       "    </tr>\n",
       "    <tr>\n",
       "      <th>5</th>\n",
       "      <td>--KQJPdrU0Md97DiOliDzw</td>\n",
       "      <td>1</td>\n",
       "    </tr>\n",
       "    <tr>\n",
       "      <th>6</th>\n",
       "      <td>--Qh8yKWAvIP4V4K8ZPfHA</td>\n",
       "      <td>170</td>\n",
       "    </tr>\n",
       "    <tr>\n",
       "      <th>7</th>\n",
       "      <td>--RYvmB6UYRyZQqXkBv4eQ</td>\n",
       "      <td>1</td>\n",
       "    </tr>\n",
       "    <tr>\n",
       "      <th>8</th>\n",
       "      <td>--UOvCH5qEgdNQ8lzR8QYQ</td>\n",
       "      <td>7</td>\n",
       "    </tr>\n",
       "    <tr>\n",
       "      <th>9</th>\n",
       "      <td>--WhK4MJx0fKvg64LqwStg</td>\n",
       "      <td>1</td>\n",
       "    </tr>\n",
       "  </tbody>\n",
       "</table>\n",
       "</div>"
      ],
      "text/plain": [
       "                       id  num_business_reviewed\n",
       "0  --7gjElmOrthETJ8XqzMBw                      1\n",
       "1  --Br-QsbO9ad5GbZxVGxaw                      1\n",
       "2  --BumyUHiO_7YsHurb9Hkw                     29\n",
       "3  --DKDJlRHfsvufdGSk_Sdw                      1\n",
       "4  --EVSb3jbKVL3WJ5NUCuCA                      1\n",
       "5  --KQJPdrU0Md97DiOliDzw                      1\n",
       "6  --Qh8yKWAvIP4V4K8ZPfHA                    170\n",
       "7  --RYvmB6UYRyZQqXkBv4eQ                      1\n",
       "8  --UOvCH5qEgdNQ8lzR8QYQ                      7\n",
       "9  --WhK4MJx0fKvg64LqwStg                      1"
      ]
     },
     "metadata": {},
     "output_type": "display_data"
    },
    {
     "name": "stdout",
     "output_type": "stream",
     "text": [
      "CPU times: user 2.38 s, sys: 33.9 ms, total: 2.42 s\n",
      "Wall time: 2.64 s\n"
     ]
    }
   ],
   "source": [
    "%%time\n",
    "# get number of businesses reviewed by user\n",
    "\n",
    "query = \"\"\"\n",
    "        MATCH (u:User)\n",
    "        RETURN u.id as id, size((u)-[:REVIEWED]->()) AS num_business_reviewed   \n",
    "        ORDER BY id, num_business_reviewed DESC\n",
    "        \"\"\"\n",
    "\n",
    "with driver.session() as session:\n",
    "    user_review_count = session.run(query)\n",
    "\n",
    "\n",
    "user_review_count_df = pd.DataFrame([dict(record) for record in user_review_count])\n",
    "    \n",
    "display(user_review_count_df.head(10))"
   ]
  },
  {
   "cell_type": "code",
   "execution_count": 386,
   "metadata": {},
   "outputs": [
    {
     "data": {
      "image/png": "[encoded data removed]",
      "text/plain": [
       "<matplotlib.figure.Figure at 0x10a4796a0>"
      ]
     },
     "metadata": {},
     "output_type": "display_data"
    },
    {
     "data": {
      "text/html": [
       "<div>\n",
       "<style>\n",
       "    .dataframe thead tr:only-child th {\n",
       "        text-align: right;\n",
       "    }\n",
       "\n",
       "    .dataframe thead th {\n",
       "        text-align: left;\n",
       "    }\n",
       "\n",
       "    .dataframe tbody tr th {\n",
       "        vertical-align: top;\n",
       "    }\n",
       "</style>\n",
       "<table border=\"1\" class=\"dataframe\">\n",
       "  <thead>\n",
       "    <tr style=\"text-align: right;\">\n",
       "      <th></th>\n",
       "      <th>num_business_reviewed</th>\n",
       "    </tr>\n",
       "  </thead>\n",
       "  <tbody>\n",
       "    <tr>\n",
       "      <th>count</th>\n",
       "      <td>66639.000000</td>\n",
       "    </tr>\n",
       "    <tr>\n",
       "      <th>mean</th>\n",
       "      <td>3.921457</td>\n",
       "    </tr>\n",
       "    <tr>\n",
       "      <th>std</th>\n",
       "      <td>10.314604</td>\n",
       "    </tr>\n",
       "    <tr>\n",
       "      <th>min</th>\n",
       "      <td>1.000000</td>\n",
       "    </tr>\n",
       "    <tr>\n",
       "      <th>10%</th>\n",
       "      <td>1.000000</td>\n",
       "    </tr>\n",
       "    <tr>\n",
       "      <th>15%</th>\n",
       "      <td>1.000000</td>\n",
       "    </tr>\n",
       "    <tr>\n",
       "      <th>20%</th>\n",
       "      <td>1.000000</td>\n",
       "    </tr>\n",
       "    <tr>\n",
       "      <th>25%</th>\n",
       "      <td>1.000000</td>\n",
       "    </tr>\n",
       "    <tr>\n",
       "      <th>50%</th>\n",
       "      <td>1.000000</td>\n",
       "    </tr>\n",
       "    <tr>\n",
       "      <th>60%</th>\n",
       "      <td>2.000000</td>\n",
       "    </tr>\n",
       "    <tr>\n",
       "      <th>75%</th>\n",
       "      <td>3.000000</td>\n",
       "    </tr>\n",
       "    <tr>\n",
       "      <th>80%</th>\n",
       "      <td>4.000000</td>\n",
       "    </tr>\n",
       "    <tr>\n",
       "      <th>90%</th>\n",
       "      <td>7.000000</td>\n",
       "    </tr>\n",
       "    <tr>\n",
       "      <th>95%</th>\n",
       "      <td>13.000000</td>\n",
       "    </tr>\n",
       "    <tr>\n",
       "      <th>99%</th>\n",
       "      <td>44.000000</td>\n",
       "    </tr>\n",
       "    <tr>\n",
       "      <th>max</th>\n",
       "      <td>609.000000</td>\n",
       "    </tr>\n",
       "  </tbody>\n",
       "</table>\n",
       "</div>"
      ],
      "text/plain": [
       "       num_business_reviewed\n",
       "count           66639.000000\n",
       "mean                3.921457\n",
       "std                10.314604\n",
       "min                 1.000000\n",
       "10%                 1.000000\n",
       "15%                 1.000000\n",
       "20%                 1.000000\n",
       "25%                 1.000000\n",
       "50%                 1.000000\n",
       "60%                 2.000000\n",
       "75%                 3.000000\n",
       "80%                 4.000000\n",
       "90%                 7.000000\n",
       "95%                13.000000\n",
       "99%                44.000000\n",
       "max               609.000000"
      ]
     },
     "metadata": {},
     "output_type": "display_data"
    }
   ],
   "source": [
    "plt.hist(user_review_count_df['num_business_reviewed'])\n",
    "plt.show()     \n",
    "display(user_review_count_df.describe(percentiles=[0.1,0.15,0.2,0.25,0.5,0.6,0.75,0.8,0.9,0.95,0.99]))\n"
   ]
  },
  {
   "cell_type": "code",
   "execution_count": 387,
   "metadata": {},
   "outputs": [
    {
     "data": {
      "text/plain": [
       "(11293, 2)"
      ]
     },
     "execution_count": 387,
     "metadata": {},
     "output_type": "execute_result"
    }
   ],
   "source": [
    "user_review_count_df[user_review_count_df['num_business_reviewed'] >= 5].shape"
   ]
  },
  {
   "cell_type": "code",
   "execution_count": null,
   "metadata": {
    "collapsed": true
   },
   "outputs": [],
   "source": [
    "# for now, don't remove users.  run LPA on users with at least 5 reviews"
   ]
  },
  {
   "cell_type": "code",
   "execution_count": null,
   "metadata": {
    "collapsed": true
   },
   "outputs": [],
   "source": []
  },
  {
   "cell_type": "code",
   "execution_count": null,
   "metadata": {
    "collapsed": true
   },
   "outputs": [],
   "source": []
  },
  {
   "cell_type": "code",
   "execution_count": null,
   "metadata": {
    "collapsed": true
   },
   "outputs": [],
   "source": []
  },
  {
   "cell_type": "code",
   "execution_count": null,
   "metadata": {
    "collapsed": true
   },
   "outputs": [],
   "source": []
  },
  {
   "cell_type": "code",
   "execution_count": null,
   "metadata": {
    "collapsed": true
   },
   "outputs": [],
   "source": []
  },
  {
   "cell_type": "code",
   "execution_count": null,
   "metadata": {
    "collapsed": true
   },
   "outputs": [],
   "source": []
  },
  {
   "cell_type": "code",
   "execution_count": null,
   "metadata": {
    "collapsed": true
   },
   "outputs": [],
   "source": []
  },
  {
   "cell_type": "code",
   "execution_count": null,
   "metadata": {
    "collapsed": true
   },
   "outputs": [],
   "source": []
  },
  {
   "cell_type": "code",
   "execution_count": null,
   "metadata": {
    "collapsed": true
   },
   "outputs": [],
   "source": []
  }
 ],
 "metadata": {
  "kernelspec": {
   "display_name": "Python 3",
   "language": "python",
   "name": "python3"
  },
  "language_info": {
   "codemirror_mode": {
    "name": "ipython",
    "version": 3
   },
   "file_extension": ".py",
   "mimetype": "text/x-python",
   "name": "python",
   "nbconvert_exporter": "python",
   "pygments_lexer": "ipython3",
   "version": "3.6.1"
  }
 },
 "nbformat": 4,
 "nbformat_minor": 2
}
