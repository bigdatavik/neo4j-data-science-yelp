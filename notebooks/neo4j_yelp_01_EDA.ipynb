{
 "cells": [
  {
   "cell_type": "markdown",
   "metadata": {},
   "source": [
    "# Data Science with Neo4j Using Yelp Data"
   ]
  },
  {
   "cell_type": "markdown",
   "metadata": {},
   "source": [
    "Status: Work in Progress"
   ]
  },
  {
   "cell_type": "markdown",
   "metadata": {},
   "source": [
    "### Course Overview"
   ]
  },
  {
   "cell_type": "markdown",
   "metadata": {},
   "source": [
    "This 4-part series covers data science concepts and techniques applicable to various domains and industries. Through practical examples, we will show just how easy it is to derive insights given a particular dataset. Thanks to Yelp, we have access to business, review and user data across multiple cities.  Using Neo4j to model and store our highly connected data, we will make sense of it, using a combination of Cypher, graph-specific algorithms and standard Python machine learning libraries.  Below are the topics that we will cover in this course:\n",
    "\n",
    "1.  Exploratory Data Analysis\n",
    "2.  Segmentation and Community Detection\n",
    "3.  Similarity and Recommendations\n",
    "4.  Influencers and Centrality"
   ]
  },
  {
   "cell_type": "markdown",
   "metadata": {},
   "source": [
    "### Pre-requisites"
   ]
  },
  {
   "cell_type": "markdown",
   "metadata": {},
   "source": [
    "This course assumes that you have basic knowledge of the Cypher query language and some scripting in Python. For those not yet familiar with Cypher but have some experience with SQL, you will quickly discover that Cypher is just SQL for graphs! To help you get started with Cypher, or simply brush up, please click [here](https://neo4j.com/docs/cypher-refcard/current/).  \n",
    "\n",
    "We will use Python to demonstrate traditional, non-graph specific data science techniques and algorithms.  While other languages have equally rich data manipulation and machine learning libraries, we have chosen Python for this course as it has a relatively low learning curve.  It is also a general purpose language as opposed to statistics-focused and has great emphasis on code readability. For Python resources, please click [here](https://www.python.org/doc/).\n",
    " \n",
    "One of the key concepts in the field of data science is the idea of reproducibility.  This means that we want our analysis to be performed so that it is well-documented and can easily be re-executed if needed.  For this, we use Jupyter Notebook which allows us to combine Python code, output, visualization and text all in one place!  To learn more about the notebook, please click [here](http://jupyter.org).\n",
    "\n",
    "The data required for this course has been pre-loaded into Neo4j. However, if you are interested in getting hands-on experience in creating your own Neo4j database, please follow instructions [here](https://github.com/neo4j-contrib/neo4j-data-science-yelp/blob/master/notebooks/neo4j_yelp_00_data_load.ipynb)."
   ]
  },
  {
   "cell_type": "markdown",
   "metadata": {},
   "source": [
    "### Module 1: Exploratory Data Analysis"
   ]
  },
  {
   "cell_type": "markdown",
   "metadata": {},
   "source": [
    "The first thing we need to do when given a dataset is explore it. This allows us to understand the population that we are working with, as well as the quality of the data at hand.  Simple descriptive statistics like counts, averages and percentages help us gain insight into the various dimensions present in the data. In addition, visualizing distributions is useful in discerning values that are considered normal from those deemed to be extreme. In statistics, extreme values are commonly referred to as \"outliers\".\n",
    "\n",
    "In the data science pipeline, it is at the exploratory stage that we often discover that data is hardly ever clean or perfect. This means that we will come across dimensions or variables that either have missing, incorrect or extreme values.  Although it is beyond the scope of this course, it is worth noting that as data scientists, we learn to make adjustments to make the data more feasible to work with.  Examples of common techniques include applying transformation functions to variables, imputing missing values and deriving new variables from existing ones.\n",
    "\n",
    "In this module, we will focus solely on dataset exploration. Data cleansing techniques is not within the scope of this course."
   ]
  },
  {
   "cell_type": "markdown",
   "metadata": {},
   "source": [
    "### Understanding the Toronto Food Scene"
   ]
  },
  {
   "cell_type": "markdown",
   "metadata": {},
   "source": [
    "Our goal is to understand the food scene in one of the most diverse cities in the world: Toronto!  At the time of writing, [Statistics Canada](http://www12.statcan.gc.ca/census-recensement/2016/dp-pd/prof/details/page.cfm?Lang=E&Geo1=CSD&Code1=3520005&Geo2=PR&Code2=01&Data=Count&SearchText=toronto&SearchType=Begins&SearchPR=01&B1=All) estimates that Toronto is home to 2.7 million people, nearly half of whom were born outside of Canada (approximately 1.3 million).  Known for being a multi-cultural city, what can we discover about its food culture?  In this module, we will demonstrate how to perform exploratory data analysis using a subset of the Yelp dataset.  While there are other cities and businesses present in the data, we will focus our analysis on restaurants located in Toronto.\n",
    "\n",
    "Here's the graph data model that we are working with:\n",
    "(insert property graph model below)"
   ]
  },
  {
   "cell_type": "markdown",
   "metadata": {},
   "source": [
    "We have Users who <i>wrote</i> Reviews, and these Reviews are <i>review of</i> Businesses.  A Business is <i>in</i> a Category and it is located <i>in</i> a City, which in turn is <i>in</i> a State.  Note also that Users can be <i>friends with</i> other Users.  "
   ]
  },
  {
   "cell_type": "code",
   "execution_count": 3,
   "metadata": {
    "collapsed": true
   },
   "outputs": [],
   "source": [
    "from neo4j.v1 import GraphDatabase, basic_auth\n",
    "import pandas as pd\n",
    "import matplotlib.pyplot as plt"
   ]
  },
  {
   "cell_type": "code",
   "execution_count": 4,
   "metadata": {
    "collapsed": true
   },
   "outputs": [],
   "source": [
    "driver = GraphDatabase.driver(\"bolt://localhost:7687\", auth=basic_auth(\"neo4j\", \"neo4jneo4j\"))"
   ]
  },
  {
   "cell_type": "markdown",
   "metadata": {},
   "source": [
    "### Part 1: Descriptive Statistics"
   ]
  },
  {
   "cell_type": "markdown",
   "metadata": {},
   "source": [
    "In this section, we compute high-level metrics associated with our population of interest.  From our property graph data model, this includes the following entities: Business, Review and User. Through Cypher queries, we will discover insights related to Toronto restaurants: the proportion of the city's overall service industry that they account for, their distribution by neighborhood, as well as their quality as inferred by user ratings.\n",
    "\n",
    "First, let's understand the size of the service industry in Toronto and the proportion that restaurants account for."
   ]
  },
  {
   "cell_type": "markdown",
   "metadata": {},
   "source": [
    "#### Query 1: How many businesses are there in Toronto?"
   ]
  },
  {
   "cell_type": "code",
   "execution_count": 60,
   "metadata": {},
   "outputs": [
    {
     "name": "stdout",
     "output_type": "stream",
     "text": [
      "Number of businesses in Toronto: 17206\n",
      "\n",
      "CPU times: user 1.37 ms, sys: 1.54 ms, total: 2.91 ms\n",
      "Wall time: 20.3 ms\n"
     ]
    }
   ],
   "source": [
    "%%time\n",
    "\n",
    "query1 = \"\"\"\n",
    "         MATCH (b:Business)-[:IN_CITY]->(c:City {name:'Toronto'})\n",
    "         RETURN COUNT(b) AS num_businesses\n",
    "         \"\"\"\n",
    "\n",
    "with driver.session() as session:\n",
    "    result1 = session.run(query1)\n",
    "\n",
    "for record in result1:\n",
    "    business_count = record['num_businesses']\n",
    "    \n",
    "print('Number of businesses in Toronto: {0}\\n'.format(business_count))"
   ]
  },
  {
   "cell_type": "markdown",
   "metadata": {},
   "source": [
    "In the Cypher query above, we take note of two things: first, the use of the name property in the City node to select only businesses in Toronto.   Second, the use of the aggregate function COUNT(`<expression>`). Those familiar with SQL know that there exists a function with the same name.  Similar to its SQL counterpart, Cypher returns the number of non-null values for the given expression.  "
   ]
  },
  {
   "cell_type": "markdown",
   "metadata": {},
   "source": [
    "#### Query 2: What percentage of businesses in Toronto are restaurants?"
   ]
  },
  {
   "cell_type": "code",
   "execution_count": 64,
   "metadata": {},
   "outputs": [
    {
     "name": "stdout",
     "output_type": "stream",
     "text": [
      "Number of restaurants in Toronto: 7148\n",
      "\n",
      "CPU times: user 1.89 ms, sys: 2.21 ms, total: 4.09 ms\n",
      "Wall time: 186 ms\n"
     ]
    }
   ],
   "source": [
    "%%time\n",
    "\n",
    "query2 = \"\"\"\n",
    "         MATCH (b:Business)-[:IN_CITY]->(c:City {name:'Toronto'}),\n",
    "               (b)-[:IN_CATEGORY]->(cat:Category {name:'Restaurants'})\n",
    "         RETURN COUNT(b) AS num_restaurants\n",
    "         \"\"\"\n",
    "\n",
    "with driver.session() as session:\n",
    "    result2 = session.run(query2)\n",
    "\n",
    "for record in result2:\n",
    "    restaurant_count = record['num_restaurants']\n",
    "    \n",
    "print('Number of restaurants in Toronto: {0}\\n'.format(restaurant_count))"
   ]
  },
  {
   "cell_type": "markdown",
   "metadata": {},
   "source": [
    "Comparing the above to Query 1, we notice an additional clause `(b)-[:IN_CATEGORY]->(cat:Category {name:'Restaurants'})`.  This filters the result set such that only businesses belonging to the Restaurant category are returned.  \n",
    "\n",
    "Taking our restaurant count and dividing it by our business count, we see that 42% of businesses in Toronto are restaurants.  "
   ]
  },
  {
   "cell_type": "code",
   "execution_count": 65,
   "metadata": {},
   "outputs": [
    {
     "data": {
      "text/plain": [
       "41.543647564802974"
      ]
     },
     "execution_count": 65,
     "metadata": {},
     "output_type": "execute_result"
    }
   ],
   "source": [
    "restaurant_count/business_count * 100"
   ]
  },
  {
   "cell_type": "markdown",
   "metadata": {},
   "source": [
    "That's great to know! Now we would like to see how these restaurants are distributed across Toronto. Recall from our property graph data model that a Business has property `neighborhood`. Write a query that returns the number of neighborhoods in Toronto that have restaurants.  Count only those with non-blank values for `neighborhood`. "
   ]
  },
  {
   "cell_type": "markdown",
   "metadata": {},
   "source": [
    "#### Practice Exercise:  How many neighborhoods are there in Toronto that have restaurants? "
   ]
  },
  {
   "cell_type": "code",
   "execution_count": 68,
   "metadata": {},
   "outputs": [
    {
     "name": "stdout",
     "output_type": "stream",
     "text": [
      "Number of neighborhoods in Toronto: 72\n",
      "\n",
      "CPU times: user 1.99 ms, sys: 1.98 ms, total: 3.97 ms\n",
      "Wall time: 167 ms\n"
     ]
    }
   ],
   "source": [
    "%%time\n",
    "ex1 = \"\"\"\n",
    "    \n",
    "    MATCH (b:Business)-[:IN_CITY]->(c:City {name:'Toronto'}),\n",
    "          (b)-[:IN_CATEGORY]->(cat:Category {name:'Restaurants'}) \n",
    "    WHERE b.neighborhood <> ''       \n",
    "    RETURN COUNT(DISTINCT (b.neighborhood)) AS num_neighborhoods     \n",
    "    \n",
    "    \"\"\"\n",
    "\n",
    "with driver.session() as session:\n",
    "    result_ex1 = session.run(ex1)\n",
    "\n",
    "for record in result_ex1:\n",
    "    neighborhood_count = record['num_neighborhoods']\n",
    "    \n",
    "print('Number of neighborhoods in Toronto: {0}\\n'.format(neighborhood_count))\n"
   ]
  },
  {
   "cell_type": "markdown",
   "metadata": {},
   "source": [
    "resume here"
   ]
  },
  {
   "cell_type": "markdown",
   "metadata": {},
   "source": [
    "### 3.  What is the breakdown of restaurants by neighborhood?"
   ]
  },
  {
   "cell_type": "markdown",
   "metadata": {},
   "source": [
    "converting record to list to dataframe"
   ]
  },
  {
   "cell_type": "code",
   "execution_count": 36,
   "metadata": {},
   "outputs": [
    {
     "data": {
      "text/html": [
       "<div>\n",
       "<style>\n",
       "    .dataframe thead tr:only-child th {\n",
       "        text-align: right;\n",
       "    }\n",
       "\n",
       "    .dataframe thead th {\n",
       "        text-align: left;\n",
       "    }\n",
       "\n",
       "    .dataframe tbody tr th {\n",
       "        vertical-align: top;\n",
       "    }\n",
       "</style>\n",
       "<table border=\"1\" class=\"dataframe\">\n",
       "  <thead>\n",
       "    <tr style=\"text-align: right;\">\n",
       "      <th></th>\n",
       "      <th>neighborhood</th>\n",
       "      <th>num_restaurants</th>\n",
       "      <th>pct_total</th>\n",
       "    </tr>\n",
       "  </thead>\n",
       "  <tbody>\n",
       "    <tr>\n",
       "      <th>0</th>\n",
       "      <td>Downtown Core</td>\n",
       "      <td>666</td>\n",
       "      <td>9.317292</td>\n",
       "    </tr>\n",
       "    <tr>\n",
       "      <th>1</th>\n",
       "      <td>Scarborough</td>\n",
       "      <td>437</td>\n",
       "      <td>6.113598</td>\n",
       "    </tr>\n",
       "    <tr>\n",
       "      <th>2</th>\n",
       "      <td>Etobicoke</td>\n",
       "      <td>254</td>\n",
       "      <td>3.553442</td>\n",
       "    </tr>\n",
       "    <tr>\n",
       "      <th>3</th>\n",
       "      <td>Entertainment District</td>\n",
       "      <td>227</td>\n",
       "      <td>3.175713</td>\n",
       "    </tr>\n",
       "    <tr>\n",
       "      <th>4</th>\n",
       "      <td>Leslieville</td>\n",
       "      <td>168</td>\n",
       "      <td>2.350308</td>\n",
       "    </tr>\n",
       "  </tbody>\n",
       "</table>\n",
       "</div>"
      ],
      "text/plain": [
       "             neighborhood  num_restaurants  pct_total\n",
       "0           Downtown Core              666   9.317292\n",
       "1             Scarborough              437   6.113598\n",
       "2               Etobicoke              254   3.553442\n",
       "3  Entertainment District              227   3.175713\n",
       "4             Leslieville              168   2.350308"
      ]
     },
     "metadata": {},
     "output_type": "display_data"
    },
    {
     "name": "stdout",
     "output_type": "stream",
     "text": [
      "CPU times: user 17 ms, sys: 2.74 ms, total: 19.7 ms\n",
      "Wall time: 265 ms\n"
     ]
    }
   ],
   "source": [
    "%%time\n",
    "\n",
    "query3 = \"\"\"\n",
    "    \n",
    "    MATCH (b:Business)-[:IN_CITY]->(c:City {name:'Toronto'}),\n",
    "          (b)-[:IN_CATEGORY]->(cat:Category {name:'Restaurants'}) \n",
    "    WHERE b.neighborhood <> ''       \n",
    "    RETURN b.neighborhood as neighborhood, COUNT(b) as num_restaurants\n",
    "    ORDER BY num_restaurants DESC\n",
    "    \n",
    "    \"\"\"\n",
    "\n",
    "with driver.session() as session:\n",
    "    result3 = session.run(query3)\n",
    "\n",
    "neighborhood_list = []\n",
    "for record in result3:\n",
    "    neighborhood_list.append(dict(record))\n",
    "    \n",
    "neighborhood_df = pd.DataFrame(neighborhood_list)\n",
    "\n",
    "# Compute distribution of restaurants by neighborhood and display the top 10\n",
    "neighborhood_df['pct_total'] = neighborhood_df['num_restaurants'] / restaurant_count * 100\n",
    "\n",
    "display(neighborhood_df.head())"
   ]
  },
  {
   "cell_type": "markdown",
   "metadata": {},
   "source": [
    "We see that 9% of restaurants in Toronto are located in the Downtown Core."
   ]
  },
  {
   "cell_type": "markdown",
   "metadata": {},
   "source": [
    "### 4. How many reviews are there in total?"
   ]
  },
  {
   "cell_type": "code",
   "execution_count": 37,
   "metadata": {},
   "outputs": [
    {
     "name": "stdout",
     "output_type": "stream",
     "text": [
      "Number of reviews: 303757\n",
      "\n",
      "CPU times: user 1.77 ms, sys: 2.35 ms, total: 4.12 ms\n",
      "Wall time: 283 ms\n"
     ]
    }
   ],
   "source": [
    "%%time\n",
    "\n",
    "query4 = \"\"\"\n",
    "    \n",
    "    MATCH (b:Business)-[:IN_CITY]->(c:City {name:'Toronto'}),\n",
    "          (b)-[:IN_CATEGORY]->(cat:Category {name:'Restaurants'})\n",
    "    RETURN SUM(b.num_reviews) as num_reviews\n",
    "    \n",
    "    \"\"\"\n",
    "\n",
    "with driver.session() as session:\n",
    "    result4 = session.run(query4)\n",
    "\n",
    "for record in result4:\n",
    "    review_count = record['num_reviews']\n",
    "    \n",
    "print('Number of reviews: {0}\\n'.format(review_count))"
   ]
  },
  {
   "cell_type": "markdown",
   "metadata": {},
   "source": [
    "### Practice Exercise: What is the average number of reviews per restaurant?"
   ]
  },
  {
   "cell_type": "markdown",
   "metadata": {},
   "source": [
    "cypher avg"
   ]
  },
  {
   "cell_type": "code",
   "execution_count": 38,
   "metadata": {},
   "outputs": [
    {
     "name": "stdout",
     "output_type": "stream",
     "text": [
      "Average number of reviews per restaurant: 42.4953833240067\n",
      "\n",
      "CPU times: user 2.17 ms, sys: 2.28 ms, total: 4.45 ms\n",
      "Wall time: 469 ms\n"
     ]
    }
   ],
   "source": [
    "%%time\n",
    "\n",
    "ex2 = \"\"\"\n",
    "    \n",
    "    MATCH (b:Business)-[:IN_CITY]->(c:City {name:'Toronto'}),\n",
    "          (b)-[:IN_CATEGORY]->(cat:Category {name:'Restaurants'})\n",
    "    RETURN AVG(b.num_reviews) as avg_num_reviews                        // introducing AVG here\n",
    "    \n",
    "    \"\"\"\n",
    "\n",
    "with driver.session() as session:\n",
    "    result_ex2 = session.run(ex2)\n",
    "\n",
    "for record in result_ex2:\n",
    "    review_avg = record['avg_num_reviews']\n",
    "    \n",
    "print('Average number of reviews per restaurant: {0}\\n'.format(review_avg))"
   ]
  },
  {
   "cell_type": "markdown",
   "metadata": {},
   "source": [
    "We see that on average, a restaurant in Toronto has 42 reviews."
   ]
  },
  {
   "cell_type": "markdown",
   "metadata": {},
   "source": [
    "### 5. What does the distribution of average ratings look like?"
   ]
  },
  {
   "cell_type": "markdown",
   "metadata": {},
   "source": [
    "Each restaurant has an average rating associated with it.  The values range from 1 to 5, with 5 being the highest.   The answer to this question should give us insight into the quality of restaurants in Toronto as expressed by Yelp users."
   ]
  },
  {
   "cell_type": "code",
   "execution_count": 40,
   "metadata": {},
   "outputs": [
    {
     "data": {
      "text/html": [
       "<div>\n",
       "<style>\n",
       "    .dataframe thead tr:only-child th {\n",
       "        text-align: right;\n",
       "    }\n",
       "\n",
       "    .dataframe thead th {\n",
       "        text-align: left;\n",
       "    }\n",
       "\n",
       "    .dataframe tbody tr th {\n",
       "        vertical-align: top;\n",
       "    }\n",
       "</style>\n",
       "<table border=\"1\" class=\"dataframe\">\n",
       "  <thead>\n",
       "    <tr style=\"text-align: right;\">\n",
       "      <th></th>\n",
       "      <th>id</th>\n",
       "      <th>name</th>\n",
       "      <th>avg_rating</th>\n",
       "    </tr>\n",
       "  </thead>\n",
       "  <tbody>\n",
       "    <tr>\n",
       "      <th>0</th>\n",
       "      <td>Q3BUdZTMw8KRd-3QYtTyAg</td>\n",
       "      <td>Jetsun's Juicy Burger</td>\n",
       "      <td>2.5</td>\n",
       "    </tr>\n",
       "    <tr>\n",
       "      <th>1</th>\n",
       "      <td>GWngEFlr9ixVKetxenafOw</td>\n",
       "      <td>The Thai Grill</td>\n",
       "      <td>2.5</td>\n",
       "    </tr>\n",
       "    <tr>\n",
       "      <th>2</th>\n",
       "      <td>vBGfITg_FEkFYMQwNagbBA</td>\n",
       "      <td>Burrito Caliente Latin Grill</td>\n",
       "      <td>4.5</td>\n",
       "    </tr>\n",
       "    <tr>\n",
       "      <th>3</th>\n",
       "      <td>35ET2yviSxhkMmQa89rFKA</td>\n",
       "      <td>The Jersey Giant</td>\n",
       "      <td>3.0</td>\n",
       "    </tr>\n",
       "    <tr>\n",
       "      <th>4</th>\n",
       "      <td>kL7u1A1lIsefy_NGYZN9vg</td>\n",
       "      <td>La Prep</td>\n",
       "      <td>4.0</td>\n",
       "    </tr>\n",
       "  </tbody>\n",
       "</table>\n",
       "</div>"
      ],
      "text/plain": [
       "                       id                          name  avg_rating\n",
       "0  Q3BUdZTMw8KRd-3QYtTyAg         Jetsun's Juicy Burger         2.5\n",
       "1  GWngEFlr9ixVKetxenafOw                The Thai Grill         2.5\n",
       "2  vBGfITg_FEkFYMQwNagbBA  Burrito Caliente Latin Grill         4.5\n",
       "3  35ET2yviSxhkMmQa89rFKA              The Jersey Giant         3.0\n",
       "4  kL7u1A1lIsefy_NGYZN9vg                       La Prep         4.0"
      ]
     },
     "metadata": {},
     "output_type": "display_data"
    },
    {
     "name": "stdout",
     "output_type": "stream",
     "text": [
      "CPU times: user 497 ms, sys: 6.24 ms, total: 503 ms\n",
      "Wall time: 540 ms\n"
     ]
    }
   ],
   "source": [
    "%%time\n",
    "\n",
    "query5 = \"\"\"\n",
    "    \n",
    "    MATCH (b:Business)-[:IN_CITY]->(c:City {name:'Toronto'}),\n",
    "          (b)-[:IN_CATEGORY]->(cat:Category {name:'Restaurants'})\n",
    "    RETURN b.id as id, b.name as name, b.avg_rating as avg_rating\n",
    "    \n",
    "    \"\"\"\n",
    "\n",
    "with driver.session() as session:\n",
    "    result5 = session.run(query5)\n",
    "\n",
    "rating_list = []\n",
    "for record in result5:\n",
    "    rating_list.append(dict(record))\n",
    "    \n",
    "rating_df = pd.DataFrame(rating_list)\n",
    "display(rating_df[['id','name','avg_rating']].head())"
   ]
  },
  {
   "cell_type": "markdown",
   "metadata": {},
   "source": [
    "Let's look at some descriptive statistics related to average rating."
   ]
  },
  {
   "cell_type": "code",
   "execution_count": 41,
   "metadata": {},
   "outputs": [
    {
     "data": {
      "text/html": [
       "<div>\n",
       "<style>\n",
       "    .dataframe thead tr:only-child th {\n",
       "        text-align: right;\n",
       "    }\n",
       "\n",
       "    .dataframe thead th {\n",
       "        text-align: left;\n",
       "    }\n",
       "\n",
       "    .dataframe tbody tr th {\n",
       "        vertical-align: top;\n",
       "    }\n",
       "</style>\n",
       "<table border=\"1\" class=\"dataframe\">\n",
       "  <thead>\n",
       "    <tr style=\"text-align: right;\">\n",
       "      <th></th>\n",
       "      <th>avg_rating</th>\n",
       "    </tr>\n",
       "  </thead>\n",
       "  <tbody>\n",
       "    <tr>\n",
       "      <th>count</th>\n",
       "      <td>7148.000000</td>\n",
       "    </tr>\n",
       "    <tr>\n",
       "      <th>mean</th>\n",
       "      <td>3.423475</td>\n",
       "    </tr>\n",
       "    <tr>\n",
       "      <th>std</th>\n",
       "      <td>0.741883</td>\n",
       "    </tr>\n",
       "    <tr>\n",
       "      <th>min</th>\n",
       "      <td>1.000000</td>\n",
       "    </tr>\n",
       "    <tr>\n",
       "      <th>25%</th>\n",
       "      <td>3.000000</td>\n",
       "    </tr>\n",
       "    <tr>\n",
       "      <th>50%</th>\n",
       "      <td>3.500000</td>\n",
       "    </tr>\n",
       "    <tr>\n",
       "      <th>75%</th>\n",
       "      <td>4.000000</td>\n",
       "    </tr>\n",
       "    <tr>\n",
       "      <th>90%</th>\n",
       "      <td>4.500000</td>\n",
       "    </tr>\n",
       "    <tr>\n",
       "      <th>max</th>\n",
       "      <td>5.000000</td>\n",
       "    </tr>\n",
       "  </tbody>\n",
       "</table>\n",
       "</div>"
      ],
      "text/plain": [
       "        avg_rating\n",
       "count  7148.000000\n",
       "mean      3.423475\n",
       "std       0.741883\n",
       "min       1.000000\n",
       "25%       3.000000\n",
       "50%       3.500000\n",
       "75%       4.000000\n",
       "90%       4.500000\n",
       "max       5.000000"
      ]
     },
     "execution_count": 41,
     "metadata": {},
     "output_type": "execute_result"
    }
   ],
   "source": [
    "rating_df.describe([.25, .5, .75, 0.90])"
   ]
  },
  {
   "cell_type": "markdown",
   "metadata": {},
   "source": [
    "We can see that restaurants in Toronto have an average rating of 3.4 stars and a median rating of 3.5 stars.  The median indicates that half of the restaurants have an average rating below 3.5, and the other half have an average rating above 3.5.  Moreover, the 90th percentile indicates that only 10% of restaurants have an average rating of at least 4.5 stars."
   ]
  },
  {
   "cell_type": "markdown",
   "metadata": {},
   "source": [
    "Another way to understand the distribution of average ratings is by visualizing it using a histogram."
   ]
  },
  {
   "cell_type": "code",
   "execution_count": 42,
   "metadata": {},
   "outputs": [
    {
     "data": {
      "image/png": "[encoded data removed]",
      "text/plain": [
       "<matplotlib.figure.Figure at 0x10dbaec88>"
      ]
     },
     "metadata": {},
     "output_type": "display_data"
    }
   ],
   "source": [
    "plt.hist(rating_df['avg_rating'])\n",
    "plt.show()                                     # to do: highlight median & mean in histogram"
   ]
  },
  {
   "cell_type": "markdown",
   "metadata": {
    "collapsed": true
   },
   "source": [
    "### 6.  How many users have written reviews for Toronto restaurants?"
   ]
  },
  {
   "cell_type": "code",
   "execution_count": 43,
   "metadata": {},
   "outputs": [
    {
     "name": "stdout",
     "output_type": "stream",
     "text": [
      "Number of reviewers: 73041\n",
      "\n",
      "CPU times: user 2.34 ms, sys: 2.46 ms, total: 4.79 ms\n",
      "Wall time: 9.02 s\n"
     ]
    }
   ],
   "source": [
    "%%time\n",
    "\n",
    "query6 = \"\"\"\n",
    "    \n",
    "    MATCH (u:User)-[:WROTE]->(r:Review)-[:REVIEW_OF]->(b:Business)-[:IN_CITY]->(c:City {name:'Toronto'}),\n",
    "          (b)-[:IN_CATEGORY]->(cat:Category {name:'Restaurants'})\n",
    "    RETURN COUNT(DISTINCT(u)) AS num_reviewers\n",
    "    \n",
    "    \"\"\"\n",
    "\n",
    "with driver.session() as session:\n",
    "    result6 = session.run(query6)\n",
    "\n",
    "for record in result6:\n",
    "    reviewer_count = record['num_reviewers']\n",
    "    \n",
    "print('Number of reviewers: {0}\\n'.format(reviewer_count))"
   ]
  },
  {
   "cell_type": "markdown",
   "metadata": {
    "collapsed": true
   },
   "source": [
    "### 7. What is the distribution of average number of reviews per user?  "
   ]
  },
  {
   "cell_type": "code",
   "execution_count": 110,
   "metadata": {},
   "outputs": [
    {
     "data": {
      "text/plain": [
       "(73041, 3)"
      ]
     },
     "metadata": {},
     "output_type": "display_data"
    },
    {
     "data": {
      "text/html": [
       "<div>\n",
       "<style>\n",
       "    .dataframe thead tr:only-child th {\n",
       "        text-align: right;\n",
       "    }\n",
       "\n",
       "    .dataframe thead th {\n",
       "        text-align: left;\n",
       "    }\n",
       "\n",
       "    .dataframe tbody tr th {\n",
       "        vertical-align: top;\n",
       "    }\n",
       "</style>\n",
       "<table border=\"1\" class=\"dataframe\">\n",
       "  <thead>\n",
       "    <tr style=\"text-align: right;\">\n",
       "      <th></th>\n",
       "      <th>id</th>\n",
       "      <th>name</th>\n",
       "      <th>num_reviews</th>\n",
       "    </tr>\n",
       "  </thead>\n",
       "  <tbody>\n",
       "    <tr>\n",
       "      <th>0</th>\n",
       "      <td>3uGBiaa_4BmrA5Nyj6hFRA</td>\n",
       "      <td>Ian</td>\n",
       "      <td>23</td>\n",
       "    </tr>\n",
       "    <tr>\n",
       "      <th>1</th>\n",
       "      <td>SML6__mXgEbA4DZkVchruA</td>\n",
       "      <td>Dyna</td>\n",
       "      <td>102</td>\n",
       "    </tr>\n",
       "    <tr>\n",
       "      <th>2</th>\n",
       "      <td>b4Dvi7D0LkrJcyzEsP0w4A</td>\n",
       "      <td>Brian</td>\n",
       "      <td>100</td>\n",
       "    </tr>\n",
       "    <tr>\n",
       "      <th>3</th>\n",
       "      <td>DxhQiEgLB_PNi69Lt6nHKQ</td>\n",
       "      <td>Mel</td>\n",
       "      <td>351</td>\n",
       "    </tr>\n",
       "    <tr>\n",
       "      <th>4</th>\n",
       "      <td>mrru6hbeQLvagU4vkfuqmw</td>\n",
       "      <td>Jenny</td>\n",
       "      <td>331</td>\n",
       "    </tr>\n",
       "  </tbody>\n",
       "</table>\n",
       "</div>"
      ],
      "text/plain": [
       "                       id   name  num_reviews\n",
       "0  3uGBiaa_4BmrA5Nyj6hFRA    Ian           23\n",
       "1  SML6__mXgEbA4DZkVchruA   Dyna          102\n",
       "2  b4Dvi7D0LkrJcyzEsP0w4A  Brian          100\n",
       "3  DxhQiEgLB_PNi69Lt6nHKQ    Mel          351\n",
       "4  mrru6hbeQLvagU4vkfuqmw  Jenny          331"
      ]
     },
     "metadata": {},
     "output_type": "display_data"
    },
    {
     "name": "stdout",
     "output_type": "stream",
     "text": [
      "CPU times: user 6.64 s, sys: 37.6 ms, total: 6.67 s\n",
      "Wall time: 6.74 s\n"
     ]
    }
   ],
   "source": [
    "%%time\n",
    "\n",
    "query7 = \"\"\"\n",
    "    \n",
    "    MATCH (u:User)-[:WROTE]->(r:Review)-[:REVIEW_OF]->(b:Business)-[:IN_CITY]->(c:City {name:'Toronto'}),\n",
    "          (b)-[:IN_CATEGORY]->(cat:Category {name:'Restaurants'})\n",
    "    RETURN DISTINCT u.id, u.name, u.num_reviews\n",
    "    \n",
    "    \"\"\"\n",
    "\n",
    "# Store user review data in a list\n",
    "user_review_list = []\n",
    "for row in g.run(query7):\n",
    "    user_review_list.append(row)\n",
    "    \n",
    "# Convert user_review_list to a dataframe and re-label columns\n",
    "user_review_df         = pd.DataFrame(user_review_list)\n",
    "user_review_df.columns = [['id','name','num_reviews']]\n",
    "display(user_review_df.shape)\n",
    "display(user_review_df.head())"
   ]
  },
  {
   "cell_type": "code",
   "execution_count": 44,
   "metadata": {},
   "outputs": [
    {
     "data": {
      "text/html": [
       "<div>\n",
       "<style>\n",
       "    .dataframe thead tr:only-child th {\n",
       "        text-align: right;\n",
       "    }\n",
       "\n",
       "    .dataframe thead th {\n",
       "        text-align: left;\n",
       "    }\n",
       "\n",
       "    .dataframe tbody tr th {\n",
       "        vertical-align: top;\n",
       "    }\n",
       "</style>\n",
       "<table border=\"1\" class=\"dataframe\">\n",
       "  <thead>\n",
       "    <tr style=\"text-align: right;\">\n",
       "      <th></th>\n",
       "      <th>id</th>\n",
       "      <th>name</th>\n",
       "      <th>num_reviews</th>\n",
       "    </tr>\n",
       "  </thead>\n",
       "  <tbody>\n",
       "    <tr>\n",
       "      <th>0</th>\n",
       "      <td>3uGBiaa_4BmrA5Nyj6hFRA</td>\n",
       "      <td>Ian</td>\n",
       "      <td>23</td>\n",
       "    </tr>\n",
       "    <tr>\n",
       "      <th>1</th>\n",
       "      <td>SML6__mXgEbA4DZkVchruA</td>\n",
       "      <td>Dyna</td>\n",
       "      <td>102</td>\n",
       "    </tr>\n",
       "    <tr>\n",
       "      <th>2</th>\n",
       "      <td>b4Dvi7D0LkrJcyzEsP0w4A</td>\n",
       "      <td>Brian</td>\n",
       "      <td>100</td>\n",
       "    </tr>\n",
       "    <tr>\n",
       "      <th>3</th>\n",
       "      <td>DxhQiEgLB_PNi69Lt6nHKQ</td>\n",
       "      <td>Mel</td>\n",
       "      <td>351</td>\n",
       "    </tr>\n",
       "    <tr>\n",
       "      <th>4</th>\n",
       "      <td>mrru6hbeQLvagU4vkfuqmw</td>\n",
       "      <td>Jenny</td>\n",
       "      <td>331</td>\n",
       "    </tr>\n",
       "  </tbody>\n",
       "</table>\n",
       "</div>"
      ],
      "text/plain": [
       "                       id   name  num_reviews\n",
       "0  3uGBiaa_4BmrA5Nyj6hFRA    Ian           23\n",
       "1  SML6__mXgEbA4DZkVchruA   Dyna          102\n",
       "2  b4Dvi7D0LkrJcyzEsP0w4A  Brian          100\n",
       "3  DxhQiEgLB_PNi69Lt6nHKQ    Mel          351\n",
       "4  mrru6hbeQLvagU4vkfuqmw  Jenny          331"
      ]
     },
     "metadata": {},
     "output_type": "display_data"
    },
    {
     "name": "stdout",
     "output_type": "stream",
     "text": [
      "CPU times: user 4.52 s, sys: 109 ms, total: 4.63 s\n",
      "Wall time: 13.9 s\n"
     ]
    }
   ],
   "source": [
    "%%time\n",
    "\n",
    "query7 = \"\"\"\n",
    "    \n",
    "    MATCH (u:User)-[:WROTE]->(r:Review)-[:REVIEW_OF]->(b:Business)-[:IN_CITY]->(c:City {name:'Toronto'}),\n",
    "          (b)-[:IN_CATEGORY]->(cat:Category {name:'Restaurants'})\n",
    "    RETURN DISTINCT u.id as id, u.name as name, u.num_reviews as num_reviews\n",
    "    \n",
    "    \"\"\"\n",
    "\n",
    "with driver.session() as session:\n",
    "    result7 = session.run(query7)\n",
    "\n",
    "user_review_list = []\n",
    "for record in result7:\n",
    "    user_review_list.append(dict(record))\n",
    "    \n",
    "user_review_df = pd.DataFrame(user_review_list)\n",
    "display(user_review_df[['id','name','num_reviews']].head())"
   ]
  },
  {
   "cell_type": "code",
   "execution_count": 45,
   "metadata": {},
   "outputs": [
    {
     "data": {
      "text/html": [
       "<div>\n",
       "<style>\n",
       "    .dataframe thead tr:only-child th {\n",
       "        text-align: right;\n",
       "    }\n",
       "\n",
       "    .dataframe thead th {\n",
       "        text-align: left;\n",
       "    }\n",
       "\n",
       "    .dataframe tbody tr th {\n",
       "        vertical-align: top;\n",
       "    }\n",
       "</style>\n",
       "<table border=\"1\" class=\"dataframe\">\n",
       "  <thead>\n",
       "    <tr style=\"text-align: right;\">\n",
       "      <th></th>\n",
       "      <th>num_reviews</th>\n",
       "    </tr>\n",
       "  </thead>\n",
       "  <tbody>\n",
       "    <tr>\n",
       "      <th>count</th>\n",
       "      <td>73041.000000</td>\n",
       "    </tr>\n",
       "    <tr>\n",
       "      <th>mean</th>\n",
       "      <td>33.427856</td>\n",
       "    </tr>\n",
       "    <tr>\n",
       "      <th>std</th>\n",
       "      <td>129.839337</td>\n",
       "    </tr>\n",
       "    <tr>\n",
       "      <th>min</th>\n",
       "      <td>0.000000</td>\n",
       "    </tr>\n",
       "    <tr>\n",
       "      <th>25%</th>\n",
       "      <td>2.000000</td>\n",
       "    </tr>\n",
       "    <tr>\n",
       "      <th>50%</th>\n",
       "      <td>6.000000</td>\n",
       "    </tr>\n",
       "    <tr>\n",
       "      <th>75%</th>\n",
       "      <td>18.000000</td>\n",
       "    </tr>\n",
       "    <tr>\n",
       "      <th>90%</th>\n",
       "      <td>63.000000</td>\n",
       "    </tr>\n",
       "    <tr>\n",
       "      <th>max</th>\n",
       "      <td>7764.000000</td>\n",
       "    </tr>\n",
       "  </tbody>\n",
       "</table>\n",
       "</div>"
      ],
      "text/plain": [
       "        num_reviews\n",
       "count  73041.000000\n",
       "mean      33.427856\n",
       "std      129.839337\n",
       "min        0.000000\n",
       "25%        2.000000\n",
       "50%        6.000000\n",
       "75%       18.000000\n",
       "90%       63.000000\n",
       "max     7764.000000"
      ]
     },
     "execution_count": 45,
     "metadata": {},
     "output_type": "execute_result"
    }
   ],
   "source": [
    "user_review_df.describe([.25, .5, .75, 0.90])"
   ]
  },
  {
   "cell_type": "markdown",
   "metadata": {},
   "source": [
    "On average, users write 33 reviews.   \n",
    "To do: Look at how long users have been using Yelp and normalize review count accordingly."
   ]
  },
  {
   "cell_type": "markdown",
   "metadata": {
    "collapsed": true
   },
   "source": [
    "### Part 2: Top Restaurants in Toronto"
   ]
  },
  {
   "cell_type": "markdown",
   "metadata": {
    "collapsed": true
   },
   "source": [
    "### 8. What are the top 10 restaurants in this neighborhood based on average rating?"
   ]
  },
  {
   "cell_type": "markdown",
   "metadata": {},
   "source": [
    "We have seen that 9% of restaurants in Toronto are located in the Downtown Core.  "
   ]
  },
  {
   "cell_type": "code",
   "execution_count": 47,
   "metadata": {},
   "outputs": [
    {
     "data": {
      "text/html": [
       "<div>\n",
       "<style>\n",
       "    .dataframe thead tr:only-child th {\n",
       "        text-align: right;\n",
       "    }\n",
       "\n",
       "    .dataframe thead th {\n",
       "        text-align: left;\n",
       "    }\n",
       "\n",
       "    .dataframe tbody tr th {\n",
       "        vertical-align: top;\n",
       "    }\n",
       "</style>\n",
       "<table border=\"1\" class=\"dataframe\">\n",
       "  <thead>\n",
       "    <tr style=\"text-align: right;\">\n",
       "      <th></th>\n",
       "      <th>name</th>\n",
       "      <th>avg_rating</th>\n",
       "      <th>num_reviews</th>\n",
       "    </tr>\n",
       "  </thead>\n",
       "  <tbody>\n",
       "    <tr>\n",
       "      <th>0</th>\n",
       "      <td>Salus Fresh Foods</td>\n",
       "      <td>5.0</td>\n",
       "      <td>33</td>\n",
       "    </tr>\n",
       "    <tr>\n",
       "      <th>1</th>\n",
       "      <td>Better than Yia Yia's</td>\n",
       "      <td>5.0</td>\n",
       "      <td>6</td>\n",
       "    </tr>\n",
       "    <tr>\n",
       "      <th>2</th>\n",
       "      <td>Waynak Modern Halal Eatery</td>\n",
       "      <td>5.0</td>\n",
       "      <td>5</td>\n",
       "    </tr>\n",
       "    <tr>\n",
       "      <th>3</th>\n",
       "      <td>Trinity Square Cafe</td>\n",
       "      <td>5.0</td>\n",
       "      <td>5</td>\n",
       "    </tr>\n",
       "    <tr>\n",
       "      <th>4</th>\n",
       "      <td>Chopsticks+Forks</td>\n",
       "      <td>5.0</td>\n",
       "      <td>3</td>\n",
       "    </tr>\n",
       "    <tr>\n",
       "      <th>5</th>\n",
       "      <td>Richmond Station</td>\n",
       "      <td>4.5</td>\n",
       "      <td>515</td>\n",
       "    </tr>\n",
       "    <tr>\n",
       "      <th>6</th>\n",
       "      <td>Kaiju</td>\n",
       "      <td>4.5</td>\n",
       "      <td>366</td>\n",
       "    </tr>\n",
       "    <tr>\n",
       "      <th>7</th>\n",
       "      <td>Kekou Gelato House</td>\n",
       "      <td>4.5</td>\n",
       "      <td>363</td>\n",
       "    </tr>\n",
       "    <tr>\n",
       "      <th>8</th>\n",
       "      <td>The Elm Tree Restaurant</td>\n",
       "      <td>4.5</td>\n",
       "      <td>168</td>\n",
       "    </tr>\n",
       "    <tr>\n",
       "      <th>9</th>\n",
       "      <td>Dac Biet Burger</td>\n",
       "      <td>4.5</td>\n",
       "      <td>122</td>\n",
       "    </tr>\n",
       "  </tbody>\n",
       "</table>\n",
       "</div>"
      ],
      "text/plain": [
       "                         name  avg_rating  num_reviews\n",
       "0           Salus Fresh Foods         5.0           33\n",
       "1       Better than Yia Yia's         5.0            6\n",
       "2  Waynak Modern Halal Eatery         5.0            5\n",
       "3         Trinity Square Cafe         5.0            5\n",
       "4            Chopsticks+Forks         5.0            3\n",
       "5            Richmond Station         4.5          515\n",
       "6                       Kaiju         4.5          366\n",
       "7          Kekou Gelato House         4.5          363\n",
       "8     The Elm Tree Restaurant         4.5          168\n",
       "9             Dac Biet Burger         4.5          122"
      ]
     },
     "metadata": {},
     "output_type": "display_data"
    },
    {
     "name": "stdout",
     "output_type": "stream",
     "text": [
      "CPU times: user 14.5 ms, sys: 3.06 ms, total: 17.6 ms\n",
      "Wall time: 114 ms\n"
     ]
    }
   ],
   "source": [
    "%%time\n",
    "\n",
    "query8 = \"\"\"\n",
    "    \n",
    "    MATCH (b:Business {neighborhood: 'Downtown Core'})-[:IN_CITY]->(c:City {name:'Toronto'}),\n",
    "          (b)-[:IN_CATEGORY]->(cat:Category {name:'Restaurants'})\n",
    "    RETURN b.name as name, b.avg_rating as avg_rating, b.num_reviews as num_reviews\n",
    "    ORDER BY b.avg_rating DESCENDING, b.num_reviews DESCENDING   // explain why we are sorting by num_reviews as well\n",
    "    LIMIT 10\n",
    "    \n",
    "    \"\"\"\n",
    "\n",
    "with driver.session() as session:\n",
    "    result8 = session.run(query8)\n",
    "\n",
    "restaurant_rating_list = []\n",
    "for record in result8:\n",
    "    restaurant_rating_list.append(dict(record))\n",
    "    \n",
    "restaurant_rating_df = pd.DataFrame(restaurant_rating_list)\n",
    "display(restaurant_rating_df[['name','avg_rating','num_reviews']].head(10))"
   ]
  },
  {
   "cell_type": "markdown",
   "metadata": {
    "collapsed": true
   },
   "source": [
    "We see that the top 5 restaurants have a perfect average rating of 5.  However, the number reviews for each restaurant is quite low.  Recall that previously, we calculated the average number of reviews per restaurant as 42.  Let's now refine our query to select only those restaurants with at least 42 reviews."
   ]
  },
  {
   "cell_type": "markdown",
   "metadata": {},
   "source": [
    "### Practice Exercise: Get the top 10 restaurants in the Downtown Core based on average rating.  Filter to include only those with at least 42 reviews."
   ]
  },
  {
   "cell_type": "code",
   "execution_count": 48,
   "metadata": {},
   "outputs": [
    {
     "data": {
      "text/html": [
       "<div>\n",
       "<style>\n",
       "    .dataframe thead tr:only-child th {\n",
       "        text-align: right;\n",
       "    }\n",
       "\n",
       "    .dataframe thead th {\n",
       "        text-align: left;\n",
       "    }\n",
       "\n",
       "    .dataframe tbody tr th {\n",
       "        vertical-align: top;\n",
       "    }\n",
       "</style>\n",
       "<table border=\"1\" class=\"dataframe\">\n",
       "  <thead>\n",
       "    <tr style=\"text-align: right;\">\n",
       "      <th></th>\n",
       "      <th>name</th>\n",
       "      <th>avg_rating</th>\n",
       "      <th>num_reviews</th>\n",
       "    </tr>\n",
       "  </thead>\n",
       "  <tbody>\n",
       "    <tr>\n",
       "      <th>0</th>\n",
       "      <td>Richmond Station</td>\n",
       "      <td>4.5</td>\n",
       "      <td>515</td>\n",
       "    </tr>\n",
       "    <tr>\n",
       "      <th>1</th>\n",
       "      <td>Kaiju</td>\n",
       "      <td>4.5</td>\n",
       "      <td>366</td>\n",
       "    </tr>\n",
       "    <tr>\n",
       "      <th>2</th>\n",
       "      <td>Kekou Gelato House</td>\n",
       "      <td>4.5</td>\n",
       "      <td>363</td>\n",
       "    </tr>\n",
       "    <tr>\n",
       "      <th>3</th>\n",
       "      <td>The Elm Tree Restaurant</td>\n",
       "      <td>4.5</td>\n",
       "      <td>168</td>\n",
       "    </tr>\n",
       "    <tr>\n",
       "      <th>4</th>\n",
       "      <td>Dac Biet Burger</td>\n",
       "      <td>4.5</td>\n",
       "      <td>122</td>\n",
       "    </tr>\n",
       "    <tr>\n",
       "      <th>5</th>\n",
       "      <td>Jimmy's Coffee</td>\n",
       "      <td>4.5</td>\n",
       "      <td>113</td>\n",
       "    </tr>\n",
       "    <tr>\n",
       "      <th>6</th>\n",
       "      <td>Katsuya</td>\n",
       "      <td>4.5</td>\n",
       "      <td>111</td>\n",
       "    </tr>\n",
       "    <tr>\n",
       "      <th>7</th>\n",
       "      <td>KINKA IZAKAYA ORIGINAL</td>\n",
       "      <td>4.0</td>\n",
       "      <td>1184</td>\n",
       "    </tr>\n",
       "    <tr>\n",
       "      <th>8</th>\n",
       "      <td>Sansotei Ramen</td>\n",
       "      <td>4.0</td>\n",
       "      <td>701</td>\n",
       "    </tr>\n",
       "    <tr>\n",
       "      <th>9</th>\n",
       "      <td>Beerbistro</td>\n",
       "      <td>4.0</td>\n",
       "      <td>546</td>\n",
       "    </tr>\n",
       "  </tbody>\n",
       "</table>\n",
       "</div>"
      ],
      "text/plain": [
       "                      name  avg_rating  num_reviews\n",
       "0         Richmond Station         4.5          515\n",
       "1                    Kaiju         4.5          366\n",
       "2       Kekou Gelato House         4.5          363\n",
       "3  The Elm Tree Restaurant         4.5          168\n",
       "4          Dac Biet Burger         4.5          122\n",
       "5           Jimmy's Coffee         4.5          113\n",
       "6                  Katsuya         4.5          111\n",
       "7   KINKA IZAKAYA ORIGINAL         4.0         1184\n",
       "8           Sansotei Ramen         4.0          701\n",
       "9               Beerbistro         4.0          546"
      ]
     },
     "metadata": {},
     "output_type": "display_data"
    },
    {
     "name": "stdout",
     "output_type": "stream",
     "text": [
      "CPU times: user 13.2 ms, sys: 2.76 ms, total: 16 ms\n",
      "Wall time: 480 ms\n"
     ]
    }
   ],
   "source": [
    "%%time\n",
    "\n",
    "ex3 = \"\"\"\n",
    "    \n",
    "    MATCH (b:Business {neighborhood: 'Downtown Core'})-[:IN_CITY]->(c:City {name:'Toronto'}),\n",
    "          (b)-[:IN_CATEGORY]->(cat:Category {name:'Restaurants'})\n",
    "    WHERE b.num_reviews >= 42                                          // learner to apply WHERE here\n",
    "    RETURN b.name as name, b.avg_rating as avg_rating, b.num_reviews as num_reviews\n",
    "    ORDER BY b.avg_rating DESCENDING, b.num_reviews DESCENDING\n",
    "    LIMIT 10\n",
    "    \n",
    "    \"\"\"\n",
    "\n",
    "with driver.session() as session:\n",
    "    result_ex3 = session.run(ex3)\n",
    "\n",
    "restaurant_rating_list_filtered = []\n",
    "for record in result_ex3:\n",
    "    restaurant_rating_list_filtered.append(dict(record))\n",
    "    \n",
    "restaurant_rating_df_filtered = pd.DataFrame(restaurant_rating_list_filtered)\n",
    "display(restaurant_rating_df_filtered[['name','avg_rating','num_reviews']].head(10))"
   ]
  },
  {
   "cell_type": "markdown",
   "metadata": {
    "collapsed": true
   },
   "source": [
    "### 9.  Let's define restaurant popularity by the number of reviews it has received.  Get the top 10 most popular restaurants in Toronto, irrespective of neighborhood."
   ]
  },
  {
   "cell_type": "code",
   "execution_count": 49,
   "metadata": {},
   "outputs": [
    {
     "data": {
      "text/html": [
       "<div>\n",
       "<style>\n",
       "    .dataframe thead tr:only-child th {\n",
       "        text-align: right;\n",
       "    }\n",
       "\n",
       "    .dataframe thead th {\n",
       "        text-align: left;\n",
       "    }\n",
       "\n",
       "    .dataframe tbody tr th {\n",
       "        vertical-align: top;\n",
       "    }\n",
       "</style>\n",
       "<table border=\"1\" class=\"dataframe\">\n",
       "  <thead>\n",
       "    <tr style=\"text-align: right;\">\n",
       "      <th></th>\n",
       "      <th>name</th>\n",
       "      <th>avg_rating</th>\n",
       "      <th>num_reviews</th>\n",
       "    </tr>\n",
       "  </thead>\n",
       "  <tbody>\n",
       "    <tr>\n",
       "      <th>0</th>\n",
       "      <td>Pai Northern Thai Kitchen</td>\n",
       "      <td>4.5</td>\n",
       "      <td>1494</td>\n",
       "    </tr>\n",
       "    <tr>\n",
       "      <th>1</th>\n",
       "      <td>Khao San Road</td>\n",
       "      <td>4.0</td>\n",
       "      <td>1270</td>\n",
       "    </tr>\n",
       "    <tr>\n",
       "      <th>2</th>\n",
       "      <td>KINKA IZAKAYA ORIGINAL</td>\n",
       "      <td>4.0</td>\n",
       "      <td>1184</td>\n",
       "    </tr>\n",
       "    <tr>\n",
       "      <th>3</th>\n",
       "      <td>Banh Mi Boys</td>\n",
       "      <td>4.0</td>\n",
       "      <td>973</td>\n",
       "    </tr>\n",
       "    <tr>\n",
       "      <th>4</th>\n",
       "      <td>Seven Lives Tacos Y Mariscos</td>\n",
       "      <td>4.5</td>\n",
       "      <td>945</td>\n",
       "    </tr>\n",
       "    <tr>\n",
       "      <th>5</th>\n",
       "      <td>Uncle Tetsu's Japanese Cheesecake</td>\n",
       "      <td>3.5</td>\n",
       "      <td>848</td>\n",
       "    </tr>\n",
       "    <tr>\n",
       "      <th>6</th>\n",
       "      <td>Salad King Restaurant</td>\n",
       "      <td>3.5</td>\n",
       "      <td>808</td>\n",
       "    </tr>\n",
       "    <tr>\n",
       "      <th>7</th>\n",
       "      <td>Momofuku Noodle Bar</td>\n",
       "      <td>3.0</td>\n",
       "      <td>759</td>\n",
       "    </tr>\n",
       "    <tr>\n",
       "      <th>8</th>\n",
       "      <td>Sansotei Ramen</td>\n",
       "      <td>4.0</td>\n",
       "      <td>701</td>\n",
       "    </tr>\n",
       "    <tr>\n",
       "      <th>9</th>\n",
       "      <td>Insomnia Restaurant &amp; Lounge</td>\n",
       "      <td>4.0</td>\n",
       "      <td>690</td>\n",
       "    </tr>\n",
       "  </tbody>\n",
       "</table>\n",
       "</div>"
      ],
      "text/plain": [
       "                                name  avg_rating  num_reviews\n",
       "0          Pai Northern Thai Kitchen         4.5         1494\n",
       "1                      Khao San Road         4.0         1270\n",
       "2             KINKA IZAKAYA ORIGINAL         4.0         1184\n",
       "3                       Banh Mi Boys         4.0          973\n",
       "4       Seven Lives Tacos Y Mariscos         4.5          945\n",
       "5  Uncle Tetsu's Japanese Cheesecake         3.5          848\n",
       "6              Salad King Restaurant         3.5          808\n",
       "7                Momofuku Noodle Bar         3.0          759\n",
       "8                     Sansotei Ramen         4.0          701\n",
       "9       Insomnia Restaurant & Lounge         4.0          690"
      ]
     },
     "metadata": {},
     "output_type": "display_data"
    },
    {
     "name": "stdout",
     "output_type": "stream",
     "text": [
      "CPU times: user 17.9 ms, sys: 3.01 ms, total: 20.9 ms\n",
      "Wall time: 1.19 s\n"
     ]
    }
   ],
   "source": [
    "%%time\n",
    "\n",
    "query9 = \"\"\"\n",
    "    \n",
    "    MATCH (b:Business)-[:IN_CITY]->(c:City {name:'Toronto'}),\n",
    "          (b)-[:IN_CATEGORY]->(cat:Category {name:'Restaurants'})\n",
    "    RETURN b.name as name, b.avg_rating as avg_rating, b.num_reviews as num_reviews\n",
    "    ORDER BY b.num_reviews DESCENDING\n",
    "    LIMIT 10\n",
    "    \n",
    "    \"\"\"\n",
    "\n",
    "with driver.session() as session:\n",
    "    result9 = session.run(query9)\n",
    "\n",
    "popular_list = []\n",
    "for record in result9:\n",
    "    popular_list.append(dict(record))\n",
    "    \n",
    "popular_df = pd.DataFrame(popular_list)\n",
    "display(popular_df[['name','avg_rating','num_reviews']].head(10))"
   ]
  },
  {
   "cell_type": "markdown",
   "metadata": {},
   "source": [
    "### 10. Let's define franchise popularity by the number of locations it has across Toronto.  Get the top 10 franchise restaurants in Toronto."
   ]
  },
  {
   "cell_type": "code",
   "execution_count": 139,
   "metadata": {},
   "outputs": [
    {
     "data": {
      "text/plain": [
       "(10, 2)"
      ]
     },
     "metadata": {},
     "output_type": "display_data"
    },
    {
     "data": {
      "text/html": [
       "<div>\n",
       "<style>\n",
       "    .dataframe thead tr:only-child th {\n",
       "        text-align: right;\n",
       "    }\n",
       "\n",
       "    .dataframe thead th {\n",
       "        text-align: left;\n",
       "    }\n",
       "\n",
       "    .dataframe tbody tr th {\n",
       "        vertical-align: top;\n",
       "    }\n",
       "</style>\n",
       "<table border=\"1\" class=\"dataframe\">\n",
       "  <thead>\n",
       "    <tr style=\"text-align: right;\">\n",
       "      <th></th>\n",
       "      <th>name</th>\n",
       "      <th>num_locations</th>\n",
       "    </tr>\n",
       "  </thead>\n",
       "  <tbody>\n",
       "    <tr>\n",
       "      <th>0</th>\n",
       "      <td>McDonald's</td>\n",
       "      <td>46</td>\n",
       "    </tr>\n",
       "    <tr>\n",
       "      <th>1</th>\n",
       "      <td>Subway</td>\n",
       "      <td>41</td>\n",
       "    </tr>\n",
       "    <tr>\n",
       "      <th>2</th>\n",
       "      <td>Tim Hortons</td>\n",
       "      <td>38</td>\n",
       "    </tr>\n",
       "    <tr>\n",
       "      <th>3</th>\n",
       "      <td>Starbucks</td>\n",
       "      <td>34</td>\n",
       "    </tr>\n",
       "    <tr>\n",
       "      <th>4</th>\n",
       "      <td>Pizza Pizza</td>\n",
       "      <td>33</td>\n",
       "    </tr>\n",
       "    <tr>\n",
       "      <th>5</th>\n",
       "      <td>Swiss Chalet Rotisserie &amp; Grill</td>\n",
       "      <td>32</td>\n",
       "    </tr>\n",
       "    <tr>\n",
       "      <th>6</th>\n",
       "      <td>Pizzaiolo</td>\n",
       "      <td>25</td>\n",
       "    </tr>\n",
       "    <tr>\n",
       "      <th>7</th>\n",
       "      <td>Freshii</td>\n",
       "      <td>23</td>\n",
       "    </tr>\n",
       "    <tr>\n",
       "      <th>8</th>\n",
       "      <td>Popeyes Louisiana Kitchen</td>\n",
       "      <td>23</td>\n",
       "    </tr>\n",
       "    <tr>\n",
       "      <th>9</th>\n",
       "      <td>Aroma Espresso Bar</td>\n",
       "      <td>21</td>\n",
       "    </tr>\n",
       "  </tbody>\n",
       "</table>\n",
       "</div>"
      ],
      "text/plain": [
       "                              name  num_locations\n",
       "0                       McDonald's             46\n",
       "1                           Subway             41\n",
       "2                      Tim Hortons             38\n",
       "3                        Starbucks             34\n",
       "4                      Pizza Pizza             33\n",
       "5  Swiss Chalet Rotisserie & Grill             32\n",
       "6                        Pizzaiolo             25\n",
       "7                          Freshii             23\n",
       "8        Popeyes Louisiana Kitchen             23\n",
       "9               Aroma Espresso Bar             21"
      ]
     },
     "metadata": {},
     "output_type": "display_data"
    },
    {
     "name": "stdout",
     "output_type": "stream",
     "text": [
      "CPU times: user 34.3 ms, sys: 21.8 ms, total: 56.1 ms\n",
      "Wall time: 454 ms\n"
     ]
    }
   ],
   "source": [
    "%%time\n",
    "\n",
    "query10 = \"\"\"\n",
    "    \n",
    "    MATCH (b:Business)-[:IN_CITY]->(c:City {name:'Toronto'}),\n",
    "          (b)-[:IN_CATEGORY]->(cat:Category {name:'Restaurants'})\n",
    "    RETURN b.name, COUNT(DISTINCT(b.id)) as num_locations\n",
    "    ORDER BY num_locations DESCENDING\n",
    "    LIMIT 10\n",
    "    \n",
    "    \"\"\"\n",
    "\n",
    "franchise_list = []\n",
    "for row in g.run(query10):\n",
    "    franchise_list.append(row)\n",
    "    \n",
    "# Convert franchise_list to a dataframe and re-label columns\n",
    "franchise_df         = pd.DataFrame(franchise_list)\n",
    "franchise_df.columns = [['name','num_locations']]\n",
    "display(franchise_df.shape)\n",
    "display(franchise_df.head(10))"
   ]
  },
  {
   "cell_type": "code",
   "execution_count": 50,
   "metadata": {},
   "outputs": [
    {
     "data": {
      "text/html": [
       "<div>\n",
       "<style>\n",
       "    .dataframe thead tr:only-child th {\n",
       "        text-align: right;\n",
       "    }\n",
       "\n",
       "    .dataframe thead th {\n",
       "        text-align: left;\n",
       "    }\n",
       "\n",
       "    .dataframe tbody tr th {\n",
       "        vertical-align: top;\n",
       "    }\n",
       "</style>\n",
       "<table border=\"1\" class=\"dataframe\">\n",
       "  <thead>\n",
       "    <tr style=\"text-align: right;\">\n",
       "      <th></th>\n",
       "      <th>name</th>\n",
       "      <th>num_locations</th>\n",
       "    </tr>\n",
       "  </thead>\n",
       "  <tbody>\n",
       "    <tr>\n",
       "      <th>0</th>\n",
       "      <td>McDonald's</td>\n",
       "      <td>46</td>\n",
       "    </tr>\n",
       "    <tr>\n",
       "      <th>1</th>\n",
       "      <td>Subway</td>\n",
       "      <td>41</td>\n",
       "    </tr>\n",
       "    <tr>\n",
       "      <th>2</th>\n",
       "      <td>Tim Hortons</td>\n",
       "      <td>38</td>\n",
       "    </tr>\n",
       "    <tr>\n",
       "      <th>3</th>\n",
       "      <td>Starbucks</td>\n",
       "      <td>34</td>\n",
       "    </tr>\n",
       "    <tr>\n",
       "      <th>4</th>\n",
       "      <td>Pizza Pizza</td>\n",
       "      <td>33</td>\n",
       "    </tr>\n",
       "    <tr>\n",
       "      <th>5</th>\n",
       "      <td>Swiss Chalet Rotisserie &amp; Grill</td>\n",
       "      <td>32</td>\n",
       "    </tr>\n",
       "    <tr>\n",
       "      <th>6</th>\n",
       "      <td>Pizzaiolo</td>\n",
       "      <td>25</td>\n",
       "    </tr>\n",
       "    <tr>\n",
       "      <th>7</th>\n",
       "      <td>Freshii</td>\n",
       "      <td>23</td>\n",
       "    </tr>\n",
       "    <tr>\n",
       "      <th>8</th>\n",
       "      <td>Popeyes Louisiana Kitchen</td>\n",
       "      <td>23</td>\n",
       "    </tr>\n",
       "    <tr>\n",
       "      <th>9</th>\n",
       "      <td>Aroma Espresso Bar</td>\n",
       "      <td>21</td>\n",
       "    </tr>\n",
       "  </tbody>\n",
       "</table>\n",
       "</div>"
      ],
      "text/plain": [
       "                              name  num_locations\n",
       "0                       McDonald's             46\n",
       "1                           Subway             41\n",
       "2                      Tim Hortons             38\n",
       "3                        Starbucks             34\n",
       "4                      Pizza Pizza             33\n",
       "5  Swiss Chalet Rotisserie & Grill             32\n",
       "6                        Pizzaiolo             25\n",
       "7                          Freshii             23\n",
       "8        Popeyes Louisiana Kitchen             23\n",
       "9               Aroma Espresso Bar             21"
      ]
     },
     "metadata": {},
     "output_type": "display_data"
    },
    {
     "name": "stdout",
     "output_type": "stream",
     "text": [
      "CPU times: user 15.7 ms, sys: 3.2 ms, total: 18.9 ms\n",
      "Wall time: 957 ms\n"
     ]
    }
   ],
   "source": [
    "%%time\n",
    "\n",
    "query10 = \"\"\"\n",
    "    \n",
    "    MATCH (b:Business)-[:IN_CITY]->(c:City {name:'Toronto'}),\n",
    "          (b)-[:IN_CATEGORY]->(cat:Category {name:'Restaurants'})\n",
    "    RETURN b.name as name, COUNT(DISTINCT(b.id)) as num_locations\n",
    "    ORDER BY num_locations DESCENDING\n",
    "    LIMIT 10\n",
    "    \n",
    "    \"\"\"\n",
    "\n",
    "with driver.session() as session:\n",
    "    result10 = session.run(query10)\n",
    "\n",
    "franchise_list = []\n",
    "for record in result10:\n",
    "    franchise_list.append(dict(record))\n",
    "    \n",
    "franchise_df = pd.DataFrame(franchise_list)\n",
    "display(franchise_df[['name','num_locations']].head(10))"
   ]
  },
  {
   "cell_type": "code",
   "execution_count": null,
   "metadata": {
    "collapsed": true
   },
   "outputs": [],
   "source": []
  },
  {
   "cell_type": "code",
   "execution_count": null,
   "metadata": {
    "collapsed": true
   },
   "outputs": [],
   "source": []
  },
  {
   "cell_type": "markdown",
   "metadata": {
    "collapsed": true
   },
   "source": []
  },
  {
   "cell_type": "markdown",
   "metadata": {},
   "source": [
    "### TO DO:   \n",
    "CHANGE DRIVER IN LOAD CSV NOTEBOOK, CREATE NOTEBOOK FOR NEO4J IMPORT, COMPARE RUN TIMES OF LOAD CSV AND NEO4J IMPORT, INCORPORATE STATSCAN DATA, LOAD CHECK-IN DATA TO GET MOST POPULAR RESTAURANT ON A FRIDAY EVENING, DEVELOP STORY AROUND QUERIES IN THIS MODULE\n",
    "     \n",
    "NOTE: RESERVING CATEGORY-RELATED QUERIES FOR THE NEXT MODULE OR SNEAK PEEK TO IT WITH SIMPLE QUIZ QUESTION IN THIS MODULE"
   ]
  }
 ],
 "metadata": {
  "kernelspec": {
   "display_name": "Python 3",
   "language": "python",
   "name": "python3"
  },
  "language_info": {
   "codemirror_mode": {
    "name": "ipython",
    "version": 3
   },
   "file_extension": ".py",
   "mimetype": "text/x-python",
   "name": "python",
   "nbconvert_exporter": "python",
   "pygments_lexer": "ipython3",
   "version": "3.6.1"
  }
 },
 "nbformat": 4,
 "nbformat_minor": 2
}
