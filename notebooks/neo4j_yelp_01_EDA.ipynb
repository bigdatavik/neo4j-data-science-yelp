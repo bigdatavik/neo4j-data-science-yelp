{
 "cells": [
  {
   "cell_type": "markdown",
   "metadata": {},
   "source": [
    "# Data Science with Neo4j Using Yelp Data"
   ]
  },
  {
   "cell_type": "markdown",
   "metadata": {},
   "source": [
    "### Course Overview"
   ]
  },
  {
   "cell_type": "markdown",
   "metadata": {},
   "source": [
    "This 4-part series covers data science concepts and techniques applicable to various domains and industries. Through practical examples, we will show just how easy it is to derive insights given a particular dataset. Thanks to Yelp, we have access to business, review and user data across multiple cities.  Using Neo4j to model and store our highly connected data, we will make sense of it, using a combination of Cypher, graph-specific algorithms and standard Python machine learning libraries.  Below are the topics that we will cover in this course:\n",
    "\n",
    "1.  Exploratory Data Analysis\n",
    "2.  Segmentation and Community Detection\n",
    "3.  Similarity and Recommendations\n",
    "4.  Influencers and Centrality"
   ]
  },
  {
   "cell_type": "markdown",
   "metadata": {},
   "source": [
    "### Pre-requisites"
   ]
  },
  {
   "cell_type": "markdown",
   "metadata": {},
   "source": [
    "This course assumes that you have basic knowledge of the Cypher query language and some scripting in Python. For those not yet familiar with Cypher but have some experience with SQL, you will quickly discover that Cypher is just SQL for graphs! To help you get started, or simply brush up, please click [here](https://neo4j.com/docs/cypher-refcard/current/).  \n",
    "\n",
    "We will use Python to demonstrate traditional, non-graph specific data science techniques and algorithms.  While other languages have equally rich data manipulation and machine learning libraries, we have chosen Python for this course for its relatively low learning curve.  It is also a general purpose language, as opposed to statistics-focused, and has great emphasis on code readability. For Python resources, please click [here](https://www.python.org/doc/).\n",
    " \n",
    "One of the key concepts in the field of data science is the idea of reproducibility.  This means that we want our analysis to be performed so that it is well-documented and can easily be re-executed if needed.  For this, we use Jupyter Notebook which allows us to combine Python code, output, visualization and text all in one place!  To learn more about the notebook, please click [here](http://jupyter.org).\n",
    "\n",
    "The data required for this course has been pre-loaded into Neo4j. However, if you are interested in getting hands-on experience in creating your own Neo4j database, please follow instructions [here](https://github.com/neo4j-contrib/neo4j-data-science-yelp/blob/master/notebooks/neo4j_yelp_00_data_load.ipynb)."
   ]
  },
  {
   "cell_type": "markdown",
   "metadata": {},
   "source": [
    "### Module 1: Exploratory Data Analysis"
   ]
  },
  {
   "cell_type": "markdown",
   "metadata": {},
   "source": [
    "The first thing we need to do when given a dataset is explore it. This allows us to understand the population that we are working with, as well as the quality of the data at hand.  Simple descriptive statistics like counts, averages and percentages help us gain insight into the various dimensions present in the data. In addition, visualizing distributions is useful in discerning values that are considered normal from those deemed to be extreme. In statistics, extreme values are commonly referred to as \"outliers\".\n",
    "\n",
    "In the data science pipeline, it is at the exploratory stage that we often discover that data is hardly ever clean or perfect. This means that we will come across dimensions or variables that either have missing, incorrect or extreme values.  Although it is beyond the scope of this course, it is worth noting that as data scientists, we learn to make adjustments and be creative in order to make the data more feasible to work with.  Examples of common techniques include applying transformation functions to variables, imputing missing values and deriving new variables from existing ones.\n",
    "\n",
    "In this module, we will focus solely on data exploration. Data cleansing techniques is not within the scope of this course."
   ]
  },
  {
   "cell_type": "markdown",
   "metadata": {},
   "source": [
    "### Understanding the Toronto Food Scene"
   ]
  },
  {
   "cell_type": "markdown",
   "metadata": {},
   "source": [
    "Our goal is to understand the food scene in one of the most diverse cities in the world: Toronto!  At the time of writing, [Statistics Canada](http://www12.statcan.gc.ca/census-recensement/2016/dp-pd/prof/details/page.cfm?Lang=E&Geo1=CSD&Code1=3520005&Geo2=PR&Code2=01&Data=Count&SearchText=toronto&SearchType=Begins&SearchPR=01&B1=All) estimates that Toronto is home to 2.7 million people, nearly half of whom were born outside of Canada (approximately 1.3 million).  Known for being a multi-cultural city, what can we discover about its food culture?  In this module, we will demonstrate how to perform exploratory data analysis using a subset of the Yelp dataset.  While there are other cities and businesses present in the data, we will focus our analysis on restaurants located in Toronto.\n",
    "\n",
    "Here's the graph data model that we are working with:[insert data model here]\n"
   ]
  },
  {
   "cell_type": "markdown",
   "metadata": {},
   "source": [
    "We have `Users` who <i>wrote</i> `Reviews`, and these `Reviews` are <i>review of</i> `Businesses`.  A `Business` is <i>in</i> a `Category` and it is located <i>in</i> a `City`, which in turn is <i>in</i> a `State`.  Note also that `Users` can be <i>friends with</i> other `Users`.  "
   ]
  },
  {
   "cell_type": "markdown",
   "metadata": {},
   "source": [
    "We begin this section by computing high-level metrics associated with our population of interest. Through Cypher queries, we will discover insights related to Toronto restaurants: the proportion of the city's overall service industry that they account for, their distribution by neighborhood, as well as their quality as inferred by user ratings.\n",
    "\n",
    "First, let's understand the size of the service industry in Toronto and the proportion that restaurants account for."
   ]
  },
  {
   "cell_type": "markdown",
   "metadata": {},
   "source": [
    "#### Query 1: How many businesses are there in Toronto?"
   ]
  },
  {
   "cell_type": "code",
   "execution_count": 1,
   "metadata": {
    "collapsed": true
   },
   "outputs": [],
   "source": [
    "from neo4j.v1 import GraphDatabase, basic_auth\n",
    "import pandas as pd\n",
    "import matplotlib.pyplot as plt"
   ]
  },
  {
   "cell_type": "code",
   "execution_count": 41,
   "metadata": {},
   "outputs": [],
   "source": [
    "driver = GraphDatabase.driver(\"bolt://localhost:7687\", auth=basic_auth(\"neo4j\", \"neo4jneo4j\"))"
   ]
  },
  {
   "cell_type": "code",
   "execution_count": 204,
   "metadata": {},
   "outputs": [
    {
     "name": "stdout",
     "output_type": "stream",
     "text": [
      "Number of businesses in Toronto: 17206\n",
      "\n"
     ]
    }
   ],
   "source": [
    "query1 = \"\"\"\n",
    "         MATCH (b:Business)-[:IN_CITY]->(c:City {name:'Toronto'})\n",
    "         RETURN COUNT(b) AS num_businesses\n",
    "         \"\"\"\n",
    "\n",
    "with driver.session() as session:\n",
    "    result1 = session.run(query1)\n",
    "\n",
    "for record in result1:\n",
    "    business_count = record['num_businesses']\n",
    "    \n",
    "print('Number of businesses in Toronto: {0}\\n'.format(business_count))"
   ]
  },
  {
   "cell_type": "markdown",
   "metadata": {},
   "source": [
    "In the Cypher query above, we take note of two things: first, the use of the `name` property in the `City` node to select only businesses in Toronto.   Second, the use of the aggregate function COUNT(`<expression>`). Those familiar with SQL know that there exists a function with the same name.  Similar to its SQL counterpart, Cypher returns the number of non-null values for the given `expression`.  "
   ]
  },
  {
   "cell_type": "markdown",
   "metadata": {},
   "source": [
    "#### Query 2: What percentage of businesses in Toronto are restaurants?"
   ]
  },
  {
   "cell_type": "code",
   "execution_count": 214,
   "metadata": {},
   "outputs": [
    {
     "name": "stdout",
     "output_type": "stream",
     "text": [
      "Number of restaurants in Toronto: 7148\n",
      "Percentage of businesses in Toronto that are restaurants: 41.5\n",
      "\n"
     ]
    }
   ],
   "source": [
    "query2 = \"\"\"\n",
    "         MATCH (b:Business)-[:IN_CITY]->(c:City {name:'Toronto'}),\n",
    "               (b)-[:IN_CATEGORY]->(cat:Category {name:'Restaurants'})\n",
    "         RETURN COUNT(b) AS num_restaurants\n",
    "         \"\"\"\n",
    "\n",
    "with driver.session() as session:\n",
    "    result2 = session.run(query2)\n",
    "\n",
    "for record in result2:\n",
    "    restaurant_count = record['num_restaurants']\n",
    "    \n",
    "print('Number of restaurants in Toronto: {0}'.format(restaurant_count))\n",
    "print('Percentage of businesses in Toronto that are restaurants: {0:0.1f}\\n'.format(restaurant_count/business_count * 100))"
   ]
  },
  {
   "cell_type": "markdown",
   "metadata": {},
   "source": [
    "Comparing the above to Query 1, we notice an additional clause `(b)-[:IN_CATEGORY]->(cat:Category {name:'Restaurants'})`.  This filters the result set such that only businesses belonging to the `Restaurants` category are returned.  \n",
    "\n",
    "Taking our restaurant count and dividing it by our business count, we see that approximately 42% of businesses in Toronto are restaurants. That's great to know! Now we would like to see how these restaurants are distributed across Toronto. Recall from our property graph data model that a `Business` has property `neighborhood`. Write a query that returns a list of neighborhoods in Toronto that have restaurants.  Include only those with non-blank values for `neighborhood`. "
   ]
  },
  {
   "cell_type": "markdown",
   "metadata": {},
   "source": [
    "#### Practice Exercise 1:  Get a list of neighborhoods in Toronto that have restaurants."
   ]
  },
  {
   "cell_type": "code",
   "execution_count": 220,
   "metadata": {},
   "outputs": [
    {
     "name": "stdout",
     "output_type": "stream",
     "text": [
      "Number of neighborhoods in Toronto that have restaurants: 72\n"
     ]
    },
    {
     "data": {
      "text/html": [
       "<div>\n",
       "<style>\n",
       "    .dataframe thead tr:only-child th {\n",
       "        text-align: right;\n",
       "    }\n",
       "\n",
       "    .dataframe thead th {\n",
       "        text-align: left;\n",
       "    }\n",
       "\n",
       "    .dataframe tbody tr th {\n",
       "        vertical-align: top;\n",
       "    }\n",
       "</style>\n",
       "<table border=\"1\" class=\"dataframe\">\n",
       "  <thead>\n",
       "    <tr style=\"text-align: right;\">\n",
       "      <th></th>\n",
       "      <th>neighborhoods</th>\n",
       "    </tr>\n",
       "  </thead>\n",
       "  <tbody>\n",
       "    <tr>\n",
       "      <th>0</th>\n",
       "      <td>Willowdale</td>\n",
       "    </tr>\n",
       "    <tr>\n",
       "      <th>1</th>\n",
       "      <td>St. Lawrence</td>\n",
       "    </tr>\n",
       "    <tr>\n",
       "      <th>2</th>\n",
       "      <td>Downtown Core</td>\n",
       "    </tr>\n",
       "    <tr>\n",
       "      <th>3</th>\n",
       "      <td>The Annex</td>\n",
       "    </tr>\n",
       "    <tr>\n",
       "      <th>4</th>\n",
       "      <td>The Junction</td>\n",
       "    </tr>\n",
       "    <tr>\n",
       "      <th>5</th>\n",
       "      <td>The Beach</td>\n",
       "    </tr>\n",
       "    <tr>\n",
       "      <th>6</th>\n",
       "      <td>The Danforth</td>\n",
       "    </tr>\n",
       "    <tr>\n",
       "      <th>7</th>\n",
       "      <td>Niagara</td>\n",
       "    </tr>\n",
       "    <tr>\n",
       "      <th>8</th>\n",
       "      <td>Roncesvalles</td>\n",
       "    </tr>\n",
       "    <tr>\n",
       "      <th>9</th>\n",
       "      <td>West Queen West</td>\n",
       "    </tr>\n",
       "  </tbody>\n",
       "</table>\n",
       "</div>"
      ],
      "text/plain": [
       "     neighborhoods\n",
       "0       Willowdale\n",
       "1     St. Lawrence\n",
       "2    Downtown Core\n",
       "3        The Annex\n",
       "4     The Junction\n",
       "5        The Beach\n",
       "6     The Danforth\n",
       "7          Niagara\n",
       "8     Roncesvalles\n",
       "9  West Queen West"
      ]
     },
     "metadata": {},
     "output_type": "display_data"
    }
   ],
   "source": [
    "ex1 = \"\"\"\n",
    "      MATCH (b:Business)-[:IN_CITY]->(c:City {name:'Toronto'}),\n",
    "            (b)-[:IN_CATEGORY]->(cat:Category {name:'Restaurants'}) \n",
    "      WHERE b.neighborhood <> ''       \n",
    "      RETURN DISTINCT b.neighborhood AS neighborhoods     \n",
    "      \"\"\"\n",
    "\n",
    "with driver.session() as session:\n",
    "    result_ex1 = session.run(ex1)\n",
    "    \n",
    "neighborhood = pd.DataFrame([dict(record) for record in result_ex1])\n",
    "\n",
    "print('Number of neighborhoods in Toronto that have restaurants: {0}'.format(neighborhood.shape[0]))\n",
    "display(neighborhood.head(10))"
   ]
  },
  {
   "cell_type": "markdown",
   "metadata": {},
   "source": [
    "In Query 2, we used a graph pattern to filter our result set to businesses in category `Restaurants`. The practice exercise above demonstrates another way of filtering the result set through the use of the `WHERE` clause.  Similar to SQL, `WHERE b.neighborhood <> ''` limits the result set to records with non-blank values for property `neighborhood`. Moreover, the use of the `DISTINCT` clause ensures uniqueness of the values returned. While there are 72 neighborhoods returned by the query, we are only displaying 10 records for the sake of brevity. \n",
    "\n",
    "\n",
    "Now that we know about the different neighborhoods, let's look at each of their contribution to the overall Toronto food scene.  In other words, what percentage of the total restaurants in Toronto does each neighborhood account for?"
   ]
  },
  {
   "cell_type": "markdown",
   "metadata": {},
   "source": [
    "#### Query 3:  What is the breakdown of restaurants by neighborhood?"
   ]
  },
  {
   "cell_type": "code",
   "execution_count": 222,
   "metadata": {},
   "outputs": [
    {
     "data": {
      "text/html": [
       "<div>\n",
       "<style>\n",
       "    .dataframe thead tr:only-child th {\n",
       "        text-align: right;\n",
       "    }\n",
       "\n",
       "    .dataframe thead th {\n",
       "        text-align: left;\n",
       "    }\n",
       "\n",
       "    .dataframe tbody tr th {\n",
       "        vertical-align: top;\n",
       "    }\n",
       "</style>\n",
       "<table border=\"1\" class=\"dataframe\">\n",
       "  <thead>\n",
       "    <tr style=\"text-align: right;\">\n",
       "      <th></th>\n",
       "      <th>neighborhood</th>\n",
       "      <th>num_restaurants</th>\n",
       "      <th>pct_total</th>\n",
       "    </tr>\n",
       "  </thead>\n",
       "  <tbody>\n",
       "    <tr>\n",
       "      <th>0</th>\n",
       "      <td>Downtown Core</td>\n",
       "      <td>666</td>\n",
       "      <td>9.317292</td>\n",
       "    </tr>\n",
       "    <tr>\n",
       "      <th>1</th>\n",
       "      <td>Scarborough</td>\n",
       "      <td>437</td>\n",
       "      <td>6.113598</td>\n",
       "    </tr>\n",
       "    <tr>\n",
       "      <th>2</th>\n",
       "      <td>Etobicoke</td>\n",
       "      <td>254</td>\n",
       "      <td>3.553442</td>\n",
       "    </tr>\n",
       "    <tr>\n",
       "      <th>3</th>\n",
       "      <td>Entertainment District</td>\n",
       "      <td>227</td>\n",
       "      <td>3.175713</td>\n",
       "    </tr>\n",
       "    <tr>\n",
       "      <th>4</th>\n",
       "      <td>Leslieville</td>\n",
       "      <td>168</td>\n",
       "      <td>2.350308</td>\n",
       "    </tr>\n",
       "    <tr>\n",
       "      <th>5</th>\n",
       "      <td>Willowdale</td>\n",
       "      <td>158</td>\n",
       "      <td>2.210409</td>\n",
       "    </tr>\n",
       "    <tr>\n",
       "      <th>6</th>\n",
       "      <td>Church-Wellesley Village</td>\n",
       "      <td>157</td>\n",
       "      <td>2.196419</td>\n",
       "    </tr>\n",
       "    <tr>\n",
       "      <th>7</th>\n",
       "      <td>Kensington Market</td>\n",
       "      <td>145</td>\n",
       "      <td>2.028539</td>\n",
       "    </tr>\n",
       "    <tr>\n",
       "      <th>8</th>\n",
       "      <td>Yorkville</td>\n",
       "      <td>143</td>\n",
       "      <td>2.000560</td>\n",
       "    </tr>\n",
       "    <tr>\n",
       "      <th>9</th>\n",
       "      <td>Milliken</td>\n",
       "      <td>141</td>\n",
       "      <td>1.972580</td>\n",
       "    </tr>\n",
       "  </tbody>\n",
       "</table>\n",
       "</div>"
      ],
      "text/plain": [
       "               neighborhood  num_restaurants  pct_total\n",
       "0             Downtown Core              666   9.317292\n",
       "1               Scarborough              437   6.113598\n",
       "2                 Etobicoke              254   3.553442\n",
       "3    Entertainment District              227   3.175713\n",
       "4               Leslieville              168   2.350308\n",
       "5                Willowdale              158   2.210409\n",
       "6  Church-Wellesley Village              157   2.196419\n",
       "7         Kensington Market              145   2.028539\n",
       "8                 Yorkville              143   2.000560\n",
       "9                  Milliken              141   1.972580"
      ]
     },
     "metadata": {},
     "output_type": "display_data"
    }
   ],
   "source": [
    "query3 = \"\"\"\n",
    "         MATCH (b:Business)-[:IN_CITY]->(c:City {name:'Toronto'}),\n",
    "               (b)-[:IN_CATEGORY]->(cat:Category {name:'Restaurants'}) \n",
    "         WHERE b.neighborhood <> ''       \n",
    "         RETURN b.neighborhood as neighborhood, COUNT(b) as num_restaurants\n",
    "         ORDER BY num_restaurants DESC\n",
    "         \"\"\"\n",
    "\n",
    "with driver.session() as session:\n",
    "    result3 = session.run(query3)\n",
    "\n",
    "neighborhood_restaurant = pd.DataFrame([dict(record) for record in result3])\n",
    "\n",
    "# Compute distribution of restaurants by neighborhood and display the top 10\n",
    "neighborhood_restaurant['pct_total'] = neighborhood_restaurant['num_restaurants'] / restaurant_count * 100\n",
    "display(neighborhood_restaurant.head(10))"
   ]
  },
  {
   "cell_type": "markdown",
   "metadata": {},
   "source": [
    "In Query 3, we see the introduction of two Cypher statements.  First, `RETURN b.neighborhood as neighborhood, COUNT(b) as num_restaurants` is equivalent to the SQL GROUP BY statement.  For each neighborhood, it counts the number of restaurants that belong to that neighborhood.  Second, `ORDER BY num_restaurants DESC` orders the result set so that neighborhoods with more restaurants are displayed first.  From the dataframe above, we see that Downtown Core is at the top of this list and accounts for 9% of restaurants in Toronto.\n",
    "\n",
    "Now let's try to understand the quality of restaurants in Toronto. This can be inferred using ratings data.  Recall from our property graph data model that each business has an average rating associated with it. "
   ]
  },
  {
   "cell_type": "markdown",
   "metadata": {},
   "source": [
    "#### Query 4: What does the distribution of average ratings look like?"
   ]
  },
  {
   "cell_type": "markdown",
   "metadata": {},
   "source": [
    "In order to get to the distribution of average ratings, we must first extract a list of restaurants and their associated average rating.  This is easy: we simply re-use the MATCH statement we have seen in the previous 3 queries. However, this time we will return the restaurant ID, name and its average rating."
   ]
  },
  {
   "cell_type": "code",
   "execution_count": 224,
   "metadata": {},
   "outputs": [
    {
     "data": {
      "text/html": [
       "<div>\n",
       "<style>\n",
       "    .dataframe thead tr:only-child th {\n",
       "        text-align: right;\n",
       "    }\n",
       "\n",
       "    .dataframe thead th {\n",
       "        text-align: left;\n",
       "    }\n",
       "\n",
       "    .dataframe tbody tr th {\n",
       "        vertical-align: top;\n",
       "    }\n",
       "</style>\n",
       "<table border=\"1\" class=\"dataframe\">\n",
       "  <thead>\n",
       "    <tr style=\"text-align: right;\">\n",
       "      <th></th>\n",
       "      <th>id</th>\n",
       "      <th>name</th>\n",
       "      <th>avg_rating</th>\n",
       "    </tr>\n",
       "  </thead>\n",
       "  <tbody>\n",
       "    <tr>\n",
       "      <th>0</th>\n",
       "      <td>Q3BUdZTMw8KRd-3QYtTyAg</td>\n",
       "      <td>Jetsun's Juicy Burger</td>\n",
       "      <td>2.5</td>\n",
       "    </tr>\n",
       "    <tr>\n",
       "      <th>1</th>\n",
       "      <td>GWngEFlr9ixVKetxenafOw</td>\n",
       "      <td>The Thai Grill</td>\n",
       "      <td>2.5</td>\n",
       "    </tr>\n",
       "    <tr>\n",
       "      <th>2</th>\n",
       "      <td>vBGfITg_FEkFYMQwNagbBA</td>\n",
       "      <td>Burrito Caliente Latin Grill</td>\n",
       "      <td>4.5</td>\n",
       "    </tr>\n",
       "    <tr>\n",
       "      <th>3</th>\n",
       "      <td>35ET2yviSxhkMmQa89rFKA</td>\n",
       "      <td>The Jersey Giant</td>\n",
       "      <td>3.0</td>\n",
       "    </tr>\n",
       "    <tr>\n",
       "      <th>4</th>\n",
       "      <td>kL7u1A1lIsefy_NGYZN9vg</td>\n",
       "      <td>La Prep</td>\n",
       "      <td>4.0</td>\n",
       "    </tr>\n",
       "    <tr>\n",
       "      <th>5</th>\n",
       "      <td>Mk77MGntQHU8ZYVofKBJ-w</td>\n",
       "      <td>Red &amp; White Shawarma</td>\n",
       "      <td>4.5</td>\n",
       "    </tr>\n",
       "    <tr>\n",
       "      <th>6</th>\n",
       "      <td>u-hO4f4EK-riKNJbkxZW0Q</td>\n",
       "      <td>Menchella's Gourmet Pizza</td>\n",
       "      <td>3.0</td>\n",
       "    </tr>\n",
       "    <tr>\n",
       "      <th>7</th>\n",
       "      <td>pdE-moDQznZL4sUX-jGKdA</td>\n",
       "      <td>Farmhouse Tavern</td>\n",
       "      <td>3.5</td>\n",
       "    </tr>\n",
       "    <tr>\n",
       "      <th>8</th>\n",
       "      <td>E7zuWvHH3XoVKJE8yEGIyw</td>\n",
       "      <td>Chada Thai</td>\n",
       "      <td>4.0</td>\n",
       "    </tr>\n",
       "    <tr>\n",
       "      <th>9</th>\n",
       "      <td>UrOFpcqH8Lixb2hpeJlX2Q</td>\n",
       "      <td>The Signature Kitchen</td>\n",
       "      <td>4.0</td>\n",
       "    </tr>\n",
       "  </tbody>\n",
       "</table>\n",
       "</div>"
      ],
      "text/plain": [
       "                       id                          name  avg_rating\n",
       "0  Q3BUdZTMw8KRd-3QYtTyAg         Jetsun's Juicy Burger         2.5\n",
       "1  GWngEFlr9ixVKetxenafOw                The Thai Grill         2.5\n",
       "2  vBGfITg_FEkFYMQwNagbBA  Burrito Caliente Latin Grill         4.5\n",
       "3  35ET2yviSxhkMmQa89rFKA              The Jersey Giant         3.0\n",
       "4  kL7u1A1lIsefy_NGYZN9vg                       La Prep         4.0\n",
       "5  Mk77MGntQHU8ZYVofKBJ-w          Red & White Shawarma         4.5\n",
       "6  u-hO4f4EK-riKNJbkxZW0Q     Menchella's Gourmet Pizza         3.0\n",
       "7  pdE-moDQznZL4sUX-jGKdA              Farmhouse Tavern         3.5\n",
       "8  E7zuWvHH3XoVKJE8yEGIyw                    Chada Thai         4.0\n",
       "9  UrOFpcqH8Lixb2hpeJlX2Q         The Signature Kitchen         4.0"
      ]
     },
     "metadata": {},
     "output_type": "display_data"
    }
   ],
   "source": [
    "query4 = \"\"\"\n",
    "         MATCH (b:Business)-[:IN_CITY]->(c:City {name:'Toronto'}),\n",
    "               (b)-[:IN_CATEGORY]->(cat:Category {name:'Restaurants'})\n",
    "         RETURN b.id as id, b.name as name, b.avg_rating as avg_rating\n",
    "         \"\"\"\n",
    "\n",
    "with driver.session() as session:\n",
    "    result4 = session.run(query4)\n",
    "\n",
    "avg_rating = pd.DataFrame([dict(record) for record in result4])\n",
    "display(avg_rating[['id','name','avg_rating']].head(10))  "
   ]
  },
  {
   "cell_type": "markdown",
   "metadata": {},
   "source": [
    "To analyze average ratings, we call the Python `describe` function as follows:  "
   ]
  },
  {
   "cell_type": "code",
   "execution_count": 42,
   "metadata": {},
   "outputs": [
    {
     "data": {
      "text/html": [
       "<div>\n",
       "<style>\n",
       "    .dataframe thead tr:only-child th {\n",
       "        text-align: right;\n",
       "    }\n",
       "\n",
       "    .dataframe thead th {\n",
       "        text-align: left;\n",
       "    }\n",
       "\n",
       "    .dataframe tbody tr th {\n",
       "        vertical-align: top;\n",
       "    }\n",
       "</style>\n",
       "<table border=\"1\" class=\"dataframe\">\n",
       "  <thead>\n",
       "    <tr style=\"text-align: right;\">\n",
       "      <th></th>\n",
       "      <th>avg_rating</th>\n",
       "    </tr>\n",
       "  </thead>\n",
       "  <tbody>\n",
       "    <tr>\n",
       "      <th>count</th>\n",
       "      <td>7148.000000</td>\n",
       "    </tr>\n",
       "    <tr>\n",
       "      <th>mean</th>\n",
       "      <td>3.423475</td>\n",
       "    </tr>\n",
       "    <tr>\n",
       "      <th>std</th>\n",
       "      <td>0.741883</td>\n",
       "    </tr>\n",
       "    <tr>\n",
       "      <th>min</th>\n",
       "      <td>1.000000</td>\n",
       "    </tr>\n",
       "    <tr>\n",
       "      <th>25%</th>\n",
       "      <td>3.000000</td>\n",
       "    </tr>\n",
       "    <tr>\n",
       "      <th>50%</th>\n",
       "      <td>3.500000</td>\n",
       "    </tr>\n",
       "    <tr>\n",
       "      <th>75%</th>\n",
       "      <td>4.000000</td>\n",
       "    </tr>\n",
       "    <tr>\n",
       "      <th>max</th>\n",
       "      <td>5.000000</td>\n",
       "    </tr>\n",
       "  </tbody>\n",
       "</table>\n",
       "</div>"
      ],
      "text/plain": [
       "        avg_rating\n",
       "count  7148.000000\n",
       "mean      3.423475\n",
       "std       0.741883\n",
       "min       1.000000\n",
       "25%       3.000000\n",
       "50%       3.500000\n",
       "75%       4.000000\n",
       "max       5.000000"
      ]
     },
     "execution_count": 42,
     "metadata": {},
     "output_type": "execute_result"
    }
   ],
   "source": [
    "avg_rating.describe()"
   ]
  },
  {
   "cell_type": "markdown",
   "metadata": {},
   "source": [
    "This returns some descriptive statistics that allow us to get an understanding of how the average ratings are distributed.  In the above output, we see that average ratings take on values between 1 and 5 stars, with 5 being the maximum.  Measures such as mean and median tell us about the central tendencies in the data.  On average, Toronto restaurants have a mean rating of 3.4 stars.  A median of 3.5 stars indicates that 50% of Toronto restaurants have an average rating <i>below</i> 3.5 and 50% have an average rating <i>above</i> 3.5.  Median is also referred to as the 50th percentile, labelled in the output above as `50%`.  The 75th percentile, labelled `75%`, indicates that 75% of Toronto restaurants have an average rating below 4 stars, which means that only 25% have an average rating above 4 stars.  \n",
    "\n",
    "One way to visualize the distribution of average ratings is through a histogram."
   ]
  },
  {
   "cell_type": "code",
   "execution_count": 270,
   "metadata": {},
   "outputs": [
    {
     "data": {
      "image/png": "[encoded data removed]",
      "text/plain": [
       "<matplotlib.figure.Figure at 0x10e33eac8>"
      ]
     },
     "metadata": {},
     "output_type": "display_data"
    }
   ],
   "source": [
    "plt.hist(avg_rating['avg_rating'])\n",
    "plt.show()                                                # need to label axes, add title, fix binning "
   ]
  },
  {
   "cell_type": "markdown",
   "metadata": {},
   "source": [
    "The horizontal axis represents the average rating values, while the vertical axis shows the number of restaurants that have those values.  For example, 1725 restaurants have an average rating of 4 stars.\n",
    "\n",
    "Knowing the distribution of average ratings, let's define \"Top Restaurants\" as those having the highest average ratings."
   ]
  },
  {
   "cell_type": "markdown",
   "metadata": {
    "collapsed": true
   },
   "source": [
    "#### Practice Exercise 2: What are the top 10 restaurants in Toronto based on average rating?"
   ]
  },
  {
   "cell_type": "markdown",
   "metadata": {},
   "source": [
    "For this exercise, return the restaurant name, along with its corresponding average rating and number of reviews.  Recall from our property graph data model that a `Business` has property `num_reviews`."
   ]
  },
  {
   "cell_type": "code",
   "execution_count": 226,
   "metadata": {},
   "outputs": [
    {
     "data": {
      "text/html": [
       "<div>\n",
       "<style>\n",
       "    .dataframe thead tr:only-child th {\n",
       "        text-align: right;\n",
       "    }\n",
       "\n",
       "    .dataframe thead th {\n",
       "        text-align: left;\n",
       "    }\n",
       "\n",
       "    .dataframe tbody tr th {\n",
       "        vertical-align: top;\n",
       "    }\n",
       "</style>\n",
       "<table border=\"1\" class=\"dataframe\">\n",
       "  <thead>\n",
       "    <tr style=\"text-align: right;\">\n",
       "      <th></th>\n",
       "      <th>name</th>\n",
       "      <th>avg_rating</th>\n",
       "      <th>num_reviews</th>\n",
       "    </tr>\n",
       "  </thead>\n",
       "  <tbody>\n",
       "    <tr>\n",
       "      <th>0</th>\n",
       "      <td>Ontario Fresh &amp; Tasty</td>\n",
       "      <td>5.0</td>\n",
       "      <td>4</td>\n",
       "    </tr>\n",
       "    <tr>\n",
       "      <th>1</th>\n",
       "      <td>Coffee Crate</td>\n",
       "      <td>5.0</td>\n",
       "      <td>3</td>\n",
       "    </tr>\n",
       "    <tr>\n",
       "      <th>2</th>\n",
       "      <td>Popeyes Louisiana Kitchen</td>\n",
       "      <td>5.0</td>\n",
       "      <td>3</td>\n",
       "    </tr>\n",
       "    <tr>\n",
       "      <th>3</th>\n",
       "      <td>Brando's Fried Chicken</td>\n",
       "      <td>5.0</td>\n",
       "      <td>3</td>\n",
       "    </tr>\n",
       "    <tr>\n",
       "      <th>4</th>\n",
       "      <td>Sicily Pizza</td>\n",
       "      <td>5.0</td>\n",
       "      <td>3</td>\n",
       "    </tr>\n",
       "    <tr>\n",
       "      <th>5</th>\n",
       "      <td>Street Feast Grill</td>\n",
       "      <td>5.0</td>\n",
       "      <td>5</td>\n",
       "    </tr>\n",
       "    <tr>\n",
       "      <th>6</th>\n",
       "      <td>FruiteaO</td>\n",
       "      <td>5.0</td>\n",
       "      <td>4</td>\n",
       "    </tr>\n",
       "    <tr>\n",
       "      <th>7</th>\n",
       "      <td>Chopsticks+Forks</td>\n",
       "      <td>5.0</td>\n",
       "      <td>3</td>\n",
       "    </tr>\n",
       "    <tr>\n",
       "      <th>8</th>\n",
       "      <td>Eupin Chinese Takeout</td>\n",
       "      <td>5.0</td>\n",
       "      <td>4</td>\n",
       "    </tr>\n",
       "    <tr>\n",
       "      <th>9</th>\n",
       "      <td>The Windmill Restaurant</td>\n",
       "      <td>5.0</td>\n",
       "      <td>3</td>\n",
       "    </tr>\n",
       "  </tbody>\n",
       "</table>\n",
       "</div>"
      ],
      "text/plain": [
       "                        name  avg_rating  num_reviews\n",
       "0      Ontario Fresh & Tasty         5.0            4\n",
       "1               Coffee Crate         5.0            3\n",
       "2  Popeyes Louisiana Kitchen         5.0            3\n",
       "3     Brando's Fried Chicken         5.0            3\n",
       "4               Sicily Pizza         5.0            3\n",
       "5         Street Feast Grill         5.0            5\n",
       "6                   FruiteaO         5.0            4\n",
       "7           Chopsticks+Forks         5.0            3\n",
       "8      Eupin Chinese Takeout         5.0            4\n",
       "9    The Windmill Restaurant         5.0            3"
      ]
     },
     "metadata": {},
     "output_type": "display_data"
    }
   ],
   "source": [
    "ex2 = \"\"\"\n",
    "      MATCH (b:Business)-[:IN_CITY]->(c:City {name:'Toronto'}),\n",
    "            (b)-[:IN_CATEGORY]->(cat:Category {name:'Restaurants'})\n",
    "      RETURN b.name as name, b.avg_rating as avg_rating, b.num_reviews as num_reviews\n",
    "      ORDER BY b.avg_rating DESC\n",
    "      LIMIT 10\n",
    "      \"\"\"\n",
    "\n",
    "with driver.session() as session:\n",
    "    result_ex2 = session.run(ex2)\n",
    "\n",
    "top_restaurants = pd.DataFrame([dict(record) for record in result_ex2])\n",
    "display(top_restaurants[['name','avg_rating','num_reviews']])  "
   ]
  },
  {
   "cell_type": "markdown",
   "metadata": {
    "collapsed": true
   },
   "source": [
    "The above query returns the top 10 restaurants based on average ratings.  Can you spot a potential issue with our definition of 'Top Restaurants'?  Although each restaurant has a perfect average rating of 5 stars, we can see that they were reviewed by at most 5 users.    \n",
    "\n",
    "An alternative way of defining \"Top Restaurants\" is to combine average rating and number of reviews, placing more importance in the latter.  In addition, now that we understand the distribution of average ratings, we can further refine our definition to include only those restaurants with an average rating of at least 4 stars.  Recall from our distribution that only 25% of restaurants in Toronto have an average rating of 4 or more stars."
   ]
  },
  {
   "cell_type": "markdown",
   "metadata": {},
   "source": [
    "#### Query 5:  What are the top 10 restaurants in Toronto based on number of reviews and average rating?"
   ]
  },
  {
   "cell_type": "code",
   "execution_count": 227,
   "metadata": {},
   "outputs": [
    {
     "data": {
      "text/html": [
       "<div>\n",
       "<style>\n",
       "    .dataframe thead tr:only-child th {\n",
       "        text-align: right;\n",
       "    }\n",
       "\n",
       "    .dataframe thead th {\n",
       "        text-align: left;\n",
       "    }\n",
       "\n",
       "    .dataframe tbody tr th {\n",
       "        vertical-align: top;\n",
       "    }\n",
       "</style>\n",
       "<table border=\"1\" class=\"dataframe\">\n",
       "  <thead>\n",
       "    <tr style=\"text-align: right;\">\n",
       "      <th></th>\n",
       "      <th>name</th>\n",
       "      <th>avg_rating</th>\n",
       "      <th>num_reviews</th>\n",
       "    </tr>\n",
       "  </thead>\n",
       "  <tbody>\n",
       "    <tr>\n",
       "      <th>0</th>\n",
       "      <td>Pai Northern Thai Kitchen</td>\n",
       "      <td>4.5</td>\n",
       "      <td>1494</td>\n",
       "    </tr>\n",
       "    <tr>\n",
       "      <th>1</th>\n",
       "      <td>Khao San Road</td>\n",
       "      <td>4.0</td>\n",
       "      <td>1270</td>\n",
       "    </tr>\n",
       "    <tr>\n",
       "      <th>2</th>\n",
       "      <td>KINKA IZAKAYA ORIGINAL</td>\n",
       "      <td>4.0</td>\n",
       "      <td>1184</td>\n",
       "    </tr>\n",
       "    <tr>\n",
       "      <th>3</th>\n",
       "      <td>Banh Mi Boys</td>\n",
       "      <td>4.0</td>\n",
       "      <td>973</td>\n",
       "    </tr>\n",
       "    <tr>\n",
       "      <th>4</th>\n",
       "      <td>Seven Lives Tacos Y Mariscos</td>\n",
       "      <td>4.5</td>\n",
       "      <td>945</td>\n",
       "    </tr>\n",
       "    <tr>\n",
       "      <th>5</th>\n",
       "      <td>Sansotei Ramen</td>\n",
       "      <td>4.0</td>\n",
       "      <td>701</td>\n",
       "    </tr>\n",
       "    <tr>\n",
       "      <th>6</th>\n",
       "      <td>Insomnia Restaurant &amp; Lounge</td>\n",
       "      <td>4.0</td>\n",
       "      <td>690</td>\n",
       "    </tr>\n",
       "    <tr>\n",
       "      <th>7</th>\n",
       "      <td>Gusto 101</td>\n",
       "      <td>4.0</td>\n",
       "      <td>673</td>\n",
       "    </tr>\n",
       "    <tr>\n",
       "      <th>8</th>\n",
       "      <td>Hokkaido Ramen Santouka</td>\n",
       "      <td>4.0</td>\n",
       "      <td>651</td>\n",
       "    </tr>\n",
       "    <tr>\n",
       "      <th>9</th>\n",
       "      <td>The Stockyards</td>\n",
       "      <td>4.0</td>\n",
       "      <td>646</td>\n",
       "    </tr>\n",
       "  </tbody>\n",
       "</table>\n",
       "</div>"
      ],
      "text/plain": [
       "                           name  avg_rating  num_reviews\n",
       "0     Pai Northern Thai Kitchen         4.5         1494\n",
       "1                 Khao San Road         4.0         1270\n",
       "2        KINKA IZAKAYA ORIGINAL         4.0         1184\n",
       "3                  Banh Mi Boys         4.0          973\n",
       "4  Seven Lives Tacos Y Mariscos         4.5          945\n",
       "5                Sansotei Ramen         4.0          701\n",
       "6  Insomnia Restaurant & Lounge         4.0          690\n",
       "7                     Gusto 101         4.0          673\n",
       "8       Hokkaido Ramen Santouka         4.0          651\n",
       "9                The Stockyards         4.0          646"
      ]
     },
     "metadata": {},
     "output_type": "display_data"
    }
   ],
   "source": [
    "query5 = \"\"\"\n",
    "         MATCH (b:Business)-[:IN_CITY]->(c:City {name:'Toronto'}),\n",
    "               (b)-[:IN_CATEGORY]->(cat:Category {name:'Restaurants'})\n",
    "         WHERE b.avg_rating >= 4\n",
    "         RETURN b.name as name, b.avg_rating as avg_rating, b.num_reviews as num_reviews\n",
    "         ORDER BY b.num_reviews DESC, b.avg_rating DESC\n",
    "         LIMIT 10\n",
    "         \"\"\"\n",
    "\n",
    "with driver.session() as session:\n",
    "    result5 = session.run(query5)\n",
    "\n",
    "top_reviewed_restaurants = pd.DataFrame([dict(record) for record in result5])\n",
    "display(top_reviewed_restaurants[['name','avg_rating','num_reviews']])  "
   ]
  },
  {
   "cell_type": "markdown",
   "metadata": {},
   "source": [
    "This looks more convincing! And, as a Torontonian who has been to 7 out of 10 of these restaurants, I can personally vouch for the accuracy of the list above!  ;)\n",
    "\n",
    "Given that the top 10 restaurants above are primarily businesses with only a single location, we would like to understand how restaurants with multiple locations fit in the overall Toronto food scene.  Concretely, what are the top 10 restaurants in Toronto based on the number of different locations that they service?  Recall from our property graph data model that a business has a `name`, an `id` and an `address`.  A business can have the same name, and have two different IDs corresponding to two different addresses."
   ]
  },
  {
   "cell_type": "markdown",
   "metadata": {},
   "source": [
    "#### Query 6:  What are the top 10 restaurants in Toronto based on the number of locations they service?"
   ]
  },
  {
   "cell_type": "code",
   "execution_count": 228,
   "metadata": {},
   "outputs": [
    {
     "data": {
      "text/html": [
       "<div>\n",
       "<style>\n",
       "    .dataframe thead tr:only-child th {\n",
       "        text-align: right;\n",
       "    }\n",
       "\n",
       "    .dataframe thead th {\n",
       "        text-align: left;\n",
       "    }\n",
       "\n",
       "    .dataframe tbody tr th {\n",
       "        vertical-align: top;\n",
       "    }\n",
       "</style>\n",
       "<table border=\"1\" class=\"dataframe\">\n",
       "  <thead>\n",
       "    <tr style=\"text-align: right;\">\n",
       "      <th></th>\n",
       "      <th>name</th>\n",
       "      <th>num_locations</th>\n",
       "      <th>avg_rating</th>\n",
       "      <th>num_reviews</th>\n",
       "    </tr>\n",
       "  </thead>\n",
       "  <tbody>\n",
       "    <tr>\n",
       "      <th>0</th>\n",
       "      <td>McDonald's</td>\n",
       "      <td>46</td>\n",
       "      <td>2.413043</td>\n",
       "      <td>461</td>\n",
       "    </tr>\n",
       "    <tr>\n",
       "      <th>1</th>\n",
       "      <td>Subway</td>\n",
       "      <td>41</td>\n",
       "      <td>2.390244</td>\n",
       "      <td>177</td>\n",
       "    </tr>\n",
       "    <tr>\n",
       "      <th>2</th>\n",
       "      <td>Tim Hortons</td>\n",
       "      <td>38</td>\n",
       "      <td>2.723684</td>\n",
       "      <td>248</td>\n",
       "    </tr>\n",
       "    <tr>\n",
       "      <th>3</th>\n",
       "      <td>Starbucks</td>\n",
       "      <td>34</td>\n",
       "      <td>3.441176</td>\n",
       "      <td>271</td>\n",
       "    </tr>\n",
       "    <tr>\n",
       "      <th>4</th>\n",
       "      <td>Pizza Pizza</td>\n",
       "      <td>33</td>\n",
       "      <td>2.348485</td>\n",
       "      <td>236</td>\n",
       "    </tr>\n",
       "    <tr>\n",
       "      <th>5</th>\n",
       "      <td>Swiss Chalet Rotisserie &amp; Grill</td>\n",
       "      <td>32</td>\n",
       "      <td>2.562500</td>\n",
       "      <td>376</td>\n",
       "    </tr>\n",
       "    <tr>\n",
       "      <th>6</th>\n",
       "      <td>Pizzaiolo</td>\n",
       "      <td>25</td>\n",
       "      <td>2.860000</td>\n",
       "      <td>354</td>\n",
       "    </tr>\n",
       "    <tr>\n",
       "      <th>7</th>\n",
       "      <td>Freshii</td>\n",
       "      <td>23</td>\n",
       "      <td>2.913043</td>\n",
       "      <td>321</td>\n",
       "    </tr>\n",
       "    <tr>\n",
       "      <th>8</th>\n",
       "      <td>Popeyes Louisiana Kitchen</td>\n",
       "      <td>23</td>\n",
       "      <td>2.434783</td>\n",
       "      <td>227</td>\n",
       "    </tr>\n",
       "    <tr>\n",
       "      <th>9</th>\n",
       "      <td>Aroma Espresso Bar</td>\n",
       "      <td>21</td>\n",
       "      <td>3.142857</td>\n",
       "      <td>552</td>\n",
       "    </tr>\n",
       "  </tbody>\n",
       "</table>\n",
       "</div>"
      ],
      "text/plain": [
       "                              name  num_locations  avg_rating  num_reviews\n",
       "0                       McDonald's             46    2.413043          461\n",
       "1                           Subway             41    2.390244          177\n",
       "2                      Tim Hortons             38    2.723684          248\n",
       "3                        Starbucks             34    3.441176          271\n",
       "4                      Pizza Pizza             33    2.348485          236\n",
       "5  Swiss Chalet Rotisserie & Grill             32    2.562500          376\n",
       "6                        Pizzaiolo             25    2.860000          354\n",
       "7                          Freshii             23    2.913043          321\n",
       "8        Popeyes Louisiana Kitchen             23    2.434783          227\n",
       "9               Aroma Espresso Bar             21    3.142857          552"
      ]
     },
     "metadata": {},
     "output_type": "display_data"
    }
   ],
   "source": [
    "query6 = \"\"\"\n",
    "         MATCH (b:Business)-[:IN_CITY]->(c:City {name:'Toronto'}),\n",
    "               (b)-[:IN_CATEGORY]->(cat:Category {name:'Restaurants'})\n",
    "         RETURN b.name as name, COUNT(DISTINCT(b.id)) as num_locations, \n",
    "                AVG(b.avg_rating) as avg_rating, SUM(b.num_reviews) as num_reviews\n",
    "         ORDER BY num_locations DESC\n",
    "         LIMIT 10\n",
    "         \"\"\"\n",
    "\n",
    "with driver.session() as session:\n",
    "    result6 = session.run(query6)\n",
    "\n",
    "top_chains = pd.DataFrame([dict(record) for record in result6])\n",
    "display(top_chains[['name','num_locations','avg_rating','num_reviews']])  "
   ]
  },
  {
   "cell_type": "markdown",
   "metadata": {},
   "source": [
    "First, we note two Cypher functions that we have not yet seen in previous queries: `AVG<expression>` and `SUM(<expression>)`.  They are similar to their SQL counterparts, computing the field average and sum respectively.\n",
    "\n",
    "From the output, we see that the restaurants are primarily fast-food chains.  As reflected in the average ratings, they are not necessarily highly rated, but is likely what we would expect of casual, fast-service venues.\n",
    "\n",
    "By looking at the number of locations for a given restaurant, we were able to identify a subset of the restaurant category: fast-food chains!  Let's now look at other categories associated with restaurants and see which ones are most popular.  'Popular' in this case refers to categories with the most number of restaurants."
   ]
  },
  {
   "cell_type": "markdown",
   "metadata": {},
   "source": [
    "#### Query 7:  What are the top 10 categories associated with restaurants?"
   ]
  },
  {
   "cell_type": "code",
   "execution_count": 229,
   "metadata": {},
   "outputs": [
    {
     "data": {
      "text/html": [
       "<div>\n",
       "<style>\n",
       "    .dataframe thead tr:only-child th {\n",
       "        text-align: right;\n",
       "    }\n",
       "\n",
       "    .dataframe thead th {\n",
       "        text-align: left;\n",
       "    }\n",
       "\n",
       "    .dataframe tbody tr th {\n",
       "        vertical-align: top;\n",
       "    }\n",
       "</style>\n",
       "<table border=\"1\" class=\"dataframe\">\n",
       "  <thead>\n",
       "    <tr style=\"text-align: right;\">\n",
       "      <th></th>\n",
       "      <th>category</th>\n",
       "      <th>num_restaurants</th>\n",
       "    </tr>\n",
       "  </thead>\n",
       "  <tbody>\n",
       "    <tr>\n",
       "      <th>0</th>\n",
       "      <td>Food</td>\n",
       "      <td>1478</td>\n",
       "    </tr>\n",
       "    <tr>\n",
       "      <th>1</th>\n",
       "      <td>Nightlife</td>\n",
       "      <td>940</td>\n",
       "    </tr>\n",
       "    <tr>\n",
       "      <th>2</th>\n",
       "      <td>Bars</td>\n",
       "      <td>907</td>\n",
       "    </tr>\n",
       "    <tr>\n",
       "      <th>3</th>\n",
       "      <td>Canadian (New)</td>\n",
       "      <td>629</td>\n",
       "    </tr>\n",
       "    <tr>\n",
       "      <th>4</th>\n",
       "      <td>Sandwiches</td>\n",
       "      <td>619</td>\n",
       "    </tr>\n",
       "    <tr>\n",
       "      <th>5</th>\n",
       "      <td>Breakfast &amp; Brunch</td>\n",
       "      <td>606</td>\n",
       "    </tr>\n",
       "    <tr>\n",
       "      <th>6</th>\n",
       "      <td>Italian</td>\n",
       "      <td>566</td>\n",
       "    </tr>\n",
       "    <tr>\n",
       "      <th>7</th>\n",
       "      <td>Chinese</td>\n",
       "      <td>559</td>\n",
       "    </tr>\n",
       "    <tr>\n",
       "      <th>8</th>\n",
       "      <td>Cafes</td>\n",
       "      <td>551</td>\n",
       "    </tr>\n",
       "    <tr>\n",
       "      <th>9</th>\n",
       "      <td>Pizza</td>\n",
       "      <td>509</td>\n",
       "    </tr>\n",
       "  </tbody>\n",
       "</table>\n",
       "</div>"
      ],
      "text/plain": [
       "             category  num_restaurants\n",
       "0                Food             1478\n",
       "1           Nightlife              940\n",
       "2                Bars              907\n",
       "3      Canadian (New)              629\n",
       "4          Sandwiches              619\n",
       "5  Breakfast & Brunch              606\n",
       "6             Italian              566\n",
       "7             Chinese              559\n",
       "8               Cafes              551\n",
       "9               Pizza              509"
      ]
     },
     "metadata": {},
     "output_type": "display_data"
    }
   ],
   "source": [
    "query7 = \"\"\"\n",
    "         // Section 1\n",
    "         MATCH (b:Business)-[:IN_CITY]->(c:City {name:'Toronto'}),\n",
    "               (b)-[:IN_CATEGORY]->(cat:Category {name:'Restaurants'})\n",
    "        \n",
    "         // Section 2\n",
    "         WITH b.id AS restaurants\n",
    "         \n",
    "         // Section 3\n",
    "         MATCH (r:Business)-[:IN_CATEGORY]->(c:Category)\n",
    "         WHERE r.id IN [restaurants]\n",
    "           AND c.name <> 'Restaurants'\n",
    "           \n",
    "         // Section 4\n",
    "         RETURN c.name as category, COUNT(r) as num_restaurants\n",
    "         ORDER BY num_restaurants DESC\n",
    "         LIMIT 10\n",
    "         \"\"\"\n",
    "\n",
    "with driver.session() as session:\n",
    "    result7 = session.run(query7)\n",
    "\n",
    "top_categories = pd.DataFrame([dict(record) for record in result7])\n",
    "display(top_categories)"
   ]
  },
  {
   "cell_type": "markdown",
   "metadata": {},
   "source": [
    "This is by far the most complex-looking query that we have seen in this module, but fear not, it's actually not that complicated! We have divided the query into 4 logical sections to help us better understand what exactly it's doing.\n",
    "\n",
    "Section 1 simply finds all businesses in Toronto that are in category `Restaurants`. Section 2 uses the `WITH` clause to allow the query result from Section 1 to be referenced in Section 3.  In this case, we are passing restaurant IDs to Section 3.  Still with me?  \n",
    "\n",
    "Section 3 then queries the graph again, but this time limiting the businesses to those from Section 1.  This is accomplished with the use of the `IN` statement in the `WHERE` clause.  Since we are only interested in categories associated with `Restaurants`, we choose not to display `Restaurants` as part of our result set.  This is done by adding an additional statement in the `WHERE` clause such that `c.name <> 'Restaurants'`.  \n",
    "\n",
    "Section 4 then uses the restaurants and categories from Section 3.  It groups by category and counts the number of restaurants belonging to that category.  It then limits the result set to the top 10 categories with the most number of restaurants.  \n",
    "\n",
    "That wasn't too bad, was it?  Now on to the output... Recall that we have a total of 7148 restaurants in Toronto.  The table above shows that of these restaurants, 1478/7148 or 21% are also tagged as being in category `Food`.  Perhaps this is not the most interesting insight, but if we look down the list, we do see variety in categories associated with restaurants in Toronto.  Of particular interest is the `Breakfast & Brunch` category as it has been a trend in Toronto for quite some time and continues to be popular.  This leads us to our final practice exercise."
   ]
  },
  {
   "cell_type": "markdown",
   "metadata": {},
   "source": [
    "#### Practice Exercise 3:  What are the top 10 neighborhoods with the most breakfast and brunch restaurants?"
   ]
  },
  {
   "cell_type": "code",
   "execution_count": 230,
   "metadata": {},
   "outputs": [
    {
     "data": {
      "text/html": [
       "<div>\n",
       "<style>\n",
       "    .dataframe thead tr:only-child th {\n",
       "        text-align: right;\n",
       "    }\n",
       "\n",
       "    .dataframe thead th {\n",
       "        text-align: left;\n",
       "    }\n",
       "\n",
       "    .dataframe tbody tr th {\n",
       "        vertical-align: top;\n",
       "    }\n",
       "</style>\n",
       "<table border=\"1\" class=\"dataframe\">\n",
       "  <thead>\n",
       "    <tr style=\"text-align: right;\">\n",
       "      <th></th>\n",
       "      <th>neighborhood</th>\n",
       "      <th>num_bnb</th>\n",
       "    </tr>\n",
       "  </thead>\n",
       "  <tbody>\n",
       "    <tr>\n",
       "      <th>0</th>\n",
       "      <td>Downtown Core</td>\n",
       "      <td>57</td>\n",
       "    </tr>\n",
       "    <tr>\n",
       "      <th>1</th>\n",
       "      <td>Leslieville</td>\n",
       "      <td>32</td>\n",
       "    </tr>\n",
       "    <tr>\n",
       "      <th>2</th>\n",
       "      <td>Church-Wellesley Village</td>\n",
       "      <td>21</td>\n",
       "    </tr>\n",
       "    <tr>\n",
       "      <th>3</th>\n",
       "      <td>Scarborough</td>\n",
       "      <td>21</td>\n",
       "    </tr>\n",
       "    <tr>\n",
       "      <th>4</th>\n",
       "      <td>Etobicoke</td>\n",
       "      <td>19</td>\n",
       "    </tr>\n",
       "    <tr>\n",
       "      <th>5</th>\n",
       "      <td>The Junction</td>\n",
       "      <td>19</td>\n",
       "    </tr>\n",
       "    <tr>\n",
       "      <th>6</th>\n",
       "      <td>Entertainment District</td>\n",
       "      <td>17</td>\n",
       "    </tr>\n",
       "    <tr>\n",
       "      <th>7</th>\n",
       "      <td>Kensington Market</td>\n",
       "      <td>17</td>\n",
       "    </tr>\n",
       "    <tr>\n",
       "      <th>8</th>\n",
       "      <td>Corktown</td>\n",
       "      <td>16</td>\n",
       "    </tr>\n",
       "    <tr>\n",
       "      <th>9</th>\n",
       "      <td>Yonge and Eglinton</td>\n",
       "      <td>14</td>\n",
       "    </tr>\n",
       "  </tbody>\n",
       "</table>\n",
       "</div>"
      ],
      "text/plain": [
       "               neighborhood  num_bnb\n",
       "0             Downtown Core       57\n",
       "1               Leslieville       32\n",
       "2  Church-Wellesley Village       21\n",
       "3               Scarborough       21\n",
       "4                 Etobicoke       19\n",
       "5              The Junction       19\n",
       "6    Entertainment District       17\n",
       "7         Kensington Market       17\n",
       "8                  Corktown       16\n",
       "9        Yonge and Eglinton       14"
      ]
     },
     "metadata": {},
     "output_type": "display_data"
    }
   ],
   "source": [
    "ex3 = \"\"\"\n",
    "      MATCH (b:Business)-[:IN_CITY]->(c:City {name:'Toronto'}),\n",
    "            (b)-[:IN_CATEGORY]->(cat:Category {name:'Breakfast & Brunch'})\n",
    "      WHERE b.neighborhood <> ''\n",
    "      RETURN b.neighborhood as neighborhood, COUNT(b) as num_bnb\n",
    "      ORDER BY num_bnb DESC\n",
    "      LIMIT 10\n",
    "      \"\"\"\n",
    "\n",
    "with driver.session() as session:\n",
    "    result_ex3 = session.run(ex3)\n",
    "\n",
    "top_neighborhoods_bnb = pd.DataFrame([dict(record) for record in result_ex3])\n",
    "display(top_neighborhoods_bnb)"
   ]
  },
  {
   "cell_type": "markdown",
   "metadata": {},
   "source": [
    "With the Downtown Core accounting for 9% of total restaurants in Toronto, it is not surprising that it is also the top neighborhood for `Breakfast & Brunch` restaurants.  Worth noting is Leslieville, an up-and-coming neighborhood, known for the ridiculous line-ups on weekends at [Lady Marmalade](http://ladymarmalade.ca) and [Bonjour Brioche](http://www.bonjourbrioche.com/)!\n",
    "\n",
    "This concludes the Exploratory Data Analysis module.  It's now time to showcase what you've learned!  :)"
   ]
  },
  {
   "cell_type": "markdown",
   "metadata": {},
   "source": [
    "### Quiz"
   ]
  },
  {
   "cell_type": "markdown",
   "metadata": {},
   "source": [
    "1: Given the following Cypher query, what value does it return? \n",
    "\n",
    "            MATCH (b:Business)-[:IN_CITY]->(c:City {name:'Toronto'}),                               \n",
    "                  (b)-[:IN_CATEGORY]->(cat:Category {name:'Restaurants'})\n",
    "            RETURN AVG(b.num_reviews) AS output\n",
    "\n",
    "    a. average number of restaurants in Toronto  \n",
    "    b. number of restaurants in Toronto  \n",
    "    c. number of reviews for restaurants in Toronto    \n",
    "    d. average number of reviews per restaurant in Toronto  "
   ]
  },
  {
   "cell_type": "markdown",
   "metadata": {},
   "source": [
    "2: How does Cypher filter result sets?  \n",
    "   \n",
    "    a. by using an `ORDER BY` clause  \n",
    "    b. by using graph patterns  \n",
    "    c. by using a `COUNT` expression  \n",
    "    d. by using a `WHERE` clause  "
   ]
  },
  {
   "cell_type": "markdown",
   "metadata": {},
   "source": [
    "3: What does the following Cypher query return?\n",
    "\n",
    "            MATCH (b:Business)-[:IN_CITY]->(c:City {name:'Toronto'}),                               \n",
    "                  (b)-[:IN_CATEGORY]->(cat:Category)\n",
    "            WHERE cat.name IN ['Italian','Cafes']\n",
    "            RETURN cat.name, COUNT(b)\n",
    "\n",
    "    a. count of businesses in all categories in Toronto\n",
    "    b. count of Italian Cafes in Toronto\n",
    "    c. count of Italian businesses and count of Cafes in Toronto \n",
    "    d. count of category names in Toronto  "
   ]
  },
  {
   "cell_type": "markdown",
   "metadata": {},
   "source": [
    "4: Which of the following can be used to connect Cypher queries?\n",
    "\n",
    "    a. RETURN \n",
    "    b. WITH  \n",
    "    c. DISTINCT  \n",
    "    d. HAVING"
   ]
  },
  {
   "cell_type": "markdown",
   "metadata": {},
   "source": [
    "5: Will the following Cypher query execute successfully?\n",
    "\n",
    "         MATCH (b:Business)-[:IN_CITY]->(c:City {name:'Toronto'}),\n",
    "               (b)-[:IN_CATEGORY]->(cat:Category)\n",
    "         WHERE b.category = 'Restaurants'\n",
    "         RETURN b.name as name, COUNT(DISTINCT(b.id)) as num_locations\n",
    "         HAVING num_locations > 10\n",
    "         \n",
    "    a. No, because the HAVING clause should be placed before the RETURN statement\n",
    "    b. No, because the RETURN statement cannot have an aggregate function  \n",
    "    c. Yes, because there is no problem with the query above  \n",
    "    d. No, because the HAVING clause is not valid in Cypher"
   ]
  },
  {
   "cell_type": "markdown",
   "metadata": {},
   "source": [
    "### TO DO:   \n",
    "CHANGE DRIVER IN LOAD CSV NOTEBOOK, CREATE NOTEBOOK FOR NEO4J IMPORT, COMPARE RUN TIMES OF LOAD CSV AND NEO4J IMPORT, ADD BUSINESS ADDRESS AND LONG/LAT TO DATA MODEL AND LOAD/IMPORT"
   ]
  }
 ],
 "metadata": {
  "kernelspec": {
   "display_name": "Python 3",
   "language": "python",
   "name": "python3"
  },
  "language_info": {
   "codemirror_mode": {
    "name": "ipython",
    "version": 3
   },
   "file_extension": ".py",
   "mimetype": "text/x-python",
   "name": "python",
   "nbconvert_exporter": "python",
   "pygments_lexer": "ipython3",
   "version": "3.6.1"
  }
 },
 "nbformat": 4,
 "nbformat_minor": 2
}
