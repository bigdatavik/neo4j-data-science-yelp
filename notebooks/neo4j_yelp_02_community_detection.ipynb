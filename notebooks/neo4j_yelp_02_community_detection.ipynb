{
 "cells": [
  {
   "cell_type": "markdown",
   "metadata": {},
   "source": [
    "# Data Science with Neo4j Using Yelp Data"
   ]
  },
  {
   "cell_type": "markdown",
   "metadata": {},
   "source": [
    "### Module 2: Segmentation and Community Detection (Work in Progress)"
   ]
  },
  {
   "cell_type": "markdown",
   "metadata": {},
   "source": [
    "Goal: Find communities based on categories of restaurants users review      \n",
    "\n",
    "Algorithm: Label Propagation\n",
    "\n",
    "High Level Approach:\n",
    "      \n",
    "- Subset data to only include restaurants in Toronto.  Consequently, this means we are only considering users who reviewed restaurants in Toronto.\n",
    "- Population:  1251 users, 1707 businesses, 81 categories\n",
    "- Relationships: user REVIEWED business, business IN_CATEGORY, user REVIEWED_CATEGORY\n",
    "- Create weights between users to form tighter communities (jaccard index between users based on # restaurant categories)\n",
    "- Draw parallels with traditional data science clustering approaches (eg: k-means, kNN)"
   ]
  },
  {
   "cell_type": "code",
   "execution_count": 17,
   "metadata": {},
   "outputs": [],
   "source": [
    "from neo4j.v1 import GraphDatabase, basic_auth\n",
    "import pandas as pd\n",
    "import matplotlib.pyplot as plt\n",
    "import os"
   ]
  },
  {
   "cell_type": "code",
   "execution_count": 18,
   "metadata": {},
   "outputs": [],
   "source": [
    "uri  = os.getenv('NEO4J_URI',  'bolt://localhost:7687')\n",
    "user = os.getenv('NEO4J_USER', 'neo4j')\n",
    "pwd  = os.getenv('NEO4J_PWD',  'neo4j')\n",
    "\n",
    "driver = GraphDatabase.driver(uri, auth=basic_auth(user, pwd))"
   ]
  },
  {
   "cell_type": "markdown",
   "metadata": {},
   "source": [
    "#### Part 1: Compute Jaccard index between user pairs"
   ]
  },
  {
   "cell_type": "code",
   "execution_count": 109,
   "metadata": {},
   "outputs": [
    {
     "name": "stdout",
     "output_type": "stream",
     "text": [
      "CPU times: user 2 ms, sys: 2.35 ms, total: 4.35 ms\n",
      "Wall time: 1.07 s\n"
     ]
    }
   ],
   "source": [
    "%%time\n",
    "\n",
    "# first, create relationship between users and categories.\n",
    "query = \"\"\"\n",
    "        MATCH (u:User)-[:REVIEWED]->(b:Business)-[:IN_CATEGORY]->(c:Category)\n",
    "        WITH u, c, COUNT(DISTINCT b) as num_business\n",
    "        CREATE (u)-[:REVIEWED_CATEGORY {num_reviewed: num_business}]->(c)        \n",
    "        \"\"\"     \n",
    "\n",
    "with driver.session() as session:\n",
    "    result = session.run(query)"
   ]
  },
  {
   "cell_type": "code",
   "execution_count": 19,
   "metadata": {},
   "outputs": [
    {
     "data": {
      "text/plain": [
       "[{'COUNT(r)': 69186}]"
      ]
     },
     "metadata": {},
     "output_type": "display_data"
    },
    {
     "name": "stdout",
     "output_type": "stream",
     "text": [
      "CPU times: user 6.09 ms, sys: 2.15 ms, total: 8.24 ms\n",
      "Wall time: 38.6 ms\n"
     ]
    }
   ],
   "source": [
    "%%time\n",
    "\n",
    "# count number of REVIEWED_CATEGORY relationships\n",
    "query = \"\"\"\n",
    "        MATCH ()-[r:REVIEWED_CATEGORY]->()\n",
    "        RETURN COUNT(r)\n",
    "        \"\"\"     \n",
    "\n",
    "with driver.session() as session:\n",
    "    result = session.run(query)\n",
    "    \n",
    "result_df = [dict(record) for record in result]\n",
    "display(result_df)"
   ]
  },
  {
   "cell_type": "code",
   "execution_count": 161,
   "metadata": {},
   "outputs": [
    {
     "name": "stdout",
     "output_type": "stream",
     "text": [
      "CPU times: user 7.26 ms, sys: 5.7 ms, total: 13 ms\n",
      "Wall time: 2min 22s\n"
     ]
    }
   ],
   "source": [
    "%%time\n",
    "\n",
    "# compute intersection, union and jaccard index and store the index in the graph\n",
    "query = \"\"\"\n",
    "        MATCH (u1:User)-[:REVIEWED_CATEGORY]->(c:Category)<-[:REVIEWED_CATEGORY]-(u2:User)\n",
    "        WHERE id(u1) < id(u2) \n",
    "        WITH  u1, u2, COUNT(DISTINCT c) as intersection_count, \n",
    "                SIZE((u1)-[:REVIEWED_CATEGORY]->()) as cat1,\n",
    "                SIZE((u2)-[:REVIEWED_CATEGORY]->()) as cat2\n",
    "        WITH  u1, u2, (intersection_count * 1.0) / (cat1 + cat2 - intersection_count) as jaccard_index\n",
    "        CREATE (u1)-[:SIMILAR_TO {similarity: jaccard_index}]->(u2)\n",
    "        \"\"\"     \n",
    "\n",
    "with driver.session() as session:\n",
    "    result = session.run(query)"
   ]
  },
  {
   "cell_type": "code",
   "execution_count": 158,
   "metadata": {},
   "outputs": [
    {
     "data": {
      "text/html": [
       "<div>\n",
       "<style scoped>\n",
       "    .dataframe tbody tr th:only-of-type {\n",
       "        vertical-align: middle;\n",
       "    }\n",
       "\n",
       "    .dataframe tbody tr th {\n",
       "        vertical-align: top;\n",
       "    }\n",
       "\n",
       "    .dataframe thead th {\n",
       "        text-align: right;\n",
       "    }\n",
       "</style>\n",
       "<table border=\"1\" class=\"dataframe\">\n",
       "  <thead>\n",
       "    <tr style=\"text-align: right;\">\n",
       "      <th></th>\n",
       "      <th>cat1</th>\n",
       "      <th>cat2</th>\n",
       "      <th>intersection_count</th>\n",
       "      <th>jaccard_index</th>\n",
       "      <th>u1.id</th>\n",
       "      <th>u2.id</th>\n",
       "    </tr>\n",
       "  </thead>\n",
       "  <tbody>\n",
       "    <tr>\n",
       "      <th>0</th>\n",
       "      <td>38</td>\n",
       "      <td>41</td>\n",
       "      <td>20</td>\n",
       "      <td>0.338983</td>\n",
       "      <td>q6AMn2HPGYVsD31NB1K9xg</td>\n",
       "      <td>Tc3GAQdAfOW542ROdyCZPg</td>\n",
       "    </tr>\n",
       "    <tr>\n",
       "      <th>1</th>\n",
       "      <td>43</td>\n",
       "      <td>38</td>\n",
       "      <td>14</td>\n",
       "      <td>0.208955</td>\n",
       "      <td>o5hk57cqhWnV1sULPvq1jw</td>\n",
       "      <td>Nr2uHirba5WNcG0vOXoVDA</td>\n",
       "    </tr>\n",
       "    <tr>\n",
       "      <th>2</th>\n",
       "      <td>41</td>\n",
       "      <td>46</td>\n",
       "      <td>20</td>\n",
       "      <td>0.298507</td>\n",
       "      <td>rKEJfzCIV0AXKo0kdzPBgQ</td>\n",
       "      <td>0BaJ43WuBnP-G6fmstEmNQ</td>\n",
       "    </tr>\n",
       "    <tr>\n",
       "      <th>3</th>\n",
       "      <td>51</td>\n",
       "      <td>52</td>\n",
       "      <td>23</td>\n",
       "      <td>0.287500</td>\n",
       "      <td>FSzxEJHeDjEB6Lsotqc1Qg</td>\n",
       "      <td>8-GTQbes8cfy5QRpjVy7bg</td>\n",
       "    </tr>\n",
       "    <tr>\n",
       "      <th>4</th>\n",
       "      <td>48</td>\n",
       "      <td>33</td>\n",
       "      <td>22</td>\n",
       "      <td>0.372881</td>\n",
       "      <td>XuCbLgo9j1q5dDh9251vkg</td>\n",
       "      <td>bIXj8nZWd9f3vEHzPUJ4lg</td>\n",
       "    </tr>\n",
       "  </tbody>\n",
       "</table>\n",
       "</div>"
      ],
      "text/plain": [
       "   cat1  cat2  intersection_count  jaccard_index                   u1.id  \\\n",
       "0    38    41                  20       0.338983  q6AMn2HPGYVsD31NB1K9xg   \n",
       "1    43    38                  14       0.208955  o5hk57cqhWnV1sULPvq1jw   \n",
       "2    41    46                  20       0.298507  rKEJfzCIV0AXKo0kdzPBgQ   \n",
       "3    51    52                  23       0.287500  FSzxEJHeDjEB6Lsotqc1Qg   \n",
       "4    48    33                  22       0.372881  XuCbLgo9j1q5dDh9251vkg   \n",
       "\n",
       "                    u2.id  \n",
       "0  Tc3GAQdAfOW542ROdyCZPg  \n",
       "1  Nr2uHirba5WNcG0vOXoVDA  \n",
       "2  0BaJ43WuBnP-G6fmstEmNQ  \n",
       "3  8-GTQbes8cfy5QRpjVy7bg  \n",
       "4  bIXj8nZWd9f3vEHzPUJ4lg  "
      ]
     },
     "metadata": {},
     "output_type": "display_data"
    },
    {
     "data": {
      "text/plain": [
       "(781875, 6)"
      ]
     },
     "metadata": {},
     "output_type": "display_data"
    }
   ],
   "source": [
    "jaccard_df = pd.DataFrame([dict(record) for record in result])\n",
    "    \n",
    "display(jaccard_df.head())\n",
    "display(jaccard_df.shape)"
   ]
  },
  {
   "cell_type": "code",
   "execution_count": 21,
   "metadata": {},
   "outputs": [
    {
     "name": "stdout",
     "output_type": "stream",
     "text": [
      "CPU times: user 1.69 ms, sys: 2.08 ms, total: 3.76 ms\n",
      "Wall time: 35.5 ms\n"
     ]
    }
   ],
   "source": [
    "%%time\n",
    "# delete\n",
    "query = \"\"\"\n",
    "        MATCH ()-[r:SIMILAR_TO]->()\n",
    "        RETURN COUNT(r)       \n",
    "        \"\"\"     \n",
    "\n",
    "with driver.session() as session:\n",
    "    result = session.run(query)"
   ]
  },
  {
   "cell_type": "code",
   "execution_count": 22,
   "metadata": {},
   "outputs": [
    {
     "data": {
      "text/html": [
       "<div>\n",
       "<style scoped>\n",
       "    .dataframe tbody tr th:only-of-type {\n",
       "        vertical-align: middle;\n",
       "    }\n",
       "\n",
       "    .dataframe tbody tr th {\n",
       "        vertical-align: top;\n",
       "    }\n",
       "\n",
       "    .dataframe thead th {\n",
       "        text-align: right;\n",
       "    }\n",
       "</style>\n",
       "<table border=\"1\" class=\"dataframe\">\n",
       "  <thead>\n",
       "    <tr style=\"text-align: right;\">\n",
       "      <th></th>\n",
       "      <th>COUNT(r)</th>\n",
       "    </tr>\n",
       "  </thead>\n",
       "  <tbody>\n",
       "    <tr>\n",
       "      <th>0</th>\n",
       "      <td>781875</td>\n",
       "    </tr>\n",
       "  </tbody>\n",
       "</table>\n",
       "</div>"
      ],
      "text/plain": [
       "   COUNT(r)\n",
       "0    781875"
      ]
     },
     "metadata": {},
     "output_type": "display_data"
    }
   ],
   "source": [
    "similarto_df = pd.DataFrame([dict(record) for record in result])\n",
    "    \n",
    "display(similarto_df.head())"
   ]
  },
  {
   "cell_type": "markdown",
   "metadata": {},
   "source": [
    "#### Part 2: Label Propagation"
   ]
  },
  {
   "cell_type": "code",
   "execution_count": 194,
   "metadata": {},
   "outputs": [
    {
     "name": "stdout",
     "output_type": "stream",
     "text": [
      "<Record nodes=1251 iterations=2 didConverge=False loadMillis=390 computeMillis=86 writeMillis=2 write=True partitionProperty='cluster'>\n",
      "CPU times: user 2.24 ms, sys: 2.09 ms, total: 4.33 ms\n",
      "Wall time: 565 ms\n"
     ]
    }
   ],
   "source": [
    "%%time\n",
    "\n",
    "# call label prop using jaccard index as weight\n",
    "query = \"\"\"\n",
    "        CALL algo.labelPropagation('User', 'SIMILAR_TO','OUTGOING',\n",
    "            {iterations:2, partitionProperty:'cluster', weightProperty:'similarity', write: true})\n",
    "        YIELD nodes, iterations, didConverge, loadMillis, computeMillis, writeMillis, write, partitionProperty;\n",
    "        \"\"\"\n",
    "\n",
    "with driver.session() as session:\n",
    "    result = session.run(query)\n",
    "    for row in result:\n",
    "        print(row)"
   ]
  },
  {
   "cell_type": "code",
   "execution_count": 23,
   "metadata": {},
   "outputs": [
    {
     "name": "stdout",
     "output_type": "stream",
     "text": [
      "<Record (u.cluster)=1249>\n",
      "<Record (u.cluster)=1234>\n",
      "<Record (u.cluster)=1250>\n",
      "<Record (u.cluster)=1011>\n",
      "<Record (u.cluster)=1242>\n",
      "<Record (u.cluster)=1245>\n",
      "<Record (u.cluster)=1247>\n",
      "CPU times: user 2.16 ms, sys: 2.4 ms, total: 4.55 ms\n",
      "Wall time: 22.9 ms\n"
     ]
    }
   ],
   "source": [
    "%%time\n",
    "\n",
    "query = \"\"\"\n",
    "        MATCH (u:User)\n",
    "        RETURN distinct(u.cluster) \n",
    "        \"\"\"     \n",
    "\n",
    "with driver.session() as session:\n",
    "    result = session.run(query)\n",
    "\n",
    "for row in result:\n",
    "    print(row)"
   ]
  },
  {
   "cell_type": "code",
   "execution_count": null,
   "metadata": {},
   "outputs": [],
   "source": []
  },
  {
   "cell_type": "code",
   "execution_count": null,
   "metadata": {},
   "outputs": [],
   "source": []
  },
  {
   "cell_type": "code",
   "execution_count": null,
   "metadata": {},
   "outputs": [],
   "source": []
  },
  {
   "cell_type": "code",
   "execution_count": null,
   "metadata": {},
   "outputs": [],
   "source": []
  },
  {
   "cell_type": "code",
   "execution_count": null,
   "metadata": {},
   "outputs": [],
   "source": []
  }
 ],
 "metadata": {
  "kernelspec": {
   "display_name": "Python 3",
   "language": "python",
   "name": "python3"
  },
  "language_info": {
   "codemirror_mode": {
    "name": "ipython",
    "version": 3
   },
   "file_extension": ".py",
   "mimetype": "text/x-python",
   "name": "python",
   "nbconvert_exporter": "python",
   "pygments_lexer": "ipython3",
   "version": "3.6.1"
  }
 },
 "nbformat": 4,
 "nbformat_minor": 2
}
